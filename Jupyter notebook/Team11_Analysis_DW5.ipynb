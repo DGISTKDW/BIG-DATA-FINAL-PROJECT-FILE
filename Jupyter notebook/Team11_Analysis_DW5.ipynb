{
 "cells": [
  {
   "cell_type": "code",
   "execution_count": 1,
   "metadata": {
    "collapsed": true
   },
   "outputs": [],
   "source": [
    "import numpy as np\n",
    "import pandas as pd\n",
    "import matplotlib.pyplot as plt\n",
    "import seaborn as sns; sns.set_style(\"whitegrid\")\n",
    "from pylab import figure, axes, pie, title, savefig"
   ]
  },
  {
   "cell_type": "code",
   "execution_count": 2,
   "metadata": {
    "collapsed": true
   },
   "outputs": [],
   "source": [
    "JR_2013 = pd.read_csv('NHIS_OPEN_T20_2013.csv', encoding='CP949')\n",
    "JR_2014 = pd.read_csv('NHIS_OPEN_T20_2014.csv', encoding='CP949')\n",
    "JR_2015 = pd.read_csv('NHIS_OPEN_T20_2015.csv', encoding='CP949')"
   ]
  },
  {
   "cell_type": "code",
   "execution_count": 3,
   "metadata": {
    "collapsed": false,
    "scrolled": true
   },
   "outputs": [
    {
     "data": {
      "text/html": [
       "<div>\n",
       "<table border=\"1\" class=\"dataframe\">\n",
       "  <thead>\n",
       "    <tr style=\"text-align: right;\">\n",
       "      <th></th>\n",
       "      <th>기준년도</th>\n",
       "      <th>가입자 일련번호</th>\n",
       "      <th>진료내역일련번호</th>\n",
       "      <th>성별코드</th>\n",
       "      <th>연령대코드</th>\n",
       "      <th>시도코드</th>\n",
       "      <th>요양개시일자</th>\n",
       "      <th>서식코드</th>\n",
       "      <th>진료과목코드</th>\n",
       "      <th>주상병코드</th>\n",
       "      <th>부상병코드</th>\n",
       "      <th>요양일수</th>\n",
       "      <th>입내원일수</th>\n",
       "      <th>심결가산율</th>\n",
       "      <th>심결요양급여비용총액</th>\n",
       "      <th>심결본인부담금</th>\n",
       "      <th>심결보험자부담금</th>\n",
       "      <th>총처방일수</th>\n",
       "      <th>데이터 기준일자</th>\n",
       "    </tr>\n",
       "  </thead>\n",
       "  <tbody>\n",
       "    <tr>\n",
       "      <th>0</th>\n",
       "      <td>2013</td>\n",
       "      <td>287350</td>\n",
       "      <td>1</td>\n",
       "      <td>2</td>\n",
       "      <td>9</td>\n",
       "      <td>11</td>\n",
       "      <td>20131212</td>\n",
       "      <td>3</td>\n",
       "      <td>14</td>\n",
       "      <td>L033</td>\n",
       "      <td>R195</td>\n",
       "      <td>1</td>\n",
       "      <td>1</td>\n",
       "      <td>15</td>\n",
       "      <td>13190</td>\n",
       "      <td>3900</td>\n",
       "      <td>9290</td>\n",
       "      <td>4</td>\n",
       "      <td>20151220</td>\n",
       "    </tr>\n",
       "    <tr>\n",
       "      <th>1</th>\n",
       "      <td>2013</td>\n",
       "      <td>96615</td>\n",
       "      <td>2</td>\n",
       "      <td>1</td>\n",
       "      <td>11</td>\n",
       "      <td>11</td>\n",
       "      <td>20131227</td>\n",
       "      <td>3</td>\n",
       "      <td>14</td>\n",
       "      <td>L259</td>\n",
       "      <td>NaN</td>\n",
       "      <td>1</td>\n",
       "      <td>1</td>\n",
       "      <td>15</td>\n",
       "      <td>13190</td>\n",
       "      <td>3900</td>\n",
       "      <td>9290</td>\n",
       "      <td>4</td>\n",
       "      <td>20151220</td>\n",
       "    </tr>\n",
       "    <tr>\n",
       "      <th>2</th>\n",
       "      <td>2013</td>\n",
       "      <td>96615</td>\n",
       "      <td>3</td>\n",
       "      <td>1</td>\n",
       "      <td>11</td>\n",
       "      <td>11</td>\n",
       "      <td>20131231</td>\n",
       "      <td>3</td>\n",
       "      <td>14</td>\n",
       "      <td>L259</td>\n",
       "      <td>NaN</td>\n",
       "      <td>1</td>\n",
       "      <td>1</td>\n",
       "      <td>15</td>\n",
       "      <td>9430</td>\n",
       "      <td>2800</td>\n",
       "      <td>6630</td>\n",
       "      <td>4</td>\n",
       "      <td>20151220</td>\n",
       "    </tr>\n",
       "    <tr>\n",
       "      <th>3</th>\n",
       "      <td>2013</td>\n",
       "      <td>295197</td>\n",
       "      <td>4</td>\n",
       "      <td>2</td>\n",
       "      <td>4</td>\n",
       "      <td>11</td>\n",
       "      <td>20131227</td>\n",
       "      <td>3</td>\n",
       "      <td>14</td>\n",
       "      <td>L259</td>\n",
       "      <td>NaN</td>\n",
       "      <td>1</td>\n",
       "      <td>1</td>\n",
       "      <td>15</td>\n",
       "      <td>13190</td>\n",
       "      <td>3900</td>\n",
       "      <td>9290</td>\n",
       "      <td>1</td>\n",
       "      <td>20151220</td>\n",
       "    </tr>\n",
       "    <tr>\n",
       "      <th>4</th>\n",
       "      <td>2013</td>\n",
       "      <td>586622</td>\n",
       "      <td>5</td>\n",
       "      <td>1</td>\n",
       "      <td>16</td>\n",
       "      <td>11</td>\n",
       "      <td>20131210</td>\n",
       "      <td>3</td>\n",
       "      <td>14</td>\n",
       "      <td>N408</td>\n",
       "      <td>NaN</td>\n",
       "      <td>1</td>\n",
       "      <td>1</td>\n",
       "      <td>15</td>\n",
       "      <td>9430</td>\n",
       "      <td>1500</td>\n",
       "      <td>7930</td>\n",
       "      <td>30</td>\n",
       "      <td>20151220</td>\n",
       "    </tr>\n",
       "  </tbody>\n",
       "</table>\n",
       "</div>"
      ],
      "text/plain": [
       "   기준년도  가입자 일련번호  진료내역일련번호  성별코드  연령대코드  시도코드    요양개시일자  서식코드  진료과목코드 주상병코드  \\\n",
       "0  2013    287350         1     2      9    11  20131212     3      14  L033   \n",
       "1  2013     96615         2     1     11    11  20131227     3      14  L259   \n",
       "2  2013     96615         3     1     11    11  20131231     3      14  L259   \n",
       "3  2013    295197         4     2      4    11  20131227     3      14  L259   \n",
       "4  2013    586622         5     1     16    11  20131210     3      14  N408   \n",
       "\n",
       "  부상병코드  요양일수  입내원일수  심결가산율  심결요양급여비용총액  심결본인부담금  심결보험자부담금  총처방일수  데이터 기준일자  \n",
       "0  R195     1      1     15       13190     3900      9290      4  20151220  \n",
       "1   NaN     1      1     15       13190     3900      9290      4  20151220  \n",
       "2   NaN     1      1     15        9430     2800      6630      4  20151220  \n",
       "3   NaN     1      1     15       13190     3900      9290      1  20151220  \n",
       "4   NaN     1      1     15        9430     1500      7930     30  20151220  "
      ]
     },
     "execution_count": 3,
     "metadata": {},
     "output_type": "execute_result"
    }
   ],
   "source": [
    "JR_2010_2015 = pd.concat([JR_2013, JR_2014, JR_2015])\n",
    "JR_2010_2015.head()"
   ]
  },
  {
   "cell_type": "markdown",
   "metadata": {},
   "source": [
    "## Counting Patient with treat_kind 1 (Month Criteria)"
   ]
  },
  {
   "cell_type": "code",
   "execution_count": 4,
   "metadata": {
    "collapsed": false,
    "scrolled": true
   },
   "outputs": [
    {
     "name": "stderr",
     "output_type": "stream",
     "text": [
      "C:\\ProgramData\\Anaconda3\\lib\\site-packages\\ipykernel\\__main__.py:2: SettingWithCopyWarning: \n",
      "A value is trying to be set on a copy of a slice from a DataFrame.\n",
      "Try using .loc[row_indexer,col_indexer] = value instead\n",
      "\n",
      "See the caveats in the documentation: http://pandas.pydata.org/pandas-docs/stable/indexing.html#indexing-view-versus-copy\n",
      "  from ipykernel import kernelapp as app\n"
     ]
    },
    {
     "data": {
      "text/html": [
       "<div>\n",
       "<table border=\"1\" class=\"dataframe\">\n",
       "  <thead>\n",
       "    <tr style=\"text-align: right;\">\n",
       "      <th></th>\n",
       "      <th>Month</th>\n",
       "      <th>Total_patients</th>\n",
       "    </tr>\n",
       "  </thead>\n",
       "  <tbody>\n",
       "    <tr>\n",
       "      <th>0</th>\n",
       "      <td>1</td>\n",
       "      <td>905777</td>\n",
       "    </tr>\n",
       "    <tr>\n",
       "      <th>1</th>\n",
       "      <td>2</td>\n",
       "      <td>852628</td>\n",
       "    </tr>\n",
       "    <tr>\n",
       "      <th>2</th>\n",
       "      <td>3</td>\n",
       "      <td>939279</td>\n",
       "    </tr>\n",
       "    <tr>\n",
       "      <th>3</th>\n",
       "      <td>4</td>\n",
       "      <td>923154</td>\n",
       "    </tr>\n",
       "    <tr>\n",
       "      <th>4</th>\n",
       "      <td>5</td>\n",
       "      <td>852992</td>\n",
       "    </tr>\n",
       "  </tbody>\n",
       "</table>\n",
       "</div>"
      ],
      "text/plain": [
       "   Month  Total_patients\n",
       "0      1          905777\n",
       "1      2          852628\n",
       "2      3          939279\n",
       "3      4          923154\n",
       "4      5          852992"
      ]
     },
     "execution_count": 4,
     "metadata": {},
     "output_type": "execute_result"
    }
   ],
   "source": [
    "tk_2010_2015 = JR_2010_2015[['요양개시일자', '진료과목코드']]\n",
    "tk_2010_2015['요양개시일자'] = pd.to_datetime(tk_2010_2015['요양개시일자'], format = '%Y%m%d', errors = 'coerce')\n",
    "tk_2010_2015_code1 = tk_2010_2015[tk_2010_2015['진료과목코드'] == 1]\n",
    "tk_2010_2015_code1_ct = tk_2010_2015_code1['요양개시일자'].groupby(tk_2010_2015_code1.요양개시일자.dt.month).agg('count')\n",
    "tk_2010_2015_code1_ct = pd.DataFrame(tk_2010_2015_code1_ct)\n",
    "plt.figure()\n",
    "tk_2010_2015_code1_ct = tk_2010_2015_code1_ct.rename(columns= {'요양개시일자': 'Total_patients'})\n",
    "tk_2010_2015_code1_ct = tk_2010_2015_code1_ct.reset_index()\n",
    "tk_2010_2015_code1_ct = tk_2010_2015_code1_ct.rename(columns = {'요양개시일자': 'Month'})\n",
    "tk_2010_2015_code1_ct.head()"
   ]
  },
  {
   "cell_type": "markdown",
   "metadata": {},
   "source": [
    "## Visualization treat_kind 1 with Month"
   ]
  },
  {
   "cell_type": "code",
   "execution_count": 5,
   "metadata": {
    "collapsed": false
   },
   "outputs": [],
   "source": [
    "f, ax = plt.subplots(figsize = (10, 15))\n",
    "\n",
    "# plot the total treat_kind 1\n",
    "sns.barplot(x = 'Month', y = 'Total_patients', data = tk_2010_2015_code1_ct)\n",
    "plt.savefig('내과 월별 이용 인원.png', dpi=1000)"
   ]
  },
  {
   "cell_type": "markdown",
   "metadata": {},
   "source": [
    "## Find max value and making new table (3 large value)"
   ]
  },
  {
   "cell_type": "code",
   "execution_count": 6,
   "metadata": {
    "collapsed": false
   },
   "outputs": [
    {
     "data": {
      "text/html": [
       "<div>\n",
       "<table border=\"1\" class=\"dataframe\">\n",
       "  <thead>\n",
       "    <tr style=\"text-align: right;\">\n",
       "      <th></th>\n",
       "      <th>Month</th>\n",
       "      <th>Total_patients</th>\n",
       "    </tr>\n",
       "  </thead>\n",
       "  <tbody>\n",
       "    <tr>\n",
       "      <th>11</th>\n",
       "      <td>12</td>\n",
       "      <td>964808</td>\n",
       "    </tr>\n",
       "    <tr>\n",
       "      <th>2</th>\n",
       "      <td>3</td>\n",
       "      <td>939279</td>\n",
       "    </tr>\n",
       "    <tr>\n",
       "      <th>3</th>\n",
       "      <td>4</td>\n",
       "      <td>923154</td>\n",
       "    </tr>\n",
       "  </tbody>\n",
       "</table>\n",
       "</div>"
      ],
      "text/plain": [
       "    Month  Total_patients\n",
       "11     12          964808\n",
       "2       3          939279\n",
       "3       4          923154"
      ]
     },
     "execution_count": 6,
     "metadata": {},
     "output_type": "execute_result"
    }
   ],
   "source": [
    "tk_2010_2015_code1_ct = tk_2010_2015_code1_ct.sort_values(by='Total_patients', ascending = False)\n",
    "tk_2010_2015_code1_ct_large = tk_2010_2015_code1_ct.iloc[0:3]\n",
    "tk_2010_2015_code1_ct_large"
   ]
  },
  {
   "cell_type": "code",
   "execution_count": 7,
   "metadata": {
    "collapsed": false
   },
   "outputs": [
    {
     "name": "stderr",
     "output_type": "stream",
     "text": [
      "C:\\ProgramData\\Anaconda3\\lib\\site-packages\\ipykernel\\__main__.py:3: SettingWithCopyWarning: \n",
      "A value is trying to be set on a copy of a slice from a DataFrame\n",
      "\n",
      "See the caveats in the documentation: http://pandas.pydata.org/pandas-docs/stable/indexing.html#indexing-view-versus-copy\n",
      "  app.launch_new_instance()\n"
     ]
    },
    {
     "data": {
      "text/html": [
       "<div>\n",
       "<table border=\"1\" class=\"dataframe\">\n",
       "  <thead>\n",
       "    <tr style=\"text-align: right;\">\n",
       "      <th></th>\n",
       "      <th>Month</th>\n",
       "      <th>Total_patients</th>\n",
       "    </tr>\n",
       "  </thead>\n",
       "  <tbody>\n",
       "    <tr>\n",
       "      <th>0</th>\n",
       "      <td>12</td>\n",
       "      <td>964808</td>\n",
       "    </tr>\n",
       "    <tr>\n",
       "      <th>1</th>\n",
       "      <td>3</td>\n",
       "      <td>939279</td>\n",
       "    </tr>\n",
       "    <tr>\n",
       "      <th>2</th>\n",
       "      <td>4</td>\n",
       "      <td>923154</td>\n",
       "    </tr>\n",
       "    <tr>\n",
       "      <th>3</th>\n",
       "      <td>ect</td>\n",
       "      <td>7462274</td>\n",
       "    </tr>\n",
       "  </tbody>\n",
       "</table>\n",
       "</div>"
      ],
      "text/plain": [
       "  Month  Total_patients\n",
       "0    12          964808\n",
       "1     3          939279\n",
       "2     4          923154\n",
       "3   ect         7462274"
      ]
     },
     "execution_count": 7,
     "metadata": {},
     "output_type": "execute_result"
    }
   ],
   "source": [
    "tk_2010_2015_code1_ct_ect = tk_2010_2015_code1_ct.iloc[3:12]\n",
    "tk_2010_2015_code1_ct_ect = tk_2010_2015_code1_ct_ect['Total_patients'].sum()\n",
    "tk_2010_2015_code1_ct_large.loc[4] = ['ect', tk_2010_2015_code1_ct_ect]\n",
    "tk_2010_2015_code1_ct_graph = tk_2010_2015_code1_ct_large.reset_index().drop('index', axis = 1)\n",
    "tk_2010_2015_code1_ct_graph"
   ]
  },
  {
   "cell_type": "code",
   "execution_count": 8,
   "metadata": {
    "collapsed": false
   },
   "outputs": [],
   "source": [
    "color = ['forestgreen', 'limegreen', 'palegreen', 'honeydew']\n",
    "tk_2010_2015_code1_ct_graph.plot(kind = 'pie', y = 'Total_patients', autopct = '%1.1f%%', startangle = 90, labels = tk_2010_2015_code1_ct_graph['Month'], legend = True, colors = color)\n",
    "# plt.pie(tk_2010_2015_code1_ct_graph['Total_patients'], shadow = True, startangle = 0, autopct='%1.1f%%')\n",
    "plt.axis('equal')\n",
    "plt.tight_layout()\n",
    "savefig('내과 월별 이용 인원 pie chart.png', dpi = 1000)"
   ]
  },
  {
   "cell_type": "markdown",
   "metadata": {},
   "source": [
    "\n",
    "## Find 3 large main_sick with Month"
   ]
  },
  {
   "cell_type": "code",
   "execution_count": 9,
   "metadata": {
    "collapsed": false,
    "scrolled": false
   },
   "outputs": [
    {
     "data": {
      "text/html": [
       "<div>\n",
       "<table border=\"1\" class=\"dataframe\">\n",
       "  <thead>\n",
       "    <tr style=\"text-align: right;\">\n",
       "      <th></th>\n",
       "      <th>rec_date</th>\n",
       "      <th>treat_kind</th>\n",
       "      <th>main_sick</th>\n",
       "    </tr>\n",
       "  </thead>\n",
       "  <tbody>\n",
       "    <tr>\n",
       "      <th>33</th>\n",
       "      <td>2013-12-05</td>\n",
       "      <td>1</td>\n",
       "      <td>J069</td>\n",
       "    </tr>\n",
       "    <tr>\n",
       "      <th>40</th>\n",
       "      <td>2013-12-16</td>\n",
       "      <td>1</td>\n",
       "      <td>J458</td>\n",
       "    </tr>\n",
       "    <tr>\n",
       "      <th>41</th>\n",
       "      <td>2013-12-21</td>\n",
       "      <td>1</td>\n",
       "      <td>J303</td>\n",
       "    </tr>\n",
       "    <tr>\n",
       "      <th>42</th>\n",
       "      <td>2013-12-26</td>\n",
       "      <td>1</td>\n",
       "      <td>J460</td>\n",
       "    </tr>\n",
       "    <tr>\n",
       "      <th>70</th>\n",
       "      <td>2013-12-09</td>\n",
       "      <td>1</td>\n",
       "      <td>J450</td>\n",
       "    </tr>\n",
       "  </tbody>\n",
       "</table>\n",
       "</div>"
      ],
      "text/plain": [
       "     rec_date  treat_kind main_sick\n",
       "33 2013-12-05           1      J069\n",
       "40 2013-12-16           1      J458\n",
       "41 2013-12-21           1      J303\n",
       "42 2013-12-26           1      J460\n",
       "70 2013-12-09           1      J450"
      ]
     },
     "execution_count": 9,
     "metadata": {},
     "output_type": "execute_result"
    }
   ],
   "source": [
    "JR_2010_2015 = JR_2010_2015[['요양개시일자', '진료과목코드', '주상병코드']].rename(columns={'요양개시일자': 'rec_date', '진료과목코드': 'treat_kind', '주상병코드': 'main_sick'})\n",
    "ms_2010_2015 = JR_2010_2015[['rec_date', 'treat_kind', 'main_sick']]\n",
    "ms_2010_2015['rec_date'] = pd.to_datetime(ms_2010_2015['rec_date'], format = '%Y%m%d', errors = 'coerce')\n",
    "ms_2010_2015_code1 = ms_2010_2015[ms_2010_2015['treat_kind'] == 1]\n",
    "ms_2010_2015_code1_st = ms_2010_2015_code1.rec_date.dt.month == tk_2010_2015_code1_ct_graph.ix[0, 'Month']\n",
    "ms_2010_2015_code1_st = ms_2010_2015_code1[ms_2010_2015_code1_st]\n",
    "ms_2010_2015_code1_st.head()"
   ]
  },
  {
   "cell_type": "code",
   "execution_count": 10,
   "metadata": {
    "collapsed": false
   },
   "outputs": [
    {
     "data": {
      "text/html": [
       "<div>\n",
       "<table border=\"1\" class=\"dataframe\">\n",
       "  <thead>\n",
       "    <tr style=\"text-align: right;\">\n",
       "      <th></th>\n",
       "      <th>rec_date</th>\n",
       "      <th>treat_kind</th>\n",
       "      <th>main_sick</th>\n",
       "    </tr>\n",
       "  </thead>\n",
       "  <tbody>\n",
       "    <tr>\n",
       "      <th>32074</th>\n",
       "      <td>2013-03-11</td>\n",
       "      <td>1</td>\n",
       "      <td>J459</td>\n",
       "    </tr>\n",
       "    <tr>\n",
       "      <th>34237</th>\n",
       "      <td>2013-03-04</td>\n",
       "      <td>1</td>\n",
       "      <td>I841</td>\n",
       "    </tr>\n",
       "    <tr>\n",
       "      <th>34238</th>\n",
       "      <td>2013-03-12</td>\n",
       "      <td>1</td>\n",
       "      <td>I843</td>\n",
       "    </tr>\n",
       "    <tr>\n",
       "      <th>36056</th>\n",
       "      <td>2013-03-30</td>\n",
       "      <td>1</td>\n",
       "      <td>A049</td>\n",
       "    </tr>\n",
       "    <tr>\n",
       "      <th>36060</th>\n",
       "      <td>2013-03-05</td>\n",
       "      <td>1</td>\n",
       "      <td>B07</td>\n",
       "    </tr>\n",
       "  </tbody>\n",
       "</table>\n",
       "</div>"
      ],
      "text/plain": [
       "        rec_date  treat_kind main_sick\n",
       "32074 2013-03-11           1      J459\n",
       "34237 2013-03-04           1      I841\n",
       "34238 2013-03-12           1      I843\n",
       "36056 2013-03-30           1      A049\n",
       "36060 2013-03-05           1       B07"
      ]
     },
     "execution_count": 10,
     "metadata": {},
     "output_type": "execute_result"
    }
   ],
   "source": [
    "ms_2010_2015_code1_nd = ms_2010_2015_code1.rec_date.dt.month == tk_2010_2015_code1_ct_graph.ix[1, 'Month']\n",
    "ms_2010_2015_code1_nd = ms_2010_2015_code1[ms_2010_2015_code1_nd]\n",
    "ms_2010_2015_code1_nd.head()"
   ]
  },
  {
   "cell_type": "code",
   "execution_count": 11,
   "metadata": {
    "collapsed": false
   },
   "outputs": [
    {
     "data": {
      "text/html": [
       "<div>\n",
       "<table border=\"1\" class=\"dataframe\">\n",
       "  <thead>\n",
       "    <tr style=\"text-align: right;\">\n",
       "      <th></th>\n",
       "      <th>rec_date</th>\n",
       "      <th>treat_kind</th>\n",
       "      <th>main_sick</th>\n",
       "    </tr>\n",
       "  </thead>\n",
       "  <tbody>\n",
       "    <tr>\n",
       "      <th>46857</th>\n",
       "      <td>2013-04-04</td>\n",
       "      <td>1</td>\n",
       "      <td>I841</td>\n",
       "    </tr>\n",
       "    <tr>\n",
       "      <th>49360</th>\n",
       "      <td>2013-04-18</td>\n",
       "      <td>1</td>\n",
       "      <td>A160</td>\n",
       "    </tr>\n",
       "    <tr>\n",
       "      <th>49361</th>\n",
       "      <td>2013-04-20</td>\n",
       "      <td>1</td>\n",
       "      <td>K769</td>\n",
       "    </tr>\n",
       "    <tr>\n",
       "      <th>49362</th>\n",
       "      <td>2013-04-23</td>\n",
       "      <td>1</td>\n",
       "      <td>A168</td>\n",
       "    </tr>\n",
       "    <tr>\n",
       "      <th>49363</th>\n",
       "      <td>2013-04-26</td>\n",
       "      <td>1</td>\n",
       "      <td>J998</td>\n",
       "    </tr>\n",
       "  </tbody>\n",
       "</table>\n",
       "</div>"
      ],
      "text/plain": [
       "        rec_date  treat_kind main_sick\n",
       "46857 2013-04-04           1      I841\n",
       "49360 2013-04-18           1      A160\n",
       "49361 2013-04-20           1      K769\n",
       "49362 2013-04-23           1      A168\n",
       "49363 2013-04-26           1      J998"
      ]
     },
     "execution_count": 11,
     "metadata": {},
     "output_type": "execute_result"
    }
   ],
   "source": [
    "ms_2010_2015_code1_th = ms_2010_2015_code1.rec_date.dt.month == tk_2010_2015_code1_ct_graph.ix[2, 'Month']\n",
    "ms_2010_2015_code1_th = ms_2010_2015_code1[ms_2010_2015_code1_th]\n",
    "ms_2010_2015_code1_th.head()"
   ]
  },
  {
   "cell_type": "markdown",
   "metadata": {},
   "source": [
    "## First Month Find 3 Large main_sick"
   ]
  },
  {
   "cell_type": "code",
   "execution_count": 12,
   "metadata": {
    "collapsed": true
   },
   "outputs": [],
   "source": [
    "a1 = pd.value_counts(ms_2010_2015_code1_st[ms_2010_2015_code1_st['main_sick'].str.match('A')]['main_sick'].values, sort = True)\n",
    "b1 = pd.value_counts(ms_2010_2015_code1_st[ms_2010_2015_code1_st['main_sick'].str.match('B')]['main_sick'].values, sort = True)\n",
    "c1 = pd.value_counts(ms_2010_2015_code1_st[ms_2010_2015_code1_st['main_sick'].str.match('C')]['main_sick'].values, sort = True)\n",
    "d1 = pd.value_counts(ms_2010_2015_code1_st[ms_2010_2015_code1_st['main_sick'].str.match('D')]['main_sick'].values, sort = True)\n",
    "e1 = pd.value_counts(ms_2010_2015_code1_st[ms_2010_2015_code1_st['main_sick'].str.match('E')]['main_sick'].values, sort = True)\n",
    "f1 = pd.value_counts(ms_2010_2015_code1_st[ms_2010_2015_code1_st['main_sick'].str.match('F')]['main_sick'].values, sort = True)\n",
    "g1 = pd.value_counts(ms_2010_2015_code1_st[ms_2010_2015_code1_st['main_sick'].str.match('G')]['main_sick'].values, sort = True)\n",
    "h1 = pd.value_counts(ms_2010_2015_code1_st[ms_2010_2015_code1_st['main_sick'].str.match('H')]['main_sick'].values, sort = True)\n",
    "i1 = pd.value_counts(ms_2010_2015_code1_st[ms_2010_2015_code1_st['main_sick'].str.match('I')]['main_sick'].values, sort = True)\n",
    "j1 = pd.value_counts(ms_2010_2015_code1_st[ms_2010_2015_code1_st['main_sick'].str.match('J')]['main_sick'].values, sort = True)\n",
    "k1 = pd.value_counts(ms_2010_2015_code1_st[ms_2010_2015_code1_st['main_sick'].str.match('K')]['main_sick'].values, sort = True)\n",
    "l1 = pd.value_counts(ms_2010_2015_code1_st[ms_2010_2015_code1_st['main_sick'].str.match('L')]['main_sick'].values, sort = True)\n",
    "m1 = pd.value_counts(ms_2010_2015_code1_st[ms_2010_2015_code1_st['main_sick'].str.match('M')]['main_sick'].values, sort = True)\n",
    "n1 = pd.value_counts(ms_2010_2015_code1_st[ms_2010_2015_code1_st['main_sick'].str.match('N')]['main_sick'].values, sort = True)\n",
    "o1 = pd.value_counts(ms_2010_2015_code1_st[ms_2010_2015_code1_st['main_sick'].str.match('O')]['main_sick'].values, sort = True)\n",
    "p1 = pd.value_counts(ms_2010_2015_code1_st[ms_2010_2015_code1_st['main_sick'].str.match('P')]['main_sick'].values, sort = True)\n",
    "q1 = pd.value_counts(ms_2010_2015_code1_st[ms_2010_2015_code1_st['main_sick'].str.match('Q')]['main_sick'].values, sort = True)\n",
    "r1 = pd.value_counts(ms_2010_2015_code1_st[ms_2010_2015_code1_st['main_sick'].str.match('R')]['main_sick'].values, sort = True)\n",
    "s1 = pd.value_counts(ms_2010_2015_code1_st[ms_2010_2015_code1_st['main_sick'].str.match('S')]['main_sick'].values, sort = True)\n",
    "t1 = pd.value_counts(ms_2010_2015_code1_st[ms_2010_2015_code1_st['main_sick'].str.match('T')]['main_sick'].values, sort = True)\n",
    "u1 = pd.value_counts(ms_2010_2015_code1_st[ms_2010_2015_code1_st['main_sick'].str.match('U')]['main_sick'].values, sort = True)\n",
    "v1 = pd.value_counts(ms_2010_2015_code1_st[ms_2010_2015_code1_st['main_sick'].str.match('V')]['main_sick'].values, sort = True)\n",
    "w1 = pd.value_counts(ms_2010_2015_code1_st[ms_2010_2015_code1_st['main_sick'].str.match('W')]['main_sick'].values, sort = True)\n",
    "x1 = pd.value_counts(ms_2010_2015_code1_st[ms_2010_2015_code1_st['main_sick'].str.match('X')]['main_sick'].values, sort = True)\n",
    "y1 = pd.value_counts(ms_2010_2015_code1_st[ms_2010_2015_code1_st['main_sick'].str.match('Y')]['main_sick'].values, sort = True)\n",
    "z1 = pd.value_counts(ms_2010_2015_code1_st[ms_2010_2015_code1_st['main_sick'].str.match('Z')]['main_sick'].values, sort = True)"
   ]
  },
  {
   "cell_type": "code",
   "execution_count": 13,
   "metadata": {
    "collapsed": false
   },
   "outputs": [
    {
     "data": {
      "text/plain": [
       "[counts    8531\n",
       " Name: A090, dtype: int64, counts    5136\n",
       " Name: B181, dtype: int64, counts    2260\n",
       " Name: C73, dtype: int64, counts    1758\n",
       " Name: D509, dtype: int64, counts    35246\n",
       " Name: E119, dtype: int64, counts    555\n",
       " Name: F009, dtype: int64, counts    735\n",
       " Name: G470, dtype: int64, counts    242\n",
       " Name: H814, dtype: int64, counts    117976\n",
       " Name: I109, dtype: int64, counts    107736\n",
       " Name: J209, dtype: int64, counts    25728\n",
       " Name: K210, dtype: int64, counts    971\n",
       " Name: L239, dtype: int64, counts    3240\n",
       " Name: M545, dtype: int64, counts    16792\n",
       " Name: N185, dtype: int64, counts    204\n",
       " Name: O244, dtype: int64, counts    4\n",
       " Name: P599, dtype: int64, counts    78\n",
       " Name: Q612, dtype: int64, counts    3363\n",
       " Name: R074, dtype: int64, counts    928\n",
       " Name: S335, dtype: int64, counts    566\n",
       " Name: T232, dtype: int64, counts    71\n",
       " Name: U880, dtype: int64, counts    586\n",
       " Name: Z961, dtype: int64]"
      ]
     },
     "execution_count": 13,
     "metadata": {},
     "output_type": "execute_result"
    }
   ],
   "source": [
    "code1_list = []\n",
    "a1 = pd.DataFrame(a1)\n",
    "a1 = a1.rename(columns = {0: 'counts'})\n",
    "a1_max = a1.iloc[a1['counts'].values.argmax()]\n",
    "code1_list.append(a1_max)\n",
    "b1 = pd.DataFrame(b1)\n",
    "b1 = b1.rename(columns = {0: 'counts'})\n",
    "code1_list.append(b1.iloc[b1['counts'].values.argmax()])\n",
    "c1 = pd.DataFrame(c1)\n",
    "c1 = c1.rename(columns = {0: 'counts'})\n",
    "code1_list.append(c1.iloc[c1['counts'].values.argmax()])\n",
    "d1 = pd.DataFrame(d1)\n",
    "d1 = d1.rename(columns = {0: 'counts'})\n",
    "code1_list.append(d1.iloc[d1['counts'].values.argmax()])\n",
    "e1 = pd.DataFrame(e1)\n",
    "e1 = e1.rename(columns = {0: 'counts'})\n",
    "code1_list.append(e1.iloc[e1['counts'].values.argmax()])\n",
    "f1 = pd.DataFrame(f1)\n",
    "f1 = f1.rename(columns = {0: 'counts'})\n",
    "code1_list.append(f1.iloc[f1['counts'].values.argmax()])\n",
    "g1 = pd.DataFrame(g1)\n",
    "g1 = g1.rename(columns = {0: 'counts'})\n",
    "code1_list.append(g1.iloc[g1['counts'].values.argmax()])\n",
    "h1 = pd.DataFrame(h1)\n",
    "h1 = h1.rename(columns = {0: 'counts'})\n",
    "code1_list.append(h1.iloc[h1['counts'].values.argmax()])\n",
    "i1 = pd.DataFrame(i1)\n",
    "i1 = i1.rename(columns = {0: 'counts'})\n",
    "code1_list.append(i1.iloc[i1['counts'].values.argmax()])\n",
    "j1 = pd.DataFrame(j1)\n",
    "j1 = j1.rename(columns = {0: 'counts'})\n",
    "code1_list.append(j1.iloc[j1['counts'].values.argmax()])\n",
    "k1 = pd.DataFrame(k1)\n",
    "k1 = k1.rename(columns = {0: 'counts'})\n",
    "code1_list.append(k1.iloc[k1['counts'].values.argmax()])\n",
    "l1 = pd.DataFrame(l1)\n",
    "l1 = l1.rename(columns = {0: 'counts'})\n",
    "code1_list.append(l1.iloc[l1['counts'].values.argmax()])\n",
    "m1 = pd.DataFrame(m1)\n",
    "m1 = m1.rename(columns = {0: 'counts'})\n",
    "code1_list.append(m1.iloc[m1['counts'].values.argmax()])\n",
    "n1 = pd.DataFrame(n1)\n",
    "n1 = n1.rename(columns = {0: 'counts'})\n",
    "code1_list.append(n1.iloc[n1['counts'].values.argmax()])\n",
    "o1 = pd.DataFrame(o1)\n",
    "o1 = o1.rename(columns = {0: 'counts'})\n",
    "code1_list.append(o1.iloc[o1['counts'].values.argmax()])\n",
    "p1 = pd.DataFrame(p1)\n",
    "p1 = p1.rename(columns = {0: 'counts'})\n",
    "code1_list.append(p1.iloc[p1['counts'].values.argmax()])\n",
    "q1 = pd.DataFrame(q1)\n",
    "q1 = q1.rename(columns = {0: 'counts'})\n",
    "code1_list.append(q1.iloc[q1['counts'].values.argmax()])\n",
    "r1 = pd.DataFrame(r1)\n",
    "r1 = r1.rename(columns = {0: 'counts'})\n",
    "code1_list.append(r1.iloc[r1['counts'].values.argmax()])\n",
    "s1 = pd.DataFrame(s1)\n",
    "s1 = s1.rename(columns = {0: 'counts'})\n",
    "code1_list.append(s1.iloc[s1['counts'].values.argmax()])\n",
    "t1 = pd.DataFrame(t1)\n",
    "t1 = t1.rename(columns = {0: 'counts'})\n",
    "code1_list.append(t1.iloc[t1['counts'].values.argmax()])\n",
    "u1 = pd.DataFrame(u1)\n",
    "u1 = u1.rename(columns = {0: 'counts'})\n",
    "code1_list.append(u1.iloc[u1['counts'].values.argmax()])\n",
    "v1 = pd.DataFrame(v1)\n",
    "v1 = v1.rename(columns = {0: 'counts'})\n",
    "#code1_list.append(v1.iloc[v1['counts'].values.argmax()])\n",
    "w1 = pd.DataFrame(w1)\n",
    "w1 = w1.rename(columns = {0: 'counts'})\n",
    "#code1_list.append(w1.iloc[w1['counts'].values.argmax()])\n",
    "x1 = pd.DataFrame(x1)\n",
    "x1 = x1.rename(columns = {0: 'counts'})\n",
    "#code1_list.append(x1.iloc[x1['counts'].values.argmax()])\n",
    "y1 = pd.DataFrame(y1)\n",
    "y1 = y1.rename(columns = {0: 'counts'})\n",
    "#code1_list.append(y1.iloc[y1['counts'].values.argmax()])\n",
    "z1 = pd.DataFrame(z1)\n",
    "z1 = z1.rename(columns = {0: 'counts'})\n",
    "code1_list.append(z1.iloc[z1['counts'].values.argmax()])\n",
    "code1_list"
   ]
  },
  {
   "cell_type": "code",
   "execution_count": 31,
   "metadata": {
    "collapsed": false,
    "scrolled": true
   },
   "outputs": [
    {
     "name": "stderr",
     "output_type": "stream",
     "text": [
      "C:\\ProgramData\\Anaconda3\\lib\\site-packages\\ipykernel\\__main__.py:2: SettingWithCopyWarning: \n",
      "A value is trying to be set on a copy of a slice from a DataFrame.\n",
      "Try using .loc[row_indexer,col_indexer] = value instead\n",
      "\n",
      "See the caveats in the documentation: http://pandas.pydata.org/pandas-docs/stable/indexing.html#indexing-view-versus-copy\n",
      "  from ipykernel import kernelapp as app\n",
      "C:\\ProgramData\\Anaconda3\\lib\\site-packages\\ipykernel\\__main__.py:6: SettingWithCopyWarning: \n",
      "A value is trying to be set on a copy of a slice from a DataFrame.\n",
      "Try using .loc[row_indexer,col_indexer] = value instead\n",
      "\n",
      "See the caveats in the documentation: http://pandas.pydata.org/pandas-docs/stable/indexing.html#indexing-view-versus-copy\n",
      "C:\\ProgramData\\Anaconda3\\lib\\site-packages\\ipykernel\\__main__.py:10: SettingWithCopyWarning: \n",
      "A value is trying to be set on a copy of a slice from a DataFrame.\n",
      "Try using .loc[row_indexer,col_indexer] = value instead\n",
      "\n",
      "See the caveats in the documentation: http://pandas.pydata.org/pandas-docs/stable/indexing.html#indexing-view-versus-copy\n"
     ]
    }
   ],
   "source": [
    "code1_st_graph1 = ms_2010_2015_code1_st[ms_2010_2015_code1_st['main_sick'].str.match('I109')]\n",
    "code1_st_graph1['main_sick'] = code1_st_graph1['main_sick'].map({'I109': 'Unspecified hypertension'})\n",
    "code1_st_graph1 = pd.value_counts(code1_st_graph1['main_sick'].values, sort = False)\n",
    "code1_st_graph1 = pd.DataFrame(code1_st_graph1)\n",
    "code1_st_graph2 = ms_2010_2015_code1_st[ms_2010_2015_code1_st['main_sick'].str.match('J209')]\n",
    "code1_st_graph2['main_sick'] = code1_st_graph2['main_sick'].map({'J209': 'Acute bronchitis, unspecified'})\n",
    "code1_st_graph2 = pd.value_counts(code1_st_graph2['main_sick'].values, sort = False)\n",
    "code1_st_graph2 = pd.DataFrame(code1_st_graph2)\n",
    "code1_st_graph3 = ms_2010_2015_code1_st[ms_2010_2015_code1_st['main_sick'].str.match('E119')]\n",
    "code1_st_graph3['main_sick'] = code1_st_graph3['main_sick'].map({'E119': 'Non-insulin-dependent diabetes mellitus'})\n",
    "code1_st_graph3 = pd.value_counts(code1_st_graph3['main_sick'].values, sort = False)\n",
    "code1_st_graph3 = pd.DataFrame(code1_st_graph3)\n",
    "c1_st_123 = pd.concat([code1_st_graph1, code1_st_graph2, code1_st_graph3]).reset_index()\n",
    "c1_st_123 = c1_st_123.rename(columns = {'index' : 'main_sick', 0: 'Total_patients'})\n",
    "color = ['limegreen', 'palegreen', 'honeydew']\n",
    "c1_st_123.plot.pie(y='Total_patients', autopct = '%1.1f%%', startangle = 180, labels = c1_st_123['main_sick'], legend = True, title = 'December', colors = color, figsize = (15, 10) )\n",
    "plt.axis('equal')\n",
    "plt.tight_layout()\n",
    "plt.savefig('내과 12월 main_sick pie chart.png', dpi = 1000)"
   ]
  },
  {
   "cell_type": "markdown",
   "metadata": {
    "collapsed": true
   },
   "source": [
    "## Second Month Find 3 Large main_sick"
   ]
  },
  {
   "cell_type": "code",
   "execution_count": 32,
   "metadata": {
    "collapsed": true
   },
   "outputs": [],
   "source": [
    "a1 = pd.value_counts(ms_2010_2015_code1_nd[ms_2010_2015_code1_nd['main_sick'].str.match('A')]['main_sick'].values, sort = True)\n",
    "b1 = pd.value_counts(ms_2010_2015_code1_nd[ms_2010_2015_code1_nd['main_sick'].str.match('B')]['main_sick'].values, sort = True)\n",
    "c1 = pd.value_counts(ms_2010_2015_code1_nd[ms_2010_2015_code1_nd['main_sick'].str.match('C')]['main_sick'].values, sort = True)\n",
    "d1 = pd.value_counts(ms_2010_2015_code1_nd[ms_2010_2015_code1_nd['main_sick'].str.match('D')]['main_sick'].values, sort = True)\n",
    "e1 = pd.value_counts(ms_2010_2015_code1_nd[ms_2010_2015_code1_nd['main_sick'].str.match('E')]['main_sick'].values, sort = True)\n",
    "f1 = pd.value_counts(ms_2010_2015_code1_nd[ms_2010_2015_code1_nd['main_sick'].str.match('F')]['main_sick'].values, sort = True)\n",
    "g1 = pd.value_counts(ms_2010_2015_code1_nd[ms_2010_2015_code1_nd['main_sick'].str.match('G')]['main_sick'].values, sort = True)\n",
    "h1 = pd.value_counts(ms_2010_2015_code1_nd[ms_2010_2015_code1_nd['main_sick'].str.match('H')]['main_sick'].values, sort = True)\n",
    "i1 = pd.value_counts(ms_2010_2015_code1_nd[ms_2010_2015_code1_nd['main_sick'].str.match('I')]['main_sick'].values, sort = True)\n",
    "j1 = pd.value_counts(ms_2010_2015_code1_nd[ms_2010_2015_code1_nd['main_sick'].str.match('J')]['main_sick'].values, sort = True)\n",
    "k1 = pd.value_counts(ms_2010_2015_code1_nd[ms_2010_2015_code1_nd['main_sick'].str.match('K')]['main_sick'].values, sort = True)\n",
    "l1 = pd.value_counts(ms_2010_2015_code1_nd[ms_2010_2015_code1_nd['main_sick'].str.match('L')]['main_sick'].values, sort = True)\n",
    "m1 = pd.value_counts(ms_2010_2015_code1_nd[ms_2010_2015_code1_nd['main_sick'].str.match('M')]['main_sick'].values, sort = True)\n",
    "n1 = pd.value_counts(ms_2010_2015_code1_nd[ms_2010_2015_code1_nd['main_sick'].str.match('N')]['main_sick'].values, sort = True)\n",
    "o1 = pd.value_counts(ms_2010_2015_code1_nd[ms_2010_2015_code1_nd['main_sick'].str.match('O')]['main_sick'].values, sort = True)\n",
    "p1 = pd.value_counts(ms_2010_2015_code1_nd[ms_2010_2015_code1_nd['main_sick'].str.match('P')]['main_sick'].values, sort = True)\n",
    "q1 = pd.value_counts(ms_2010_2015_code1_nd[ms_2010_2015_code1_nd['main_sick'].str.match('Q')]['main_sick'].values, sort = True)\n",
    "r1 = pd.value_counts(ms_2010_2015_code1_nd[ms_2010_2015_code1_nd['main_sick'].str.match('R')]['main_sick'].values, sort = True)\n",
    "s1 = pd.value_counts(ms_2010_2015_code1_nd[ms_2010_2015_code1_nd['main_sick'].str.match('S')]['main_sick'].values, sort = True)\n",
    "t1 = pd.value_counts(ms_2010_2015_code1_nd[ms_2010_2015_code1_nd['main_sick'].str.match('T')]['main_sick'].values, sort = True)\n",
    "u1 = pd.value_counts(ms_2010_2015_code1_nd[ms_2010_2015_code1_nd['main_sick'].str.match('U')]['main_sick'].values, sort = True)\n",
    "v1 = pd.value_counts(ms_2010_2015_code1_nd[ms_2010_2015_code1_nd['main_sick'].str.match('V')]['main_sick'].values, sort = True)\n",
    "w1 = pd.value_counts(ms_2010_2015_code1_nd[ms_2010_2015_code1_nd['main_sick'].str.match('W')]['main_sick'].values, sort = True)\n",
    "x1 = pd.value_counts(ms_2010_2015_code1_nd[ms_2010_2015_code1_nd['main_sick'].str.match('X')]['main_sick'].values, sort = True)\n",
    "y1 = pd.value_counts(ms_2010_2015_code1_nd[ms_2010_2015_code1_nd['main_sick'].str.match('Y')]['main_sick'].values, sort = True)\n",
    "z1 = pd.value_counts(ms_2010_2015_code1_nd[ms_2010_2015_code1_nd['main_sick'].str.match('Z')]['main_sick'].values, sort = True)"
   ]
  },
  {
   "cell_type": "code",
   "execution_count": 33,
   "metadata": {
    "collapsed": false
   },
   "outputs": [
    {
     "data": {
      "text/plain": [
       "[counts    6576\n",
       " Name: A090, dtype: int64, counts    4739\n",
       " Name: B181, dtype: int64, counts    2151\n",
       " Name: C73, dtype: int64, counts    1529\n",
       " Name: D509, dtype: int64, counts    32910\n",
       " Name: E119, dtype: int64, counts    465\n",
       " Name: F009, dtype: int64, counts    668\n",
       " Name: G470, dtype: int64, counts    240\n",
       " Name: H814, dtype: int64, counts    111830\n",
       " Name: I109, dtype: int64, counts    115206\n",
       " Name: J209, dtype: int64, counts    19296\n",
       " Name: K210, dtype: int64, counts    1147\n",
       " Name: L239, dtype: int64, counts    3375\n",
       " Name: M545, dtype: int64, counts    15520\n",
       " Name: N185, dtype: int64, counts    167\n",
       " Name: O244, dtype: int64, counts    1\n",
       " Name: P783, dtype: int64, counts    2151\n",
       " Name: C73, dtype: int64, counts    3238\n",
       " Name: R074, dtype: int64, counts    847\n",
       " Name: S335, dtype: int64, counts    502\n",
       " Name: T232, dtype: int64, counts    88\n",
       " Name: U880, dtype: int64, counts    637\n",
       " Name: Z961, dtype: int64]"
      ]
     },
     "execution_count": 33,
     "metadata": {},
     "output_type": "execute_result"
    }
   ],
   "source": [
    "code1_list = []\n",
    "a1 = pd.DataFrame(a1)\n",
    "a1 = a1.rename(columns = {0: 'counts'})\n",
    "a1_max = a1.iloc[a1['counts'].values.argmax()]\n",
    "code1_list.append(a1_max)\n",
    "b1 = pd.DataFrame(b1)\n",
    "b1 = b1.rename(columns = {0: 'counts'})\n",
    "code1_list.append(b1.iloc[b1['counts'].values.argmax()])\n",
    "c1 = pd.DataFrame(c1)\n",
    "c1 = c1.rename(columns = {0: 'counts'})\n",
    "code1_list.append(c1.iloc[c1['counts'].values.argmax()])\n",
    "d1 = pd.DataFrame(d1)\n",
    "d1 = d1.rename(columns = {0: 'counts'})\n",
    "code1_list.append(d1.iloc[d1['counts'].values.argmax()])\n",
    "e1 = pd.DataFrame(e1)\n",
    "e1 = e1.rename(columns = {0: 'counts'})\n",
    "code1_list.append(e1.iloc[e1['counts'].values.argmax()])\n",
    "f1 = pd.DataFrame(f1)\n",
    "f1 = f1.rename(columns = {0: 'counts'})\n",
    "code1_list.append(f1.iloc[f1['counts'].values.argmax()])\n",
    "g1 = pd.DataFrame(g1)\n",
    "g1 = g1.rename(columns = {0: 'counts'})\n",
    "code1_list.append(g1.iloc[g1['counts'].values.argmax()])\n",
    "h1 = pd.DataFrame(h1)\n",
    "h1 = h1.rename(columns = {0: 'counts'})\n",
    "code1_list.append(h1.iloc[h1['counts'].values.argmax()])\n",
    "i1 = pd.DataFrame(i1)\n",
    "i1 = i1.rename(columns = {0: 'counts'})\n",
    "code1_list.append(i1.iloc[i1['counts'].values.argmax()])\n",
    "j1 = pd.DataFrame(j1)\n",
    "j1 = j1.rename(columns = {0: 'counts'})\n",
    "code1_list.append(j1.iloc[j1['counts'].values.argmax()])\n",
    "k1 = pd.DataFrame(k1)\n",
    "k1 = k1.rename(columns = {0: 'counts'})\n",
    "code1_list.append(k1.iloc[k1['counts'].values.argmax()])\n",
    "l1 = pd.DataFrame(l1)\n",
    "l1 = l1.rename(columns = {0: 'counts'})\n",
    "code1_list.append(l1.iloc[l1['counts'].values.argmax()])\n",
    "m1 = pd.DataFrame(m1)\n",
    "m1 = m1.rename(columns = {0: 'counts'})\n",
    "code1_list.append(m1.iloc[m1['counts'].values.argmax()])\n",
    "n1 = pd.DataFrame(n1)\n",
    "n1 = n1.rename(columns = {0: 'counts'})\n",
    "code1_list.append(n1.iloc[n1['counts'].values.argmax()])\n",
    "o1 = pd.DataFrame(o1)\n",
    "o1 = o1.rename(columns = {0: 'counts'})\n",
    "code1_list.append(o1.iloc[o1['counts'].values.argmax()])\n",
    "p1 = pd.DataFrame(p1)\n",
    "p1 = p1.rename(columns = {0: 'counts'})\n",
    "code1_list.append(p1.iloc[p1['counts'].values.argmax()])\n",
    "q1 = pd.DataFrame(q1)\n",
    "q1 = q1.rename(columns = {0: 'counts'})\n",
    "code1_list.append(c1.iloc[c1['counts'].values.argmax()])\n",
    "r1 = pd.DataFrame(r1)\n",
    "r1 = r1.rename(columns = {0: 'counts'})\n",
    "code1_list.append(r1.iloc[r1['counts'].values.argmax()])\n",
    "s1 = pd.DataFrame(s1)\n",
    "s1 = s1.rename(columns = {0: 'counts'})\n",
    "code1_list.append(s1.iloc[s1['counts'].values.argmax()])\n",
    "t1 = pd.DataFrame(t1)\n",
    "t1 = t1.rename(columns = {0: 'counts'})\n",
    "code1_list.append(t1.iloc[t1['counts'].values.argmax()])\n",
    "u1 = pd.DataFrame(u1)\n",
    "u1 = u1.rename(columns = {0: 'counts'})\n",
    "code1_list.append(u1.iloc[u1['counts'].values.argmax()])\n",
    "v1 = pd.DataFrame(v1)\n",
    "v1 = v1.rename(columns = {0: 'counts'})\n",
    "#code1_list.append(v1.iloc[v1['counts'].values.argmax()])\n",
    "w1 = pd.DataFrame(w1)\n",
    "w1 = w1.rename(columns = {0: 'counts'})\n",
    "#code1_list.append(w1.iloc[w1['counts'].values.argmax()])\n",
    "x1 = pd.DataFrame(x1)\n",
    "x1 = x1.rename(columns = {0: 'counts'})\n",
    "#code1_list.append(x1.iloc[x1['counts'].values.argmax()])\n",
    "y1 = pd.DataFrame(y1)\n",
    "y1 = y1.rename(columns = {0: 'counts'})\n",
    "#code1_list.append(y1.iloc[y1['counts'].values.argmax()])\n",
    "z1 = pd.DataFrame(z1)\n",
    "z1 = z1.rename(columns = {0: 'counts'})\n",
    "code1_list.append(z1.iloc[z1['counts'].values.argmax()])\n",
    "code1_list"
   ]
  },
  {
   "cell_type": "code",
   "execution_count": 37,
   "metadata": {
    "collapsed": false
   },
   "outputs": [
    {
     "name": "stderr",
     "output_type": "stream",
     "text": [
      "C:\\ProgramData\\Anaconda3\\lib\\site-packages\\ipykernel\\__main__.py:2: SettingWithCopyWarning: \n",
      "A value is trying to be set on a copy of a slice from a DataFrame.\n",
      "Try using .loc[row_indexer,col_indexer] = value instead\n",
      "\n",
      "See the caveats in the documentation: http://pandas.pydata.org/pandas-docs/stable/indexing.html#indexing-view-versus-copy\n",
      "  from ipykernel import kernelapp as app\n",
      "C:\\ProgramData\\Anaconda3\\lib\\site-packages\\ipykernel\\__main__.py:6: SettingWithCopyWarning: \n",
      "A value is trying to be set on a copy of a slice from a DataFrame.\n",
      "Try using .loc[row_indexer,col_indexer] = value instead\n",
      "\n",
      "See the caveats in the documentation: http://pandas.pydata.org/pandas-docs/stable/indexing.html#indexing-view-versus-copy\n",
      "C:\\ProgramData\\Anaconda3\\lib\\site-packages\\ipykernel\\__main__.py:10: SettingWithCopyWarning: \n",
      "A value is trying to be set on a copy of a slice from a DataFrame.\n",
      "Try using .loc[row_indexer,col_indexer] = value instead\n",
      "\n",
      "See the caveats in the documentation: http://pandas.pydata.org/pandas-docs/stable/indexing.html#indexing-view-versus-copy\n"
     ]
    }
   ],
   "source": [
    "code1_st_graph1 = ms_2010_2015_code1_nd[ms_2010_2015_code1_nd['main_sick'].str.match('J209')]\n",
    "code1_st_graph1['main_sick'] = code1_st_graph1['main_sick'].map({'J209': 'Acute bronchitis, unspecified'})\n",
    "code1_st_graph1 = pd.value_counts(code1_st_graph1['main_sick'].values, sort = False)\n",
    "code1_st_graph1 = pd.DataFrame(code1_st_graph1)\n",
    "code1_st_graph2 = ms_2010_2015_code1_nd[ms_2010_2015_code1_nd['main_sick'].str.match('I109')]\n",
    "code1_st_graph2['main_sick'] = code1_st_graph2['main_sick'].map({'I109': 'Unspecified hypertension'})\n",
    "code1_st_graph2 = pd.value_counts(code1_st_graph2['main_sick'].values, sort = False)\n",
    "code1_st_graph2 = pd.DataFrame(code1_st_graph2)\n",
    "code1_st_graph3 = ms_2010_2015_code1_nd[ms_2010_2015_code1_nd['main_sick'].str.match('E119')]\n",
    "code1_st_graph3['main_sick'] = code1_st_graph3['main_sick'].map({'E119': 'Non-insulin-dependent diabetes mellitus'})\n",
    "code1_st_graph3 = pd.value_counts(code1_st_graph3['main_sick'].values, sort = False)\n",
    "code1_st_graph3 = pd.DataFrame(code1_st_graph3)\n",
    "c1_st_123 = pd.concat([code1_st_graph1, code1_st_graph2, code1_st_graph3]).reset_index()\n",
    "c1_st_123 = c1_st_123.rename(columns = {'index' : 'main_sick', 0: 'Total_patients'})\n",
    "color = ['limegreen', 'palegreen', 'honeydew']\n",
    "c1_st_123.plot(kind = 'pie', y = 'Total_patients', autopct = '%1.1f%%', startangle = 180, labels = c1_st_123['main_sick'], legend = True, title = 'March', colors = color, figsize = (15, 10))\n",
    "plt.axis('equal')\n",
    "plt.tight_layout()\n",
    "plt.savefig('내과 3월 main_sick pie chart.png', dpi = 1000)"
   ]
  },
  {
   "cell_type": "markdown",
   "metadata": {
    "collapsed": true
   },
   "source": [
    "## Third Month Find 3 Large main_sick¶"
   ]
  },
  {
   "cell_type": "code",
   "execution_count": 38,
   "metadata": {
    "collapsed": true
   },
   "outputs": [],
   "source": [
    "a1 = pd.value_counts(ms_2010_2015_code1_th[ms_2010_2015_code1_th['main_sick'].str.match('A')]['main_sick'].values, sort = True)\n",
    "b1 = pd.value_counts(ms_2010_2015_code1_th[ms_2010_2015_code1_th['main_sick'].str.match('B')]['main_sick'].values, sort = True)\n",
    "c1 = pd.value_counts(ms_2010_2015_code1_th[ms_2010_2015_code1_th['main_sick'].str.match('C')]['main_sick'].values, sort = True)\n",
    "d1 = pd.value_counts(ms_2010_2015_code1_th[ms_2010_2015_code1_th['main_sick'].str.match('D')]['main_sick'].values, sort = True)\n",
    "e1 = pd.value_counts(ms_2010_2015_code1_th[ms_2010_2015_code1_th['main_sick'].str.match('E')]['main_sick'].values, sort = True)\n",
    "f1 = pd.value_counts(ms_2010_2015_code1_th[ms_2010_2015_code1_th['main_sick'].str.match('F')]['main_sick'].values, sort = True)\n",
    "g1 = pd.value_counts(ms_2010_2015_code1_th[ms_2010_2015_code1_th['main_sick'].str.match('G')]['main_sick'].values, sort = True)\n",
    "h1 = pd.value_counts(ms_2010_2015_code1_th[ms_2010_2015_code1_th['main_sick'].str.match('H')]['main_sick'].values, sort = True)\n",
    "i1 = pd.value_counts(ms_2010_2015_code1_th[ms_2010_2015_code1_th['main_sick'].str.match('I')]['main_sick'].values, sort = True)\n",
    "j1 = pd.value_counts(ms_2010_2015_code1_th[ms_2010_2015_code1_th['main_sick'].str.match('J')]['main_sick'].values, sort = True)\n",
    "k1 = pd.value_counts(ms_2010_2015_code1_th[ms_2010_2015_code1_th['main_sick'].str.match('K')]['main_sick'].values, sort = True)\n",
    "l1 = pd.value_counts(ms_2010_2015_code1_th[ms_2010_2015_code1_th['main_sick'].str.match('L')]['main_sick'].values, sort = True)\n",
    "m1 = pd.value_counts(ms_2010_2015_code1_th[ms_2010_2015_code1_th['main_sick'].str.match('M')]['main_sick'].values, sort = True)\n",
    "n1 = pd.value_counts(ms_2010_2015_code1_th[ms_2010_2015_code1_th['main_sick'].str.match('N')]['main_sick'].values, sort = True)\n",
    "o1 = pd.value_counts(ms_2010_2015_code1_th[ms_2010_2015_code1_th['main_sick'].str.match('O')]['main_sick'].values, sort = True)\n",
    "p1 = pd.value_counts(ms_2010_2015_code1_th[ms_2010_2015_code1_th['main_sick'].str.match('P')]['main_sick'].values, sort = True)\n",
    "q1 = pd.value_counts(ms_2010_2015_code1_th[ms_2010_2015_code1_th['main_sick'].str.match('Q')]['main_sick'].values, sort = True)\n",
    "r1 = pd.value_counts(ms_2010_2015_code1_th[ms_2010_2015_code1_th['main_sick'].str.match('R')]['main_sick'].values, sort = True)\n",
    "s1 = pd.value_counts(ms_2010_2015_code1_th[ms_2010_2015_code1_th['main_sick'].str.match('S')]['main_sick'].values, sort = True)\n",
    "t1 = pd.value_counts(ms_2010_2015_code1_th[ms_2010_2015_code1_th['main_sick'].str.match('T')]['main_sick'].values, sort = True)\n",
    "u1 = pd.value_counts(ms_2010_2015_code1_th[ms_2010_2015_code1_th['main_sick'].str.match('U')]['main_sick'].values, sort = True)\n",
    "v1 = pd.value_counts(ms_2010_2015_code1_th[ms_2010_2015_code1_th['main_sick'].str.match('V')]['main_sick'].values, sort = True)\n",
    "w1 = pd.value_counts(ms_2010_2015_code1_th[ms_2010_2015_code1_th['main_sick'].str.match('W')]['main_sick'].values, sort = True)\n",
    "x1 = pd.value_counts(ms_2010_2015_code1_th[ms_2010_2015_code1_th['main_sick'].str.match('X')]['main_sick'].values, sort = True)\n",
    "y1 = pd.value_counts(ms_2010_2015_code1_th[ms_2010_2015_code1_th['main_sick'].str.match('Y')]['main_sick'].values, sort = True)\n",
    "z1 = pd.value_counts(ms_2010_2015_code1_th[ms_2010_2015_code1_th['main_sick'].str.match('Z')]['main_sick'].values, sort = True)"
   ]
  },
  {
   "cell_type": "code",
   "execution_count": 39,
   "metadata": {
    "collapsed": false
   },
   "outputs": [
    {
     "data": {
      "text/plain": [
       "[counts    6346\n",
       " Name: A090, dtype: int64, counts    4839\n",
       " Name: B181, dtype: int64, counts    2161\n",
       " Name: C73, dtype: int64, counts    1556\n",
       " Name: D509, dtype: int64, counts    32798\n",
       " Name: E119, dtype: int64, counts    492\n",
       " Name: F009, dtype: int64, counts    699\n",
       " Name: G470, dtype: int64, counts    236\n",
       " Name: H814, dtype: int64, counts    111728\n",
       " Name: I109, dtype: int64, counts    108493\n",
       " Name: J209, dtype: int64, counts    19261\n",
       " Name: K210, dtype: int64, counts    1186\n",
       " Name: L239, dtype: int64, counts    3358\n",
       " Name: M545, dtype: int64, counts    15645\n",
       " Name: N185, dtype: int64, counts    173\n",
       " Name: O244, dtype: int64, counts    71\n",
       " Name: Q612, dtype: int64, counts    3061\n",
       " Name: R074, dtype: int64, counts    944\n",
       " Name: S335, dtype: int64, counts    602\n",
       " Name: T232, dtype: int64, counts    82\n",
       " Name: U880, dtype: int64, counts    615\n",
       " Name: Z961, dtype: int64]"
      ]
     },
     "execution_count": 39,
     "metadata": {},
     "output_type": "execute_result"
    }
   ],
   "source": [
    "code1_list = []\n",
    "a1 = pd.DataFrame(a1)\n",
    "a1 = a1.rename(columns = {0: 'counts'})\n",
    "a1_max = a1.iloc[a1['counts'].values.argmax()]\n",
    "code1_list.append(a1_max)\n",
    "b1 = pd.DataFrame(b1)\n",
    "b1 = b1.rename(columns = {0: 'counts'})\n",
    "code1_list.append(b1.iloc[b1['counts'].values.argmax()])\n",
    "c1 = pd.DataFrame(c1)\n",
    "c1 = c1.rename(columns = {0: 'counts'})\n",
    "code1_list.append(c1.iloc[c1['counts'].values.argmax()])\n",
    "d1 = pd.DataFrame(d1)\n",
    "d1 = d1.rename(columns = {0: 'counts'})\n",
    "code1_list.append(d1.iloc[d1['counts'].values.argmax()])\n",
    "e1 = pd.DataFrame(e1)\n",
    "e1 = e1.rename(columns = {0: 'counts'})\n",
    "code1_list.append(e1.iloc[e1['counts'].values.argmax()])\n",
    "f1 = pd.DataFrame(f1)\n",
    "f1 = f1.rename(columns = {0: 'counts'})\n",
    "code1_list.append(f1.iloc[f1['counts'].values.argmax()])\n",
    "g1 = pd.DataFrame(g1)\n",
    "g1 = g1.rename(columns = {0: 'counts'})\n",
    "code1_list.append(g1.iloc[g1['counts'].values.argmax()])\n",
    "h1 = pd.DataFrame(h1)\n",
    "h1 = h1.rename(columns = {0: 'counts'})\n",
    "code1_list.append(h1.iloc[h1['counts'].values.argmax()])\n",
    "i1 = pd.DataFrame(i1)\n",
    "i1 = i1.rename(columns = {0: 'counts'})\n",
    "code1_list.append(i1.iloc[i1['counts'].values.argmax()])\n",
    "j1 = pd.DataFrame(j1)\n",
    "j1 = j1.rename(columns = {0: 'counts'})\n",
    "code1_list.append(j1.iloc[j1['counts'].values.argmax()])\n",
    "k1 = pd.DataFrame(k1)\n",
    "k1 = k1.rename(columns = {0: 'counts'})\n",
    "code1_list.append(k1.iloc[k1['counts'].values.argmax()])\n",
    "l1 = pd.DataFrame(l1)\n",
    "l1 = l1.rename(columns = {0: 'counts'})\n",
    "code1_list.append(l1.iloc[l1['counts'].values.argmax()])\n",
    "m1 = pd.DataFrame(m1)\n",
    "m1 = m1.rename(columns = {0: 'counts'})\n",
    "code1_list.append(m1.iloc[m1['counts'].values.argmax()])\n",
    "n1 = pd.DataFrame(n1)\n",
    "n1 = n1.rename(columns = {0: 'counts'})\n",
    "code1_list.append(n1.iloc[n1['counts'].values.argmax()])\n",
    "o1 = pd.DataFrame(o1)\n",
    "o1 = o1.rename(columns = {0: 'counts'})\n",
    "code1_list.append(o1.iloc[o1['counts'].values.argmax()])\n",
    "p1 = pd.DataFrame(p1)\n",
    "p1 = p1.rename(columns = {0: 'counts'})\n",
    "#code1_list.append(p1.iloc[p1['counts'].values.argmax()])\n",
    "q1 = pd.DataFrame(q1)\n",
    "q1 = q1.rename(columns = {0: 'counts'})\n",
    "code1_list.append(q1.iloc[q1['counts'].values.argmax()])\n",
    "r1 = pd.DataFrame(r1)\n",
    "r1 = r1.rename(columns = {0: 'counts'})\n",
    "code1_list.append(r1.iloc[r1['counts'].values.argmax()])\n",
    "s1 = pd.DataFrame(s1)\n",
    "s1 = s1.rename(columns = {0: 'counts'})\n",
    "code1_list.append(s1.iloc[s1['counts'].values.argmax()])\n",
    "t1 = pd.DataFrame(t1)\n",
    "t1 = t1.rename(columns = {0: 'counts'})\n",
    "code1_list.append(t1.iloc[t1['counts'].values.argmax()])\n",
    "u1 = pd.DataFrame(u1)\n",
    "u1 = u1.rename(columns = {0: 'counts'})\n",
    "code1_list.append(u1.iloc[u1['counts'].values.argmax()])\n",
    "v1 = pd.DataFrame(v1)\n",
    "v1 = v1.rename(columns = {0: 'counts'})\n",
    "#code1_list.append(v1.iloc[v1['counts'].values.argmax()])\n",
    "w1 = pd.DataFrame(w1)\n",
    "w1 = w1.rename(columns = {0: 'counts'})\n",
    "#code1_list.append(w1.iloc[w1['counts'].values.argmax()])\n",
    "x1 = pd.DataFrame(x1)\n",
    "x1 = x1.rename(columns = {0: 'counts'})\n",
    "#code1_list.append(x1.iloc[x1['counts'].values.argmax()])\n",
    "y1 = pd.DataFrame(y1)\n",
    "y1 = y1.rename(columns = {0: 'counts'})\n",
    "#code1_list.append(y1.iloc[y1['counts'].values.argmax()])\n",
    "z1 = pd.DataFrame(z1)\n",
    "z1 = z1.rename(columns = {0: 'counts'})\n",
    "code1_list.append(z1.iloc[z1['counts'].values.argmax()])\n",
    "code1_list"
   ]
  },
  {
   "cell_type": "code",
   "execution_count": 40,
   "metadata": {
    "collapsed": false
   },
   "outputs": [
    {
     "name": "stderr",
     "output_type": "stream",
     "text": [
      "C:\\ProgramData\\Anaconda3\\lib\\site-packages\\ipykernel\\__main__.py:2: SettingWithCopyWarning: \n",
      "A value is trying to be set on a copy of a slice from a DataFrame.\n",
      "Try using .loc[row_indexer,col_indexer] = value instead\n",
      "\n",
      "See the caveats in the documentation: http://pandas.pydata.org/pandas-docs/stable/indexing.html#indexing-view-versus-copy\n",
      "  from ipykernel import kernelapp as app\n",
      "C:\\ProgramData\\Anaconda3\\lib\\site-packages\\ipykernel\\__main__.py:6: SettingWithCopyWarning: \n",
      "A value is trying to be set on a copy of a slice from a DataFrame.\n",
      "Try using .loc[row_indexer,col_indexer] = value instead\n",
      "\n",
      "See the caveats in the documentation: http://pandas.pydata.org/pandas-docs/stable/indexing.html#indexing-view-versus-copy\n",
      "C:\\ProgramData\\Anaconda3\\lib\\site-packages\\ipykernel\\__main__.py:10: SettingWithCopyWarning: \n",
      "A value is trying to be set on a copy of a slice from a DataFrame.\n",
      "Try using .loc[row_indexer,col_indexer] = value instead\n",
      "\n",
      "See the caveats in the documentation: http://pandas.pydata.org/pandas-docs/stable/indexing.html#indexing-view-versus-copy\n"
     ]
    }
   ],
   "source": [
    "code1_st_graph1 = ms_2010_2015_code1_th[ms_2010_2015_code1_th['main_sick'].str.match('I109')]\n",
    "code1_st_graph1['main_sick'] = code1_st_graph1['main_sick'].map({'I109': 'Unspecified hypertension'})\n",
    "code1_st_graph1 = pd.value_counts(code1_st_graph1['main_sick'].values, sort = False)\n",
    "code1_st_graph1 = pd.DataFrame(code1_st_graph1)\n",
    "code1_st_graph2 = ms_2010_2015_code1_th[ms_2010_2015_code1_th['main_sick'].str.match('J209')]\n",
    "code1_st_graph2['main_sick'] = code1_st_graph2['main_sick'].map({'J209': 'Acute bronchitis, unspecified'})\n",
    "code1_st_graph2 = pd.value_counts(code1_st_graph2['main_sick'].values, sort = False)\n",
    "code1_st_graph2 = pd.DataFrame(code1_st_graph2)\n",
    "code1_st_graph3 = ms_2010_2015_code1_th[ms_2010_2015_code1_th['main_sick'].str.match('E119')]\n",
    "code1_st_graph3['main_sick'] = code1_st_graph3['main_sick'].map({'E119': 'Non-insulin-dependent diabetes mellitus'})\n",
    "code1_st_graph3 = pd.value_counts(code1_st_graph3['main_sick'].values, sort = False)\n",
    "code1_st_graph3 = pd.DataFrame(code1_st_graph3)\n",
    "c1_st_123 = pd.concat([code1_st_graph1, code1_st_graph2, code1_st_graph3]).reset_index()\n",
    "c1_st_123 = c1_st_123.rename(columns = {'index' : 'main_sick', 0: 'Total_patients'})\n",
    "color = ['limegreen', 'palegreen', 'honeydew']\n",
    "c1_st_123.plot(kind = 'pie', y = 'Total_patients', autopct = '%1.1f%%', startangle = 180, labels = c1_st_123['main_sick'], legend = True, title = 'April', colors = color, figsize = (15, 10))\n",
    "plt.axis('equal')\n",
    "plt.tight_layout()\n",
    "plt.savefig('내과 4월 main_sick pie chart.png', dpi = 1000)"
   ]
  },
  {
   "cell_type": "markdown",
   "metadata": {
    "collapsed": true
   },
   "source": [
    "## Visualization treat_kind 4 with Month"
   ]
  },
  {
   "cell_type": "code",
   "execution_count": 41,
   "metadata": {
    "collapsed": false
   },
   "outputs": [
    {
     "name": "stderr",
     "output_type": "stream",
     "text": [
      "C:\\ProgramData\\Anaconda3\\lib\\site-packages\\ipykernel\\__main__.py:2: SettingWithCopyWarning: \n",
      "A value is trying to be set on a copy of a slice from a DataFrame.\n",
      "Try using .loc[row_indexer,col_indexer] = value instead\n",
      "\n",
      "See the caveats in the documentation: http://pandas.pydata.org/pandas-docs/stable/indexing.html#indexing-view-versus-copy\n",
      "  from ipykernel import kernelapp as app\n",
      "C:\\ProgramData\\Anaconda3\\lib\\site-packages\\matplotlib\\pyplot.py:524: RuntimeWarning: More than 20 figures have been opened. Figures created through the pyplot interface (`matplotlib.pyplot.figure`) are retained until explicitly closed and may consume too much memory. (To control this warning, see the rcParam `figure.max_open_warning`).\n",
      "  max_open_warning, RuntimeWarning)\n"
     ]
    }
   ],
   "source": [
    "tk_2010_2015 = JR_2010_2015[['rec_date', 'treat_kind']]\n",
    "tk_2010_2015['rec_date'] = pd.to_datetime(tk_2010_2015['rec_date'], format = '%Y%m%d', errors = 'coerce')\n",
    "tk_2010_2015_code1 = tk_2010_2015[tk_2010_2015['treat_kind'] == 5]\n",
    "tk_2010_2015_code1_ct = tk_2010_2015_code1['rec_date'].groupby(tk_2010_2015_code1.rec_date.dt.month).agg('count')\n",
    "tk_2010_2015_code1_ct = pd.DataFrame(tk_2010_2015_code1_ct)\n",
    "plt.figure()\n",
    "tk_2010_2015_code1_ct = tk_2010_2015_code1_ct.rename(columns= {'rec_date': 'Total_patients'})\n",
    "tk_2010_2015_code1_ct = tk_2010_2015_code1_ct.reset_index()\n",
    "tk_2010_2015_code1_ct = tk_2010_2015_code1_ct.rename(columns = {'rec_date': 'Month'})\n",
    "tk_2010_2015_code1_ct\n",
    "\n",
    "f, ax = plt.subplots(figsize = (10, 15))\n",
    "\n",
    "# plot the total treat_kind 4\n",
    "sns.barplot(x = 'Month', y = 'Total_patients', data = tk_2010_2015_code1_ct)\n",
    "plt.savefig('정형외과 월별 이용 인원.png', dpi=1000)"
   ]
  },
  {
   "cell_type": "markdown",
   "metadata": {},
   "source": [
    "## Find max value and making new table (3 large value)"
   ]
  },
  {
   "cell_type": "code",
   "execution_count": 42,
   "metadata": {
    "collapsed": false
   },
   "outputs": [
    {
     "data": {
      "text/html": [
       "<div>\n",
       "<table border=\"1\" class=\"dataframe\">\n",
       "  <thead>\n",
       "    <tr style=\"text-align: right;\">\n",
       "      <th></th>\n",
       "      <th>Month</th>\n",
       "      <th>Total_patients</th>\n",
       "    </tr>\n",
       "  </thead>\n",
       "  <tbody>\n",
       "    <tr>\n",
       "      <th>6</th>\n",
       "      <td>7</td>\n",
       "      <td>533476</td>\n",
       "    </tr>\n",
       "    <tr>\n",
       "      <th>3</th>\n",
       "      <td>4</td>\n",
       "      <td>510679</td>\n",
       "    </tr>\n",
       "    <tr>\n",
       "      <th>4</th>\n",
       "      <td>5</td>\n",
       "      <td>506484</td>\n",
       "    </tr>\n",
       "  </tbody>\n",
       "</table>\n",
       "</div>"
      ],
      "text/plain": [
       "   Month  Total_patients\n",
       "6      7          533476\n",
       "3      4          510679\n",
       "4      5          506484"
      ]
     },
     "execution_count": 42,
     "metadata": {},
     "output_type": "execute_result"
    }
   ],
   "source": [
    "tk_2010_2015_code1_ct = tk_2010_2015_code1_ct.sort_values(by='Total_patients', ascending = False)\n",
    "tk_2010_2015_code1_ct_large = tk_2010_2015_code1_ct.iloc[0:3]\n",
    "tk_2010_2015_code1_ct_large"
   ]
  },
  {
   "cell_type": "code",
   "execution_count": 43,
   "metadata": {
    "collapsed": false
   },
   "outputs": [
    {
     "name": "stderr",
     "output_type": "stream",
     "text": [
      "C:\\ProgramData\\Anaconda3\\lib\\site-packages\\ipykernel\\__main__.py:3: SettingWithCopyWarning: \n",
      "A value is trying to be set on a copy of a slice from a DataFrame\n",
      "\n",
      "See the caveats in the documentation: http://pandas.pydata.org/pandas-docs/stable/indexing.html#indexing-view-versus-copy\n",
      "  app.launch_new_instance()\n"
     ]
    },
    {
     "data": {
      "text/html": [
       "<div>\n",
       "<table border=\"1\" class=\"dataframe\">\n",
       "  <thead>\n",
       "    <tr style=\"text-align: right;\">\n",
       "      <th></th>\n",
       "      <th>Month</th>\n",
       "      <th>Total_patients</th>\n",
       "    </tr>\n",
       "  </thead>\n",
       "  <tbody>\n",
       "    <tr>\n",
       "      <th>0</th>\n",
       "      <td>7</td>\n",
       "      <td>533476</td>\n",
       "    </tr>\n",
       "    <tr>\n",
       "      <th>1</th>\n",
       "      <td>4</td>\n",
       "      <td>510679</td>\n",
       "    </tr>\n",
       "    <tr>\n",
       "      <th>2</th>\n",
       "      <td>5</td>\n",
       "      <td>506484</td>\n",
       "    </tr>\n",
       "    <tr>\n",
       "      <th>3</th>\n",
       "      <td>ect</td>\n",
       "      <td>4314180</td>\n",
       "    </tr>\n",
       "  </tbody>\n",
       "</table>\n",
       "</div>"
      ],
      "text/plain": [
       "  Month  Total_patients\n",
       "0     7          533476\n",
       "1     4          510679\n",
       "2     5          506484\n",
       "3   ect         4314180"
      ]
     },
     "execution_count": 43,
     "metadata": {},
     "output_type": "execute_result"
    }
   ],
   "source": [
    "tk_2010_2015_code1_ct_ect = tk_2010_2015_code1_ct.iloc[3:12]\n",
    "tk_2010_2015_code1_ct_ect = tk_2010_2015_code1_ct_ect['Total_patients'].sum()\n",
    "tk_2010_2015_code1_ct_large.loc[1] = ['ect', tk_2010_2015_code1_ct_ect]\n",
    "tk_2010_2015_code1_ct_graph = tk_2010_2015_code1_ct_large.reset_index().drop('index', axis = 1)\n",
    "tk_2010_2015_code1_ct_graph"
   ]
  },
  {
   "cell_type": "code",
   "execution_count": 44,
   "metadata": {
    "collapsed": false
   },
   "outputs": [
    {
     "name": "stderr",
     "output_type": "stream",
     "text": [
      "C:\\ProgramData\\Anaconda3\\lib\\site-packages\\matplotlib\\pyplot.py:524: RuntimeWarning: More than 20 figures have been opened. Figures created through the pyplot interface (`matplotlib.pyplot.figure`) are retained until explicitly closed and may consume too much memory. (To control this warning, see the rcParam `figure.max_open_warning`).\n",
      "  max_open_warning, RuntimeWarning)\n"
     ]
    }
   ],
   "source": [
    "color = ['forestgreen', 'limegreen', 'palegreen', 'honeydew']\n",
    "tk_2010_2015_code1_ct_graph.plot(kind = 'pie', y = 'Total_patients', autopct = '%1.1f%%', startangle = 90, labels = tk_2010_2015_code1_ct_graph['Month'], legend = True, colors = color)\n",
    "# plt.pie(tk_2010_2015_code1_ct_graph['Total_patients'], shadow = True, startangle = 0, autopct='%1.1f%%')\n",
    "plt.axis('equal')\n",
    "plt.tight_layout()\n",
    "savefig('정형외과 월별 이용 인원 pie chart.png', dpi=1000)"
   ]
  },
  {
   "cell_type": "code",
   "execution_count": 45,
   "metadata": {
    "collapsed": false
   },
   "outputs": [
    {
     "data": {
      "text/html": [
       "<div>\n",
       "<table border=\"1\" class=\"dataframe\">\n",
       "  <thead>\n",
       "    <tr style=\"text-align: right;\">\n",
       "      <th></th>\n",
       "      <th>rec_date</th>\n",
       "      <th>treat_kind</th>\n",
       "      <th>main_sick</th>\n",
       "    </tr>\n",
       "  </thead>\n",
       "  <tbody>\n",
       "    <tr>\n",
       "      <th>6071</th>\n",
       "      <td>2013-07-17</td>\n",
       "      <td>5</td>\n",
       "      <td>S936</td>\n",
       "    </tr>\n",
       "    <tr>\n",
       "      <th>20092</th>\n",
       "      <td>2013-07-26</td>\n",
       "      <td>5</td>\n",
       "      <td>M138</td>\n",
       "    </tr>\n",
       "    <tr>\n",
       "      <th>20094</th>\n",
       "      <td>2013-07-22</td>\n",
       "      <td>5</td>\n",
       "      <td>M791</td>\n",
       "    </tr>\n",
       "    <tr>\n",
       "      <th>20095</th>\n",
       "      <td>2013-07-06</td>\n",
       "      <td>5</td>\n",
       "      <td>M190</td>\n",
       "    </tr>\n",
       "    <tr>\n",
       "      <th>20096</th>\n",
       "      <td>2013-07-09</td>\n",
       "      <td>5</td>\n",
       "      <td>S934</td>\n",
       "    </tr>\n",
       "  </tbody>\n",
       "</table>\n",
       "</div>"
      ],
      "text/plain": [
       "        rec_date  treat_kind main_sick\n",
       "6071  2013-07-17           5      S936\n",
       "20092 2013-07-26           5      M138\n",
       "20094 2013-07-22           5      M791\n",
       "20095 2013-07-06           5      M190\n",
       "20096 2013-07-09           5      S934"
      ]
     },
     "execution_count": 45,
     "metadata": {},
     "output_type": "execute_result"
    }
   ],
   "source": [
    "ms_2010_2015 = JR_2010_2015[['rec_date', 'treat_kind', 'main_sick']]\n",
    "ms_2010_2015['rec_date'] = pd.to_datetime(ms_2010_2015['rec_date'], format = '%Y%m%d', errors = 'coerce')\n",
    "ms_2010_2015_code1 = ms_2010_2015[ms_2010_2015['treat_kind'] == 5]\n",
    "ms_2010_2015_code1_st = ms_2010_2015_code1.rec_date.dt.month == tk_2010_2015_code1_ct_graph.ix[0, 'Month']\n",
    "ms_2010_2015_code1_st = ms_2010_2015_code1[ms_2010_2015_code1_st]\n",
    "ms_2010_2015_code1_st.head()"
   ]
  },
  {
   "cell_type": "code",
   "execution_count": 46,
   "metadata": {
    "collapsed": false
   },
   "outputs": [
    {
     "data": {
      "text/html": [
       "<div>\n",
       "<table border=\"1\" class=\"dataframe\">\n",
       "  <thead>\n",
       "    <tr style=\"text-align: right;\">\n",
       "      <th></th>\n",
       "      <th>rec_date</th>\n",
       "      <th>treat_kind</th>\n",
       "      <th>main_sick</th>\n",
       "    </tr>\n",
       "  </thead>\n",
       "  <tbody>\n",
       "    <tr>\n",
       "      <th>49483</th>\n",
       "      <td>2013-04-09</td>\n",
       "      <td>5</td>\n",
       "      <td>S134</td>\n",
       "    </tr>\n",
       "    <tr>\n",
       "      <th>49504</th>\n",
       "      <td>2013-04-05</td>\n",
       "      <td>5</td>\n",
       "      <td>S335</td>\n",
       "    </tr>\n",
       "    <tr>\n",
       "      <th>49560</th>\n",
       "      <td>2013-04-04</td>\n",
       "      <td>5</td>\n",
       "      <td>M796</td>\n",
       "    </tr>\n",
       "    <tr>\n",
       "      <th>49577</th>\n",
       "      <td>2013-04-26</td>\n",
       "      <td>5</td>\n",
       "      <td>M139</td>\n",
       "    </tr>\n",
       "    <tr>\n",
       "      <th>49584</th>\n",
       "      <td>2013-04-03</td>\n",
       "      <td>5</td>\n",
       "      <td>M139</td>\n",
       "    </tr>\n",
       "  </tbody>\n",
       "</table>\n",
       "</div>"
      ],
      "text/plain": [
       "        rec_date  treat_kind main_sick\n",
       "49483 2013-04-09           5      S134\n",
       "49504 2013-04-05           5      S335\n",
       "49560 2013-04-04           5      M796\n",
       "49577 2013-04-26           5      M139\n",
       "49584 2013-04-03           5      M139"
      ]
     },
     "execution_count": 46,
     "metadata": {},
     "output_type": "execute_result"
    }
   ],
   "source": [
    "ms_2010_2015_code1_nd = ms_2010_2015_code1.rec_date.dt.month == tk_2010_2015_code1_ct_graph.ix[1, 'Month']\n",
    "ms_2010_2015_code1_nd = ms_2010_2015_code1[ms_2010_2015_code1_nd]\n",
    "ms_2010_2015_code1_nd.head()"
   ]
  },
  {
   "cell_type": "code",
   "execution_count": 47,
   "metadata": {
    "collapsed": false
   },
   "outputs": [
    {
     "data": {
      "text/html": [
       "<div>\n",
       "<table border=\"1\" class=\"dataframe\">\n",
       "  <thead>\n",
       "    <tr style=\"text-align: right;\">\n",
       "      <th></th>\n",
       "      <th>rec_date</th>\n",
       "      <th>treat_kind</th>\n",
       "      <th>main_sick</th>\n",
       "    </tr>\n",
       "  </thead>\n",
       "  <tbody>\n",
       "    <tr>\n",
       "      <th>63732</th>\n",
       "      <td>2013-05-14</td>\n",
       "      <td>5</td>\n",
       "      <td>M796</td>\n",
       "    </tr>\n",
       "    <tr>\n",
       "      <th>63733</th>\n",
       "      <td>2013-05-18</td>\n",
       "      <td>5</td>\n",
       "      <td>S015</td>\n",
       "    </tr>\n",
       "    <tr>\n",
       "      <th>63750</th>\n",
       "      <td>2013-05-15</td>\n",
       "      <td>5</td>\n",
       "      <td>S013</td>\n",
       "    </tr>\n",
       "    <tr>\n",
       "      <th>63752</th>\n",
       "      <td>2013-05-25</td>\n",
       "      <td>5</td>\n",
       "      <td>M139</td>\n",
       "    </tr>\n",
       "    <tr>\n",
       "      <th>63755</th>\n",
       "      <td>2013-05-16</td>\n",
       "      <td>5</td>\n",
       "      <td>M139</td>\n",
       "    </tr>\n",
       "  </tbody>\n",
       "</table>\n",
       "</div>"
      ],
      "text/plain": [
       "        rec_date  treat_kind main_sick\n",
       "63732 2013-05-14           5      M796\n",
       "63733 2013-05-18           5      S015\n",
       "63750 2013-05-15           5      S013\n",
       "63752 2013-05-25           5      M139\n",
       "63755 2013-05-16           5      M139"
      ]
     },
     "execution_count": 47,
     "metadata": {},
     "output_type": "execute_result"
    }
   ],
   "source": [
    "ms_2010_2015_code1_th = ms_2010_2015_code1.rec_date.dt.month == tk_2010_2015_code1_ct_graph.ix[2, 'Month']\n",
    "ms_2010_2015_code1_th = ms_2010_2015_code1[ms_2010_2015_code1_th]\n",
    "ms_2010_2015_code1_th.head()"
   ]
  },
  {
   "cell_type": "markdown",
   "metadata": {},
   "source": [
    "## First Month Find 3 Large main_sick"
   ]
  },
  {
   "cell_type": "code",
   "execution_count": 48,
   "metadata": {
    "collapsed": true
   },
   "outputs": [],
   "source": [
    "a1 = pd.value_counts(ms_2010_2015_code1_st[ms_2010_2015_code1_st['main_sick'].str.match('A')]['main_sick'].values, sort = True)\n",
    "b1 = pd.value_counts(ms_2010_2015_code1_st[ms_2010_2015_code1_st['main_sick'].str.match('B')]['main_sick'].values, sort = True)\n",
    "c1 = pd.value_counts(ms_2010_2015_code1_st[ms_2010_2015_code1_st['main_sick'].str.match('C')]['main_sick'].values, sort = True)\n",
    "d1 = pd.value_counts(ms_2010_2015_code1_st[ms_2010_2015_code1_st['main_sick'].str.match('D')]['main_sick'].values, sort = True)\n",
    "e1 = pd.value_counts(ms_2010_2015_code1_st[ms_2010_2015_code1_st['main_sick'].str.match('E')]['main_sick'].values, sort = True)\n",
    "f1 = pd.value_counts(ms_2010_2015_code1_st[ms_2010_2015_code1_st['main_sick'].str.match('F')]['main_sick'].values, sort = True)\n",
    "g1 = pd.value_counts(ms_2010_2015_code1_st[ms_2010_2015_code1_st['main_sick'].str.match('G')]['main_sick'].values, sort = True)\n",
    "h1 = pd.value_counts(ms_2010_2015_code1_st[ms_2010_2015_code1_st['main_sick'].str.match('H')]['main_sick'].values, sort = True)\n",
    "i1 = pd.value_counts(ms_2010_2015_code1_st[ms_2010_2015_code1_st['main_sick'].str.match('I')]['main_sick'].values, sort = True)\n",
    "j1 = pd.value_counts(ms_2010_2015_code1_st[ms_2010_2015_code1_st['main_sick'].str.match('J')]['main_sick'].values, sort = True)\n",
    "k1 = pd.value_counts(ms_2010_2015_code1_st[ms_2010_2015_code1_st['main_sick'].str.match('K')]['main_sick'].values, sort = True)\n",
    "l1 = pd.value_counts(ms_2010_2015_code1_st[ms_2010_2015_code1_st['main_sick'].str.match('L')]['main_sick'].values, sort = True)\n",
    "m1 = pd.value_counts(ms_2010_2015_code1_st[ms_2010_2015_code1_st['main_sick'].str.match('M')]['main_sick'].values, sort = True)\n",
    "n1 = pd.value_counts(ms_2010_2015_code1_st[ms_2010_2015_code1_st['main_sick'].str.match('N')]['main_sick'].values, sort = True)\n",
    "o1 = pd.value_counts(ms_2010_2015_code1_st[ms_2010_2015_code1_st['main_sick'].str.match('O')]['main_sick'].values, sort = True)\n",
    "p1 = pd.value_counts(ms_2010_2015_code1_st[ms_2010_2015_code1_st['main_sick'].str.match('P')]['main_sick'].values, sort = True)\n",
    "q1 = pd.value_counts(ms_2010_2015_code1_st[ms_2010_2015_code1_st['main_sick'].str.match('Q')]['main_sick'].values, sort = True)\n",
    "r1 = pd.value_counts(ms_2010_2015_code1_st[ms_2010_2015_code1_st['main_sick'].str.match('R')]['main_sick'].values, sort = True)\n",
    "s1 = pd.value_counts(ms_2010_2015_code1_st[ms_2010_2015_code1_st['main_sick'].str.match('S')]['main_sick'].values, sort = True)\n",
    "t1 = pd.value_counts(ms_2010_2015_code1_st[ms_2010_2015_code1_st['main_sick'].str.match('T')]['main_sick'].values, sort = True)\n",
    "u1 = pd.value_counts(ms_2010_2015_code1_st[ms_2010_2015_code1_st['main_sick'].str.match('U')]['main_sick'].values, sort = True)\n",
    "v1 = pd.value_counts(ms_2010_2015_code1_st[ms_2010_2015_code1_st['main_sick'].str.match('V')]['main_sick'].values, sort = True)\n",
    "w1 = pd.value_counts(ms_2010_2015_code1_st[ms_2010_2015_code1_st['main_sick'].str.match('W')]['main_sick'].values, sort = True)\n",
    "x1 = pd.value_counts(ms_2010_2015_code1_st[ms_2010_2015_code1_st['main_sick'].str.match('X')]['main_sick'].values, sort = True)\n",
    "y1 = pd.value_counts(ms_2010_2015_code1_st[ms_2010_2015_code1_st['main_sick'].str.match('Y')]['main_sick'].values, sort = True)\n",
    "z1 = pd.value_counts(ms_2010_2015_code1_st[ms_2010_2015_code1_st['main_sick'].str.match('Z')]['main_sick'].values, sort = True)"
   ]
  },
  {
   "cell_type": "code",
   "execution_count": 49,
   "metadata": {
    "collapsed": false
   },
   "outputs": [
    {
     "data": {
      "text/plain": [
       "[counts    43\n",
       " Name: A099, dtype: int64, counts    241\n",
       " Name: B351, dtype: int64, counts    35\n",
       " Name: C402, dtype: int64, counts    154\n",
       " Name: D172, dtype: int64, counts    187\n",
       " Name: E119, dtype: int64, counts    77\n",
       " Name: F009, dtype: int64, counts    894\n",
       " Name: G560, dtype: int64, counts    15\n",
       " Name: H000, dtype: int64, counts    1008\n",
       " Name: I109, dtype: int64, counts    317\n",
       " Name: J209, dtype: int64, counts    172\n",
       " Name: K297, dtype: int64, counts    1138\n",
       " Name: L600, dtype: int64, counts    32118\n",
       " Name: M170, dtype: int64, counts    44\n",
       " Name: N309, dtype: int64, counts    2\n",
       " Name: O989, dtype: int64, counts    2\n",
       " Name: P220, dtype: int64, counts    24\n",
       " Name: Q668, dtype: int64, counts    160\n",
       " Name: R529, dtype: int64, counts    16465\n",
       " Name: S335, dtype: int64, counts    167\n",
       " Name: T141, dtype: int64, counts    176\n",
       " Name: Z988, dtype: int64]"
      ]
     },
     "execution_count": 49,
     "metadata": {},
     "output_type": "execute_result"
    }
   ],
   "source": [
    "code1_list = []\n",
    "a1 = pd.DataFrame(a1)\n",
    "a1 = a1.rename(columns = {0: 'counts'})\n",
    "a1_max = a1.iloc[a1['counts'].values.argmax()]\n",
    "code1_list.append(a1_max)\n",
    "b1 = pd.DataFrame(b1)\n",
    "b1 = b1.rename(columns = {0: 'counts'})\n",
    "code1_list.append(b1.iloc[b1['counts'].values.argmax()])\n",
    "c1 = pd.DataFrame(c1)\n",
    "c1 = c1.rename(columns = {0: 'counts'})\n",
    "code1_list.append(c1.iloc[c1['counts'].values.argmax()])\n",
    "d1 = pd.DataFrame(d1)\n",
    "d1 = d1.rename(columns = {0: 'counts'})\n",
    "code1_list.append(d1.iloc[d1['counts'].values.argmax()])\n",
    "e1 = pd.DataFrame(e1)\n",
    "e1 = e1.rename(columns = {0: 'counts'})\n",
    "code1_list.append(e1.iloc[e1['counts'].values.argmax()])\n",
    "f1 = pd.DataFrame(f1)\n",
    "f1 = f1.rename(columns = {0: 'counts'})\n",
    "code1_list.append(f1.iloc[f1['counts'].values.argmax()])\n",
    "g1 = pd.DataFrame(g1)\n",
    "g1 = g1.rename(columns = {0: 'counts'})\n",
    "code1_list.append(g1.iloc[g1['counts'].values.argmax()])\n",
    "h1 = pd.DataFrame(h1)\n",
    "h1 = h1.rename(columns = {0: 'counts'})\n",
    "code1_list.append(h1.iloc[h1['counts'].values.argmax()])\n",
    "i1 = pd.DataFrame(i1)\n",
    "i1 = i1.rename(columns = {0: 'counts'})\n",
    "code1_list.append(i1.iloc[i1['counts'].values.argmax()])\n",
    "j1 = pd.DataFrame(j1)\n",
    "j1 = j1.rename(columns = {0: 'counts'})\n",
    "code1_list.append(j1.iloc[j1['counts'].values.argmax()])\n",
    "k1 = pd.DataFrame(k1)\n",
    "k1 = k1.rename(columns = {0: 'counts'})\n",
    "code1_list.append(k1.iloc[k1['counts'].values.argmax()])\n",
    "l1 = pd.DataFrame(l1)\n",
    "l1 = l1.rename(columns = {0: 'counts'})\n",
    "code1_list.append(l1.iloc[l1['counts'].values.argmax()])\n",
    "m1 = pd.DataFrame(m1)\n",
    "m1 = m1.rename(columns = {0: 'counts'})\n",
    "code1_list.append(m1.iloc[m1['counts'].values.argmax()])\n",
    "n1 = pd.DataFrame(n1)\n",
    "n1 = n1.rename(columns = {0: 'counts'})\n",
    "code1_list.append(n1.iloc[n1['counts'].values.argmax()])\n",
    "o1 = pd.DataFrame(o1)\n",
    "o1 = o1.rename(columns = {0: 'counts'})\n",
    "code1_list.append(o1.iloc[o1['counts'].values.argmax()])\n",
    "p1 = pd.DataFrame(p1)\n",
    "p1 = p1.rename(columns = {0: 'counts'})\n",
    "code1_list.append(p1.iloc[p1['counts'].values.argmax()])\n",
    "q1 = pd.DataFrame(q1)\n",
    "q1 = q1.rename(columns = {0: 'counts'})\n",
    "code1_list.append(q1.iloc[q1['counts'].values.argmax()])\n",
    "r1 = pd.DataFrame(r1)\n",
    "r1 = r1.rename(columns = {0: 'counts'})\n",
    "code1_list.append(r1.iloc[r1['counts'].values.argmax()])\n",
    "s1 = pd.DataFrame(s1)\n",
    "s1 = s1.rename(columns = {0: 'counts'})\n",
    "code1_list.append(s1.iloc[s1['counts'].values.argmax()])\n",
    "t1 = pd.DataFrame(t1)\n",
    "t1 = t1.rename(columns = {0: 'counts'})\n",
    "code1_list.append(t1.iloc[t1['counts'].values.argmax()])\n",
    "u1 = pd.DataFrame(u1)\n",
    "u1 = u1.rename(columns = {0: 'counts'})\n",
    "#code1_list.append(u1.iloc[u1['counts'].values.argmax()])\n",
    "v1 = pd.DataFrame(v1)\n",
    "v1 = v1.rename(columns = {0: 'counts'})\n",
    "#code1_list.append(v1.iloc[v1['counts'].values.argmax()])\n",
    "w1 = pd.DataFrame(w1)\n",
    "w1 = w1.rename(columns = {0: 'counts'})\n",
    "#code1_list.append(w1.iloc[w1['counts'].values.argmax()])\n",
    "x1 = pd.DataFrame(x1)\n",
    "x1 = x1.rename(columns = {0: 'counts'})\n",
    "#code1_list.append(x1.iloc[x1['counts'].values.argmax()])\n",
    "y1 = pd.DataFrame(y1)\n",
    "y1 = y1.rename(columns = {0: 'counts'})\n",
    "#code1_list.append(y1.iloc[y1['counts'].values.argmax()])\n",
    "z1 = pd.DataFrame(z1)\n",
    "z1 = z1.rename(columns = {0: 'counts'})\n",
    "code1_list.append(z1.iloc[z1['counts'].values.argmax()])\n",
    "code1_list"
   ]
  },
  {
   "cell_type": "code",
   "execution_count": 50,
   "metadata": {
    "collapsed": false
   },
   "outputs": [
    {
     "name": "stderr",
     "output_type": "stream",
     "text": [
      "C:\\ProgramData\\Anaconda3\\lib\\site-packages\\ipykernel\\__main__.py:2: SettingWithCopyWarning: \n",
      "A value is trying to be set on a copy of a slice from a DataFrame.\n",
      "Try using .loc[row_indexer,col_indexer] = value instead\n",
      "\n",
      "See the caveats in the documentation: http://pandas.pydata.org/pandas-docs/stable/indexing.html#indexing-view-versus-copy\n",
      "  from ipykernel import kernelapp as app\n",
      "C:\\ProgramData\\Anaconda3\\lib\\site-packages\\ipykernel\\__main__.py:6: SettingWithCopyWarning: \n",
      "A value is trying to be set on a copy of a slice from a DataFrame.\n",
      "Try using .loc[row_indexer,col_indexer] = value instead\n",
      "\n",
      "See the caveats in the documentation: http://pandas.pydata.org/pandas-docs/stable/indexing.html#indexing-view-versus-copy\n",
      "C:\\ProgramData\\Anaconda3\\lib\\site-packages\\ipykernel\\__main__.py:10: SettingWithCopyWarning: \n",
      "A value is trying to be set on a copy of a slice from a DataFrame.\n",
      "Try using .loc[row_indexer,col_indexer] = value instead\n",
      "\n",
      "See the caveats in the documentation: http://pandas.pydata.org/pandas-docs/stable/indexing.html#indexing-view-versus-copy\n",
      "C:\\ProgramData\\Anaconda3\\lib\\site-packages\\matplotlib\\pyplot.py:524: RuntimeWarning: More than 20 figures have been opened. Figures created through the pyplot interface (`matplotlib.pyplot.figure`) are retained until explicitly closed and may consume too much memory. (To control this warning, see the rcParam `figure.max_open_warning`).\n",
      "  max_open_warning, RuntimeWarning)\n"
     ]
    }
   ],
   "source": [
    "code1_st_graph1 = ms_2010_2015_code1_st[ms_2010_2015_code1_st['main_sick'].str.match('M170')]\n",
    "code1_st_graph1['main_sick'] = code1_st_graph1['main_sick'].map({'M170': 'Primary gonarthrosis, bilateral'})\n",
    "code1_st_graph1 = pd.value_counts(code1_st_graph1['main_sick'].values, sort = False)\n",
    "code1_st_graph1 = pd.DataFrame(code1_st_graph1)\n",
    "code1_st_graph2 = ms_2010_2015_code1_st[ms_2010_2015_code1_st['main_sick'].str.match('S335')]\n",
    "code1_st_graph2['main_sick'] = code1_st_graph2['main_sick'].map({'S335': 'Sprain and strain of lumbar spine'})\n",
    "code1_st_graph2 = pd.value_counts(code1_st_graph2['main_sick'].values, sort = False)\n",
    "code1_st_graph2 = pd.DataFrame(code1_st_graph2)\n",
    "code1_st_graph3 = ms_2010_2015_code1_st[ms_2010_2015_code1_st['main_sick'].str.match('L600')]\n",
    "code1_st_graph3['main_sick'] = code1_st_graph3['main_sick'].map({'L600': 'Ingrowing nail'})\n",
    "code1_st_graph3 = pd.value_counts(code1_st_graph3['main_sick'].values, sort = False)\n",
    "code1_st_graph3 = pd.DataFrame(code1_st_graph3)\n",
    "c1_st_123 = pd.concat([code1_st_graph1, code1_st_graph2, code1_st_graph3]).reset_index()\n",
    "c1_st_123 = c1_st_123.rename(columns = {'index' : 'main_sick', 0: 'Total_patients'})\n",
    "color = ['limegreen', 'palegreen', 'honeydew']\n",
    "c1_st_123.plot(kind = 'pie', y = 'Total_patients', autopct = '%1.1f%%', startangle = 180, labels = c1_st_123['main_sick'], legend = True, title = 'July', colors = color, figsize = (15, 10))\n",
    "plt.axis('equal')\n",
    "plt.tight_layout()\n",
    "plt.savefig('정형외과 7월 main_sick pie chart.png', dpi = 1000)"
   ]
  },
  {
   "cell_type": "markdown",
   "metadata": {},
   "source": [
    "## Second Month Find 3 Large main_sick"
   ]
  },
  {
   "cell_type": "code",
   "execution_count": 51,
   "metadata": {
    "collapsed": true
   },
   "outputs": [],
   "source": [
    "a1 = pd.value_counts(ms_2010_2015_code1_nd[ms_2010_2015_code1_nd['main_sick'].str.match('A')]['main_sick'].values, sort = True)\n",
    "b1 = pd.value_counts(ms_2010_2015_code1_nd[ms_2010_2015_code1_nd['main_sick'].str.match('B')]['main_sick'].values, sort = True)\n",
    "c1 = pd.value_counts(ms_2010_2015_code1_nd[ms_2010_2015_code1_nd['main_sick'].str.match('C')]['main_sick'].values, sort = True)\n",
    "d1 = pd.value_counts(ms_2010_2015_code1_nd[ms_2010_2015_code1_nd['main_sick'].str.match('D')]['main_sick'].values, sort = True)\n",
    "e1 = pd.value_counts(ms_2010_2015_code1_nd[ms_2010_2015_code1_nd['main_sick'].str.match('E')]['main_sick'].values, sort = True)\n",
    "f1 = pd.value_counts(ms_2010_2015_code1_nd[ms_2010_2015_code1_nd['main_sick'].str.match('F')]['main_sick'].values, sort = True)\n",
    "g1 = pd.value_counts(ms_2010_2015_code1_nd[ms_2010_2015_code1_nd['main_sick'].str.match('G')]['main_sick'].values, sort = True)\n",
    "h1 = pd.value_counts(ms_2010_2015_code1_nd[ms_2010_2015_code1_nd['main_sick'].str.match('H')]['main_sick'].values, sort = True)\n",
    "i1 = pd.value_counts(ms_2010_2015_code1_nd[ms_2010_2015_code1_nd['main_sick'].str.match('I')]['main_sick'].values, sort = True)\n",
    "j1 = pd.value_counts(ms_2010_2015_code1_nd[ms_2010_2015_code1_nd['main_sick'].str.match('J')]['main_sick'].values, sort = True)\n",
    "k1 = pd.value_counts(ms_2010_2015_code1_nd[ms_2010_2015_code1_nd['main_sick'].str.match('K')]['main_sick'].values, sort = True)\n",
    "l1 = pd.value_counts(ms_2010_2015_code1_nd[ms_2010_2015_code1_nd['main_sick'].str.match('L')]['main_sick'].values, sort = True)\n",
    "m1 = pd.value_counts(ms_2010_2015_code1_nd[ms_2010_2015_code1_nd['main_sick'].str.match('M')]['main_sick'].values, sort = True)\n",
    "n1 = pd.value_counts(ms_2010_2015_code1_nd[ms_2010_2015_code1_nd['main_sick'].str.match('N')]['main_sick'].values, sort = True)\n",
    "o1 = pd.value_counts(ms_2010_2015_code1_nd[ms_2010_2015_code1_nd['main_sick'].str.match('O')]['main_sick'].values, sort = True)\n",
    "p1 = pd.value_counts(ms_2010_2015_code1_nd[ms_2010_2015_code1_nd['main_sick'].str.match('P')]['main_sick'].values, sort = True)\n",
    "q1 = pd.value_counts(ms_2010_2015_code1_nd[ms_2010_2015_code1_nd['main_sick'].str.match('Q')]['main_sick'].values, sort = True)\n",
    "r1 = pd.value_counts(ms_2010_2015_code1_nd[ms_2010_2015_code1_nd['main_sick'].str.match('R')]['main_sick'].values, sort = True)\n",
    "s1 = pd.value_counts(ms_2010_2015_code1_nd[ms_2010_2015_code1_nd['main_sick'].str.match('S')]['main_sick'].values, sort = True)\n",
    "t1 = pd.value_counts(ms_2010_2015_code1_nd[ms_2010_2015_code1_nd['main_sick'].str.match('T')]['main_sick'].values, sort = True)\n",
    "u1 = pd.value_counts(ms_2010_2015_code1_nd[ms_2010_2015_code1_nd['main_sick'].str.match('U')]['main_sick'].values, sort = True)\n",
    "v1 = pd.value_counts(ms_2010_2015_code1_nd[ms_2010_2015_code1_nd['main_sick'].str.match('V')]['main_sick'].values, sort = True)\n",
    "w1 = pd.value_counts(ms_2010_2015_code1_nd[ms_2010_2015_code1_nd['main_sick'].str.match('W')]['main_sick'].values, sort = True)\n",
    "x1 = pd.value_counts(ms_2010_2015_code1_nd[ms_2010_2015_code1_nd['main_sick'].str.match('X')]['main_sick'].values, sort = True)\n",
    "y1 = pd.value_counts(ms_2010_2015_code1_nd[ms_2010_2015_code1_nd['main_sick'].str.match('Y')]['main_sick'].values, sort = True)\n",
    "z1 = pd.value_counts(ms_2010_2015_code1_nd[ms_2010_2015_code1_nd['main_sick'].str.match('Z')]['main_sick'].values, sort = True)"
   ]
  },
  {
   "cell_type": "code",
   "execution_count": 52,
   "metadata": {
    "collapsed": false
   },
   "outputs": [
    {
     "data": {
      "text/plain": [
       "[counts    54\n",
       " Name: A099, dtype: int64, counts    189\n",
       " Name: B351, dtype: int64, counts    44\n",
       " Name: C402, dtype: int64, counts    125\n",
       " Name: D211, dtype: int64, counts    208\n",
       " Name: E119, dtype: int64, counts    48\n",
       " Name: F009, dtype: int64, counts    793\n",
       " Name: G560, dtype: int64, counts    10\n",
       " Name: H109, dtype: int64, counts    1006\n",
       " Name: I109, dtype: int64, counts    753\n",
       " Name: J209, dtype: int64, counts    210\n",
       " Name: K297, dtype: int64, counts    829\n",
       " Name: L600, dtype: int64, counts    32449\n",
       " Name: M170, dtype: int64, counts    46\n",
       " Name: N309, dtype: int64, counts    2\n",
       " Name: O800, dtype: int64, counts    2\n",
       " Name: P599, dtype: int64, counts    20\n",
       " Name: Q668, dtype: int64, counts    179\n",
       " Name: R529, dtype: int64, counts    14808\n",
       " Name: S335, dtype: int64, counts    158\n",
       " Name: T232, dtype: int64, counts    182\n",
       " Name: Z988, dtype: int64]"
      ]
     },
     "execution_count": 52,
     "metadata": {},
     "output_type": "execute_result"
    }
   ],
   "source": [
    "code1_list = []\n",
    "a1 = pd.DataFrame(a1)\n",
    "a1 = a1.rename(columns = {0: 'counts'})\n",
    "a1_max = a1.iloc[a1['counts'].values.argmax()]\n",
    "code1_list.append(a1_max)\n",
    "b1 = pd.DataFrame(b1)\n",
    "b1 = b1.rename(columns = {0: 'counts'})\n",
    "code1_list.append(b1.iloc[b1['counts'].values.argmax()])\n",
    "c1 = pd.DataFrame(c1)\n",
    "c1 = c1.rename(columns = {0: 'counts'})\n",
    "code1_list.append(c1.iloc[c1['counts'].values.argmax()])\n",
    "d1 = pd.DataFrame(d1)\n",
    "d1 = d1.rename(columns = {0: 'counts'})\n",
    "code1_list.append(d1.iloc[d1['counts'].values.argmax()])\n",
    "e1 = pd.DataFrame(e1)\n",
    "e1 = e1.rename(columns = {0: 'counts'})\n",
    "code1_list.append(e1.iloc[e1['counts'].values.argmax()])\n",
    "f1 = pd.DataFrame(f1)\n",
    "f1 = f1.rename(columns = {0: 'counts'})\n",
    "code1_list.append(f1.iloc[f1['counts'].values.argmax()])\n",
    "g1 = pd.DataFrame(g1)\n",
    "g1 = g1.rename(columns = {0: 'counts'})\n",
    "code1_list.append(g1.iloc[g1['counts'].values.argmax()])\n",
    "h1 = pd.DataFrame(h1)\n",
    "h1 = h1.rename(columns = {0: 'counts'})\n",
    "code1_list.append(h1.iloc[h1['counts'].values.argmax()])\n",
    "i1 = pd.DataFrame(i1)\n",
    "i1 = i1.rename(columns = {0: 'counts'})\n",
    "code1_list.append(i1.iloc[i1['counts'].values.argmax()])\n",
    "j1 = pd.DataFrame(j1)\n",
    "j1 = j1.rename(columns = {0: 'counts'})\n",
    "code1_list.append(j1.iloc[j1['counts'].values.argmax()])\n",
    "k1 = pd.DataFrame(k1)\n",
    "k1 = k1.rename(columns = {0: 'counts'})\n",
    "code1_list.append(k1.iloc[k1['counts'].values.argmax()])\n",
    "l1 = pd.DataFrame(l1)\n",
    "l1 = l1.rename(columns = {0: 'counts'})\n",
    "code1_list.append(l1.iloc[l1['counts'].values.argmax()])\n",
    "m1 = pd.DataFrame(m1)\n",
    "m1 = m1.rename(columns = {0: 'counts'})\n",
    "code1_list.append(m1.iloc[m1['counts'].values.argmax()])\n",
    "n1 = pd.DataFrame(n1)\n",
    "n1 = n1.rename(columns = {0: 'counts'})\n",
    "code1_list.append(n1.iloc[n1['counts'].values.argmax()])\n",
    "o1 = pd.DataFrame(o1)\n",
    "o1 = o1.rename(columns = {0: 'counts'})\n",
    "code1_list.append(o1.iloc[o1['counts'].values.argmax()])\n",
    "p1 = pd.DataFrame(p1)\n",
    "p1 = p1.rename(columns = {0: 'counts'})\n",
    "code1_list.append(p1.iloc[p1['counts'].values.argmax()])\n",
    "q1 = pd.DataFrame(q1)\n",
    "q1 = q1.rename(columns = {0: 'counts'})\n",
    "code1_list.append(q1.iloc[q1['counts'].values.argmax()])\n",
    "r1 = pd.DataFrame(r1)\n",
    "r1 = r1.rename(columns = {0: 'counts'})\n",
    "code1_list.append(r1.iloc[r1['counts'].values.argmax()])\n",
    "s1 = pd.DataFrame(s1)\n",
    "s1 = s1.rename(columns = {0: 'counts'})\n",
    "code1_list.append(s1.iloc[s1['counts'].values.argmax()])\n",
    "t1 = pd.DataFrame(t1)\n",
    "t1 = t1.rename(columns = {0: 'counts'})\n",
    "code1_list.append(t1.iloc[t1['counts'].values.argmax()])\n",
    "u1 = pd.DataFrame(u1)\n",
    "u1 = u1.rename(columns = {0: 'counts'})\n",
    "#code1_list.append(u1.iloc[u1['counts'].values.argmax()])\n",
    "v1 = pd.DataFrame(v1)\n",
    "v1 = v1.rename(columns = {0: 'counts'})\n",
    "#code1_list.append(v1.iloc[v1['counts'].values.argmax()])\n",
    "w1 = pd.DataFrame(w1)\n",
    "w1 = w1.rename(columns = {0: 'counts'})\n",
    "#code1_list.append(w1.iloc[w1['counts'].values.argmax()])\n",
    "x1 = pd.DataFrame(x1)\n",
    "x1 = x1.rename(columns = {0: 'counts'})\n",
    "#code1_list.append(x1.iloc[x1['counts'].values.argmax()])\n",
    "y1 = pd.DataFrame(y1)\n",
    "y1 = y1.rename(columns = {0: 'counts'})\n",
    "#code1_list.append(y1.iloc[y1['counts'].values.argmax()])\n",
    "z1 = pd.DataFrame(z1)\n",
    "z1 = z1.rename(columns = {0: 'counts'})\n",
    "code1_list.append(z1.iloc[z1['counts'].values.argmax()])\n",
    "code1_list"
   ]
  },
  {
   "cell_type": "code",
   "execution_count": 54,
   "metadata": {
    "collapsed": false
   },
   "outputs": [
    {
     "name": "stderr",
     "output_type": "stream",
     "text": [
      "C:\\ProgramData\\Anaconda3\\lib\\site-packages\\ipykernel\\__main__.py:2: SettingWithCopyWarning: \n",
      "A value is trying to be set on a copy of a slice from a DataFrame.\n",
      "Try using .loc[row_indexer,col_indexer] = value instead\n",
      "\n",
      "See the caveats in the documentation: http://pandas.pydata.org/pandas-docs/stable/indexing.html#indexing-view-versus-copy\n",
      "  from ipykernel import kernelapp as app\n",
      "C:\\ProgramData\\Anaconda3\\lib\\site-packages\\ipykernel\\__main__.py:6: SettingWithCopyWarning: \n",
      "A value is trying to be set on a copy of a slice from a DataFrame.\n",
      "Try using .loc[row_indexer,col_indexer] = value instead\n",
      "\n",
      "See the caveats in the documentation: http://pandas.pydata.org/pandas-docs/stable/indexing.html#indexing-view-versus-copy\n",
      "C:\\ProgramData\\Anaconda3\\lib\\site-packages\\ipykernel\\__main__.py:10: SettingWithCopyWarning: \n",
      "A value is trying to be set on a copy of a slice from a DataFrame.\n",
      "Try using .loc[row_indexer,col_indexer] = value instead\n",
      "\n",
      "See the caveats in the documentation: http://pandas.pydata.org/pandas-docs/stable/indexing.html#indexing-view-versus-copy\n",
      "C:\\ProgramData\\Anaconda3\\lib\\site-packages\\matplotlib\\pyplot.py:524: RuntimeWarning: More than 20 figures have been opened. Figures created through the pyplot interface (`matplotlib.pyplot.figure`) are retained until explicitly closed and may consume too much memory. (To control this warning, see the rcParam `figure.max_open_warning`).\n",
      "  max_open_warning, RuntimeWarning)\n"
     ]
    }
   ],
   "source": [
    "code1_st_graph1 = ms_2010_2015_code1_nd[ms_2010_2015_code1_nd['main_sick'].str.match('M170')]\n",
    "code1_st_graph1['main_sick'] = code1_st_graph1['main_sick'].map({'M170': 'Primary gonarthrosis, bilateral'})\n",
    "code1_st_graph1 = pd.value_counts(code1_st_graph1['main_sick'].values, sort = False)\n",
    "code1_st_graph1 = pd.DataFrame(code1_st_graph1)\n",
    "code1_st_graph2 = ms_2010_2015_code1_nd[ms_2010_2015_code1_nd['main_sick'].str.match('S335')]\n",
    "code1_st_graph2['main_sick'] = code1_st_graph2['main_sick'].map({'S335': 'Sprain and strain of lumbar spine'})\n",
    "code1_st_graph2 = pd.value_counts(code1_st_graph2['main_sick'].values, sort = False)\n",
    "code1_st_graph2 = pd.DataFrame(code1_st_graph2)\n",
    "code1_st_graph3 = ms_2010_2015_code1_nd[ms_2010_2015_code1_nd['main_sick'].str.match('I109')]\n",
    "code1_st_graph3['main_sick'] = code1_st_graph3['main_sick'].map({'I109': 'Unspecified hypertension'})\n",
    "code1_st_graph3 = pd.value_counts(code1_st_graph3['main_sick'].values, sort = False)\n",
    "code1_st_graph3 = pd.DataFrame(code1_st_graph3)\n",
    "c1_st_123 = pd.concat([code1_st_graph1, code1_st_graph2, code1_st_graph3]).reset_index()\n",
    "c1_st_123 = c1_st_123.rename(columns = {'index' : 'main_sick', 0: 'Total_patients'})\n",
    "color = ['limegreen', 'palegreen', 'honeydew']\n",
    "c1_st_123.plot(kind = 'pie', y = 'Total_patients', autopct = '%1.1f%%', startangle = 180, labels = c1_st_123['main_sick'], legend = True, title = 'January', colors = color, figsize = (15, 10))\n",
    "plt.axis('equal')\n",
    "plt.tight_layout()\n",
    "plt.savefig('정형외과 4월 main_sick pie chart.png', dpi = 1000)"
   ]
  },
  {
   "cell_type": "markdown",
   "metadata": {},
   "source": [
    "## Third Month Find 3 Large main_sick¶"
   ]
  },
  {
   "cell_type": "code",
   "execution_count": 55,
   "metadata": {
    "collapsed": true
   },
   "outputs": [],
   "source": [
    "a1 = pd.value_counts(ms_2010_2015_code1_th[ms_2010_2015_code1_th['main_sick'].str.match('A')]['main_sick'].values, sort = True)\n",
    "b1 = pd.value_counts(ms_2010_2015_code1_th[ms_2010_2015_code1_th['main_sick'].str.match('B')]['main_sick'].values, sort = True)\n",
    "c1 = pd.value_counts(ms_2010_2015_code1_th[ms_2010_2015_code1_th['main_sick'].str.match('C')]['main_sick'].values, sort = True)\n",
    "d1 = pd.value_counts(ms_2010_2015_code1_th[ms_2010_2015_code1_th['main_sick'].str.match('D')]['main_sick'].values, sort = True)\n",
    "e1 = pd.value_counts(ms_2010_2015_code1_th[ms_2010_2015_code1_th['main_sick'].str.match('E')]['main_sick'].values, sort = True)\n",
    "f1 = pd.value_counts(ms_2010_2015_code1_th[ms_2010_2015_code1_th['main_sick'].str.match('F')]['main_sick'].values, sort = True)\n",
    "g1 = pd.value_counts(ms_2010_2015_code1_th[ms_2010_2015_code1_th['main_sick'].str.match('G')]['main_sick'].values, sort = True)\n",
    "h1 = pd.value_counts(ms_2010_2015_code1_th[ms_2010_2015_code1_th['main_sick'].str.match('H')]['main_sick'].values, sort = True)\n",
    "i1 = pd.value_counts(ms_2010_2015_code1_th[ms_2010_2015_code1_th['main_sick'].str.match('I')]['main_sick'].values, sort = True)\n",
    "j1 = pd.value_counts(ms_2010_2015_code1_th[ms_2010_2015_code1_th['main_sick'].str.match('J')]['main_sick'].values, sort = True)\n",
    "k1 = pd.value_counts(ms_2010_2015_code1_th[ms_2010_2015_code1_th['main_sick'].str.match('K')]['main_sick'].values, sort = True)\n",
    "l1 = pd.value_counts(ms_2010_2015_code1_th[ms_2010_2015_code1_th['main_sick'].str.match('L')]['main_sick'].values, sort = True)\n",
    "m1 = pd.value_counts(ms_2010_2015_code1_th[ms_2010_2015_code1_th['main_sick'].str.match('M')]['main_sick'].values, sort = True)\n",
    "n1 = pd.value_counts(ms_2010_2015_code1_th[ms_2010_2015_code1_th['main_sick'].str.match('N')]['main_sick'].values, sort = True)\n",
    "o1 = pd.value_counts(ms_2010_2015_code1_th[ms_2010_2015_code1_th['main_sick'].str.match('O')]['main_sick'].values, sort = True)\n",
    "p1 = pd.value_counts(ms_2010_2015_code1_th[ms_2010_2015_code1_th['main_sick'].str.match('P')]['main_sick'].values, sort = True)\n",
    "q1 = pd.value_counts(ms_2010_2015_code1_th[ms_2010_2015_code1_th['main_sick'].str.match('Q')]['main_sick'].values, sort = True)\n",
    "r1 = pd.value_counts(ms_2010_2015_code1_th[ms_2010_2015_code1_th['main_sick'].str.match('R')]['main_sick'].values, sort = True)\n",
    "s1 = pd.value_counts(ms_2010_2015_code1_th[ms_2010_2015_code1_th['main_sick'].str.match('S')]['main_sick'].values, sort = True)\n",
    "t1 = pd.value_counts(ms_2010_2015_code1_th[ms_2010_2015_code1_th['main_sick'].str.match('T')]['main_sick'].values, sort = True)\n",
    "u1 = pd.value_counts(ms_2010_2015_code1_th[ms_2010_2015_code1_th['main_sick'].str.match('U')]['main_sick'].values, sort = True)\n",
    "v1 = pd.value_counts(ms_2010_2015_code1_th[ms_2010_2015_code1_th['main_sick'].str.match('V')]['main_sick'].values, sort = True)\n",
    "w1 = pd.value_counts(ms_2010_2015_code1_th[ms_2010_2015_code1_th['main_sick'].str.match('W')]['main_sick'].values, sort = True)\n",
    "x1 = pd.value_counts(ms_2010_2015_code1_th[ms_2010_2015_code1_th['main_sick'].str.match('X')]['main_sick'].values, sort = True)\n",
    "y1 = pd.value_counts(ms_2010_2015_code1_th[ms_2010_2015_code1_th['main_sick'].str.match('Y')]['main_sick'].values, sort = True)\n",
    "z1 = pd.value_counts(ms_2010_2015_code1_th[ms_2010_2015_code1_th['main_sick'].str.match('Z')]['main_sick'].values, sort = True)"
   ]
  },
  {
   "cell_type": "code",
   "execution_count": 56,
   "metadata": {
    "collapsed": false
   },
   "outputs": [
    {
     "data": {
      "text/plain": [
       "[counts    52\n",
       " Name: A099, dtype: int64, counts    208\n",
       " Name: B351, dtype: int64, counts    36\n",
       " Name: C402, dtype: int64, counts    168\n",
       " Name: D172, dtype: int64, counts    187\n",
       " Name: E119, dtype: int64, counts    56\n",
       " Name: F009, dtype: int64, counts    705\n",
       " Name: G560, dtype: int64, counts    14\n",
       " Name: H814, dtype: int64, counts    1041\n",
       " Name: I109, dtype: int64, counts    654\n",
       " Name: J209, dtype: int64, counts    145\n",
       " Name: K297, dtype: int64, counts    875\n",
       " Name: L031, dtype: int64, counts    32591\n",
       " Name: M170, dtype: int64, counts    55\n",
       " Name: N400, dtype: int64, counts    1\n",
       " Name: O912, dtype: int64, counts    4\n",
       " Name: P38, dtype: int64, counts    25\n",
       " Name: Q668, dtype: int64, counts    149\n",
       " Name: R529, dtype: int64, counts    14603\n",
       " Name: S335, dtype: int64, counts    159\n",
       " Name: T232, dtype: int64, counts    174\n",
       " Name: Z988, dtype: int64]"
      ]
     },
     "execution_count": 56,
     "metadata": {},
     "output_type": "execute_result"
    }
   ],
   "source": [
    "code1_list = []\n",
    "a1 = pd.DataFrame(a1)\n",
    "a1 = a1.rename(columns = {0: 'counts'})\n",
    "a1_max = a1.iloc[a1['counts'].values.argmax()]\n",
    "code1_list.append(a1_max)\n",
    "b1 = pd.DataFrame(b1)\n",
    "b1 = b1.rename(columns = {0: 'counts'})\n",
    "code1_list.append(b1.iloc[b1['counts'].values.argmax()])\n",
    "c1 = pd.DataFrame(c1)\n",
    "c1 = c1.rename(columns = {0: 'counts'})\n",
    "code1_list.append(c1.iloc[c1['counts'].values.argmax()])\n",
    "d1 = pd.DataFrame(d1)\n",
    "d1 = d1.rename(columns = {0: 'counts'})\n",
    "code1_list.append(d1.iloc[d1['counts'].values.argmax()])\n",
    "e1 = pd.DataFrame(e1)\n",
    "e1 = e1.rename(columns = {0: 'counts'})\n",
    "code1_list.append(e1.iloc[e1['counts'].values.argmax()])\n",
    "f1 = pd.DataFrame(f1)\n",
    "f1 = f1.rename(columns = {0: 'counts'})\n",
    "code1_list.append(f1.iloc[f1['counts'].values.argmax()])\n",
    "g1 = pd.DataFrame(g1)\n",
    "g1 = g1.rename(columns = {0: 'counts'})\n",
    "code1_list.append(g1.iloc[g1['counts'].values.argmax()])\n",
    "h1 = pd.DataFrame(h1)\n",
    "h1 = h1.rename(columns = {0: 'counts'})\n",
    "code1_list.append(h1.iloc[h1['counts'].values.argmax()])\n",
    "i1 = pd.DataFrame(i1)\n",
    "i1 = i1.rename(columns = {0: 'counts'})\n",
    "code1_list.append(i1.iloc[i1['counts'].values.argmax()])\n",
    "j1 = pd.DataFrame(j1)\n",
    "j1 = j1.rename(columns = {0: 'counts'})\n",
    "code1_list.append(j1.iloc[j1['counts'].values.argmax()])\n",
    "k1 = pd.DataFrame(k1)\n",
    "k1 = k1.rename(columns = {0: 'counts'})\n",
    "code1_list.append(k1.iloc[k1['counts'].values.argmax()])\n",
    "l1 = pd.DataFrame(l1)\n",
    "l1 = l1.rename(columns = {0: 'counts'})\n",
    "code1_list.append(l1.iloc[l1['counts'].values.argmax()])\n",
    "m1 = pd.DataFrame(m1)\n",
    "m1 = m1.rename(columns = {0: 'counts'})\n",
    "code1_list.append(m1.iloc[m1['counts'].values.argmax()])\n",
    "n1 = pd.DataFrame(n1)\n",
    "n1 = n1.rename(columns = {0: 'counts'})\n",
    "code1_list.append(n1.iloc[n1['counts'].values.argmax()])\n",
    "o1 = pd.DataFrame(o1)\n",
    "o1 = o1.rename(columns = {0: 'counts'})\n",
    "code1_list.append(o1.iloc[o1['counts'].values.argmax()])\n",
    "p1 = pd.DataFrame(p1)\n",
    "p1 = p1.rename(columns = {0: 'counts'})\n",
    "code1_list.append(p1.iloc[p1['counts'].values.argmax()])\n",
    "q1 = pd.DataFrame(q1)\n",
    "q1 = q1.rename(columns = {0: 'counts'})\n",
    "code1_list.append(q1.iloc[q1['counts'].values.argmax()])\n",
    "r1 = pd.DataFrame(r1)\n",
    "r1 = r1.rename(columns = {0: 'counts'})\n",
    "code1_list.append(r1.iloc[r1['counts'].values.argmax()])\n",
    "s1 = pd.DataFrame(s1)\n",
    "s1 = s1.rename(columns = {0: 'counts'})\n",
    "code1_list.append(s1.iloc[s1['counts'].values.argmax()])\n",
    "t1 = pd.DataFrame(t1)\n",
    "t1 = t1.rename(columns = {0: 'counts'})\n",
    "code1_list.append(t1.iloc[t1['counts'].values.argmax()])\n",
    "u1 = pd.DataFrame(u1)\n",
    "u1 = u1.rename(columns = {0: 'counts'})\n",
    "#code1_list.append(u1.iloc[u1['counts'].values.argmax()])\n",
    "v1 = pd.DataFrame(v1)\n",
    "v1 = v1.rename(columns = {0: 'counts'})\n",
    "#code1_list.append(v1.iloc[v1['counts'].values.argmax()])\n",
    "w1 = pd.DataFrame(w1)\n",
    "w1 = w1.rename(columns = {0: 'counts'})\n",
    "#code1_list.append(w1.iloc[w1['counts'].values.argmax()])\n",
    "x1 = pd.DataFrame(x1)\n",
    "x1 = x1.rename(columns = {0: 'counts'})\n",
    "#code1_list.append(x1.iloc[x1['counts'].values.argmax()])\n",
    "y1 = pd.DataFrame(y1)\n",
    "y1 = y1.rename(columns = {0: 'counts'})\n",
    "#code1_list.append(y1.iloc[y1['counts'].values.argmax()])\n",
    "z1 = pd.DataFrame(z1)\n",
    "z1 = z1.rename(columns = {0: 'counts'})\n",
    "code1_list.append(z1.iloc[z1['counts'].values.argmax()])\n",
    "code1_list"
   ]
  },
  {
   "cell_type": "code",
   "execution_count": 57,
   "metadata": {
    "collapsed": false
   },
   "outputs": [
    {
     "name": "stderr",
     "output_type": "stream",
     "text": [
      "C:\\ProgramData\\Anaconda3\\lib\\site-packages\\ipykernel\\__main__.py:2: SettingWithCopyWarning: \n",
      "A value is trying to be set on a copy of a slice from a DataFrame.\n",
      "Try using .loc[row_indexer,col_indexer] = value instead\n",
      "\n",
      "See the caveats in the documentation: http://pandas.pydata.org/pandas-docs/stable/indexing.html#indexing-view-versus-copy\n",
      "  from ipykernel import kernelapp as app\n",
      "C:\\ProgramData\\Anaconda3\\lib\\site-packages\\ipykernel\\__main__.py:6: SettingWithCopyWarning: \n",
      "A value is trying to be set on a copy of a slice from a DataFrame.\n",
      "Try using .loc[row_indexer,col_indexer] = value instead\n",
      "\n",
      "See the caveats in the documentation: http://pandas.pydata.org/pandas-docs/stable/indexing.html#indexing-view-versus-copy\n",
      "C:\\ProgramData\\Anaconda3\\lib\\site-packages\\ipykernel\\__main__.py:10: SettingWithCopyWarning: \n",
      "A value is trying to be set on a copy of a slice from a DataFrame.\n",
      "Try using .loc[row_indexer,col_indexer] = value instead\n",
      "\n",
      "See the caveats in the documentation: http://pandas.pydata.org/pandas-docs/stable/indexing.html#indexing-view-versus-copy\n",
      "C:\\ProgramData\\Anaconda3\\lib\\site-packages\\matplotlib\\pyplot.py:524: RuntimeWarning: More than 20 figures have been opened. Figures created through the pyplot interface (`matplotlib.pyplot.figure`) are retained until explicitly closed and may consume too much memory. (To control this warning, see the rcParam `figure.max_open_warning`).\n",
      "  max_open_warning, RuntimeWarning)\n"
     ]
    }
   ],
   "source": [
    "code1_st_graph1 = ms_2010_2015_code1_th[ms_2010_2015_code1_th['main_sick'].str.match('M170')]\n",
    "code1_st_graph1['main_sick'] = code1_st_graph1['main_sick'].map({'M170': 'Primary gonarthrosis, bilateral'})\n",
    "code1_st_graph1 = pd.value_counts(code1_st_graph1['main_sick'].values, sort = False)\n",
    "code1_st_graph1 = pd.DataFrame(code1_st_graph1)\n",
    "code1_st_graph2 = ms_2010_2015_code1_th[ms_2010_2015_code1_th['main_sick'].str.match('S335')]\n",
    "code1_st_graph2['main_sick'] = code1_st_graph2['main_sick'].map({'S335': 'Sprain and strain of lumbar spine'})\n",
    "code1_st_graph2 = pd.value_counts(code1_st_graph2['main_sick'].values, sort = False)\n",
    "code1_st_graph2 = pd.DataFrame(code1_st_graph2)\n",
    "code1_st_graph3 = ms_2010_2015_code1_th[ms_2010_2015_code1_th['main_sick'].str.match('I109')]\n",
    "code1_st_graph3['main_sick'] = code1_st_graph3['main_sick'].map({'I109': 'Unspecified hypertension'})\n",
    "code1_st_graph3 = pd.value_counts(code1_st_graph3['main_sick'].values, sort = False)\n",
    "code1_st_graph3 = pd.DataFrame(code1_st_graph3)\n",
    "c1_st_123 = pd.concat([code1_st_graph1, code1_st_graph2, code1_st_graph3]).reset_index()\n",
    "c1_st_123 = c1_st_123.rename(columns = {'index' : 'main_sick', 0: 'Total_patients'})\n",
    "color = ['limegreen', 'palegreen', 'honeydew']\n",
    "c1_st_123.plot(kind = 'pie', y = 'Total_patients', autopct = '%1.1f%%', startangle = 180, labels = c1_st_123['main_sick'], legend = True, title = 'October', colors = color, figsize= (15, 10))\n",
    "plt.axis('equal')\n",
    "plt.tight_layout()\n",
    "plt.savefig('정형외과 5월 main_sick pie chart.png', dpi = 1000)"
   ]
  },
  {
   "cell_type": "markdown",
   "metadata": {},
   "source": [
    "## Counting Patient with treat_kind 11 (Month Criteria)"
   ]
  },
  {
   "cell_type": "code",
   "execution_count": 58,
   "metadata": {
    "collapsed": false
   },
   "outputs": [
    {
     "name": "stderr",
     "output_type": "stream",
     "text": [
      "C:\\ProgramData\\Anaconda3\\lib\\site-packages\\ipykernel\\__main__.py:2: SettingWithCopyWarning: \n",
      "A value is trying to be set on a copy of a slice from a DataFrame.\n",
      "Try using .loc[row_indexer,col_indexer] = value instead\n",
      "\n",
      "See the caveats in the documentation: http://pandas.pydata.org/pandas-docs/stable/indexing.html#indexing-view-versus-copy\n",
      "  from ipykernel import kernelapp as app\n",
      "C:\\ProgramData\\Anaconda3\\lib\\site-packages\\matplotlib\\pyplot.py:524: RuntimeWarning: More than 20 figures have been opened. Figures created through the pyplot interface (`matplotlib.pyplot.figure`) are retained until explicitly closed and may consume too much memory. (To control this warning, see the rcParam `figure.max_open_warning`).\n",
      "  max_open_warning, RuntimeWarning)\n"
     ]
    },
    {
     "data": {
      "text/html": [
       "<div>\n",
       "<table border=\"1\" class=\"dataframe\">\n",
       "  <thead>\n",
       "    <tr style=\"text-align: right;\">\n",
       "      <th></th>\n",
       "      <th>Month</th>\n",
       "      <th>Total_patients</th>\n",
       "    </tr>\n",
       "  </thead>\n",
       "  <tbody>\n",
       "    <tr>\n",
       "      <th>0</th>\n",
       "      <td>1</td>\n",
       "      <td>272941</td>\n",
       "    </tr>\n",
       "    <tr>\n",
       "      <th>1</th>\n",
       "      <td>2</td>\n",
       "      <td>294245</td>\n",
       "    </tr>\n",
       "    <tr>\n",
       "      <th>2</th>\n",
       "      <td>3</td>\n",
       "      <td>281274</td>\n",
       "    </tr>\n",
       "    <tr>\n",
       "      <th>3</th>\n",
       "      <td>4</td>\n",
       "      <td>293314</td>\n",
       "    </tr>\n",
       "    <tr>\n",
       "      <th>4</th>\n",
       "      <td>5</td>\n",
       "      <td>263937</td>\n",
       "    </tr>\n",
       "    <tr>\n",
       "      <th>5</th>\n",
       "      <td>6</td>\n",
       "      <td>218931</td>\n",
       "    </tr>\n",
       "    <tr>\n",
       "      <th>6</th>\n",
       "      <td>7</td>\n",
       "      <td>218969</td>\n",
       "    </tr>\n",
       "    <tr>\n",
       "      <th>7</th>\n",
       "      <td>8</td>\n",
       "      <td>211299</td>\n",
       "    </tr>\n",
       "    <tr>\n",
       "      <th>8</th>\n",
       "      <td>9</td>\n",
       "      <td>258713</td>\n",
       "    </tr>\n",
       "    <tr>\n",
       "      <th>9</th>\n",
       "      <td>10</td>\n",
       "      <td>272891</td>\n",
       "    </tr>\n",
       "    <tr>\n",
       "      <th>10</th>\n",
       "      <td>11</td>\n",
       "      <td>284002</td>\n",
       "    </tr>\n",
       "    <tr>\n",
       "      <th>11</th>\n",
       "      <td>12</td>\n",
       "      <td>288704</td>\n",
       "    </tr>\n",
       "  </tbody>\n",
       "</table>\n",
       "</div>"
      ],
      "text/plain": [
       "    Month  Total_patients\n",
       "0       1          272941\n",
       "1       2          294245\n",
       "2       3          281274\n",
       "3       4          293314\n",
       "4       5          263937\n",
       "5       6          218931\n",
       "6       7          218969\n",
       "7       8          211299\n",
       "8       9          258713\n",
       "9      10          272891\n",
       "10     11          284002\n",
       "11     12          288704"
      ]
     },
     "execution_count": 58,
     "metadata": {},
     "output_type": "execute_result"
    }
   ],
   "source": [
    "tk_2010_2015 = JR_2010_2015[['rec_date', 'treat_kind']]\n",
    "tk_2010_2015['rec_date'] = pd.to_datetime(tk_2010_2015['rec_date'], format = '%Y%m%d', errors = 'coerce')\n",
    "tk_2010_2015_code1 = tk_2010_2015[tk_2010_2015['treat_kind'] == 11]\n",
    "tk_2010_2015_code1_ct = tk_2010_2015_code1['rec_date'].groupby(tk_2010_2015_code1.rec_date.dt.month).agg('count')\n",
    "tk_2010_2015_code1_ct = pd.DataFrame(tk_2010_2015_code1_ct)\n",
    "plt.figure()\n",
    "tk_2010_2015_code1_ct = tk_2010_2015_code1_ct.rename(columns= {'rec_date': 'Total_patients'})\n",
    "tk_2010_2015_code1_ct = tk_2010_2015_code1_ct.reset_index()\n",
    "tk_2010_2015_code1_ct = tk_2010_2015_code1_ct.rename(columns = {'rec_date': 'Month'})\n",
    "tk_2010_2015_code1_ct"
   ]
  },
  {
   "cell_type": "markdown",
   "metadata": {},
   "source": [
    "## Visualization treat_kind 11 with Month"
   ]
  },
  {
   "cell_type": "code",
   "execution_count": 59,
   "metadata": {
    "collapsed": false,
    "scrolled": false
   },
   "outputs": [
    {
     "name": "stderr",
     "output_type": "stream",
     "text": [
      "C:\\ProgramData\\Anaconda3\\lib\\site-packages\\matplotlib\\pyplot.py:524: RuntimeWarning: More than 20 figures have been opened. Figures created through the pyplot interface (`matplotlib.pyplot.figure`) are retained until explicitly closed and may consume too much memory. (To control this warning, see the rcParam `figure.max_open_warning`).\n",
      "  max_open_warning, RuntimeWarning)\n"
     ]
    }
   ],
   "source": [
    "f, ax = plt.subplots(figsize = (10, 15))\n",
    "\n",
    "# plot the total treat_kind 11\n",
    "sns.barplot(x = 'Month', y = 'Total_patients', data = tk_2010_2015_code1_ct)\n",
    "plt.savefig('소아청소년과 월별 이용 인원.png', dpi=1000)"
   ]
  },
  {
   "cell_type": "markdown",
   "metadata": {},
   "source": [
    "## Find max value and making new table (3 large value)"
   ]
  },
  {
   "cell_type": "code",
   "execution_count": 60,
   "metadata": {
    "collapsed": false
   },
   "outputs": [
    {
     "data": {
      "text/html": [
       "<div>\n",
       "<table border=\"1\" class=\"dataframe\">\n",
       "  <thead>\n",
       "    <tr style=\"text-align: right;\">\n",
       "      <th></th>\n",
       "      <th>Month</th>\n",
       "      <th>Total_patients</th>\n",
       "    </tr>\n",
       "  </thead>\n",
       "  <tbody>\n",
       "    <tr>\n",
       "      <th>1</th>\n",
       "      <td>2</td>\n",
       "      <td>294245</td>\n",
       "    </tr>\n",
       "    <tr>\n",
       "      <th>3</th>\n",
       "      <td>4</td>\n",
       "      <td>293314</td>\n",
       "    </tr>\n",
       "    <tr>\n",
       "      <th>11</th>\n",
       "      <td>12</td>\n",
       "      <td>288704</td>\n",
       "    </tr>\n",
       "  </tbody>\n",
       "</table>\n",
       "</div>"
      ],
      "text/plain": [
       "    Month  Total_patients\n",
       "1       2          294245\n",
       "3       4          293314\n",
       "11     12          288704"
      ]
     },
     "execution_count": 60,
     "metadata": {},
     "output_type": "execute_result"
    }
   ],
   "source": [
    "tk_2010_2015_code1_ct = tk_2010_2015_code1_ct.sort_values(by='Total_patients', ascending = False)\n",
    "tk_2010_2015_code1_ct_large = tk_2010_2015_code1_ct.iloc[0:3]\n",
    "tk_2010_2015_code1_ct_large"
   ]
  },
  {
   "cell_type": "code",
   "execution_count": 61,
   "metadata": {
    "collapsed": false
   },
   "outputs": [
    {
     "name": "stderr",
     "output_type": "stream",
     "text": [
      "C:\\ProgramData\\Anaconda3\\lib\\site-packages\\ipykernel\\__main__.py:3: SettingWithCopyWarning: \n",
      "A value is trying to be set on a copy of a slice from a DataFrame\n",
      "\n",
      "See the caveats in the documentation: http://pandas.pydata.org/pandas-docs/stable/indexing.html#indexing-view-versus-copy\n",
      "  app.launch_new_instance()\n"
     ]
    },
    {
     "data": {
      "text/html": [
       "<div>\n",
       "<table border=\"1\" class=\"dataframe\">\n",
       "  <thead>\n",
       "    <tr style=\"text-align: right;\">\n",
       "      <th></th>\n",
       "      <th>Month</th>\n",
       "      <th>Total_patients</th>\n",
       "    </tr>\n",
       "  </thead>\n",
       "  <tbody>\n",
       "    <tr>\n",
       "      <th>0</th>\n",
       "      <td>2</td>\n",
       "      <td>294245</td>\n",
       "    </tr>\n",
       "    <tr>\n",
       "      <th>1</th>\n",
       "      <td>4</td>\n",
       "      <td>293314</td>\n",
       "    </tr>\n",
       "    <tr>\n",
       "      <th>2</th>\n",
       "      <td>12</td>\n",
       "      <td>288704</td>\n",
       "    </tr>\n",
       "    <tr>\n",
       "      <th>3</th>\n",
       "      <td>ect</td>\n",
       "      <td>2282957</td>\n",
       "    </tr>\n",
       "  </tbody>\n",
       "</table>\n",
       "</div>"
      ],
      "text/plain": [
       "  Month  Total_patients\n",
       "0     2          294245\n",
       "1     4          293314\n",
       "2    12          288704\n",
       "3   ect         2282957"
      ]
     },
     "execution_count": 61,
     "metadata": {},
     "output_type": "execute_result"
    }
   ],
   "source": [
    "tk_2010_2015_code1_ct_ect = tk_2010_2015_code1_ct.iloc[3:12]\n",
    "tk_2010_2015_code1_ct_ect = tk_2010_2015_code1_ct_ect['Total_patients'].sum()\n",
    "tk_2010_2015_code1_ct_large.loc[4] = ['ect', tk_2010_2015_code1_ct_ect]\n",
    "tk_2010_2015_code1_ct_graph = tk_2010_2015_code1_ct_large.reset_index().drop('index', axis = 1)\n",
    "tk_2010_2015_code1_ct_graph"
   ]
  },
  {
   "cell_type": "code",
   "execution_count": 62,
   "metadata": {
    "collapsed": false
   },
   "outputs": [
    {
     "name": "stderr",
     "output_type": "stream",
     "text": [
      "C:\\ProgramData\\Anaconda3\\lib\\site-packages\\matplotlib\\pyplot.py:524: RuntimeWarning: More than 20 figures have been opened. Figures created through the pyplot interface (`matplotlib.pyplot.figure`) are retained until explicitly closed and may consume too much memory. (To control this warning, see the rcParam `figure.max_open_warning`).\n",
      "  max_open_warning, RuntimeWarning)\n"
     ]
    }
   ],
   "source": [
    "color = ['forestgreen', 'limegreen', 'palegreen', 'honeydew']\n",
    "tk_2010_2015_code1_ct_graph.plot(kind = 'pie', y = 'Total_patients', autopct = '%1.1f%%', startangle = 90, labels = tk_2010_2015_code1_ct_graph['Month'], legend = True, colors = color)\n",
    "# plt.pie(tk_2010_2015_code1_ct_graph['Total_patients'], shadow = True, startangle = 0, autopct='%1.1f%%')\n",
    "plt.axis('equal')\n",
    "plt.tight_layout()\n",
    "savefig('소아청소년과 월별 이용 인원 pie chart.png', dpi = 1000)"
   ]
  },
  {
   "cell_type": "markdown",
   "metadata": {},
   "source": [
    "## Find 3 large main_sick with Month"
   ]
  },
  {
   "cell_type": "code",
   "execution_count": 63,
   "metadata": {
    "collapsed": false
   },
   "outputs": [
    {
     "data": {
      "text/html": [
       "<div>\n",
       "<table border=\"1\" class=\"dataframe\">\n",
       "  <thead>\n",
       "    <tr style=\"text-align: right;\">\n",
       "      <th></th>\n",
       "      <th>rec_date</th>\n",
       "      <th>treat_kind</th>\n",
       "      <th>main_sick</th>\n",
       "    </tr>\n",
       "  </thead>\n",
       "  <tbody>\n",
       "    <tr>\n",
       "      <th>23323</th>\n",
       "      <td>2013-02-23</td>\n",
       "      <td>11</td>\n",
       "      <td>K297</td>\n",
       "    </tr>\n",
       "    <tr>\n",
       "      <th>23487</th>\n",
       "      <td>2013-02-12</td>\n",
       "      <td>11</td>\n",
       "      <td>J019</td>\n",
       "    </tr>\n",
       "    <tr>\n",
       "      <th>23488</th>\n",
       "      <td>2013-02-05</td>\n",
       "      <td>11</td>\n",
       "      <td>J00</td>\n",
       "    </tr>\n",
       "    <tr>\n",
       "      <th>23489</th>\n",
       "      <td>2013-02-07</td>\n",
       "      <td>11</td>\n",
       "      <td>J209</td>\n",
       "    </tr>\n",
       "    <tr>\n",
       "      <th>23490</th>\n",
       "      <td>2013-02-01</td>\n",
       "      <td>11</td>\n",
       "      <td>J039</td>\n",
       "    </tr>\n",
       "  </tbody>\n",
       "</table>\n",
       "</div>"
      ],
      "text/plain": [
       "        rec_date  treat_kind main_sick\n",
       "23323 2013-02-23          11      K297\n",
       "23487 2013-02-12          11      J019\n",
       "23488 2013-02-05          11       J00\n",
       "23489 2013-02-07          11      J209\n",
       "23490 2013-02-01          11      J039"
      ]
     },
     "execution_count": 63,
     "metadata": {},
     "output_type": "execute_result"
    }
   ],
   "source": [
    "ms_2010_2015 = JR_2010_2015[['rec_date', 'treat_kind', 'main_sick']]\n",
    "ms_2010_2015['rec_date'] = pd.to_datetime(ms_2010_2015['rec_date'], format = '%Y%m%d', errors = 'coerce')\n",
    "ms_2010_2015_code1 = ms_2010_2015[ms_2010_2015['treat_kind'] == 11]\n",
    "ms_2010_2015_code1_st = ms_2010_2015_code1.rec_date.dt.month == tk_2010_2015_code1_ct_graph.ix[0, 'Month']\n",
    "ms_2010_2015_code1_st = ms_2010_2015_code1[ms_2010_2015_code1_st]\n",
    "ms_2010_2015_code1_st.head()"
   ]
  },
  {
   "cell_type": "code",
   "execution_count": 64,
   "metadata": {
    "collapsed": false
   },
   "outputs": [
    {
     "data": {
      "text/html": [
       "<div>\n",
       "<table border=\"1\" class=\"dataframe\">\n",
       "  <thead>\n",
       "    <tr style=\"text-align: right;\">\n",
       "      <th></th>\n",
       "      <th>rec_date</th>\n",
       "      <th>treat_kind</th>\n",
       "      <th>main_sick</th>\n",
       "    </tr>\n",
       "  </thead>\n",
       "  <tbody>\n",
       "    <tr>\n",
       "      <th>47834</th>\n",
       "      <td>2013-04-10</td>\n",
       "      <td>11</td>\n",
       "      <td>J353</td>\n",
       "    </tr>\n",
       "    <tr>\n",
       "      <th>49320</th>\n",
       "      <td>2013-04-25</td>\n",
       "      <td>11</td>\n",
       "      <td>H259</td>\n",
       "    </tr>\n",
       "    <tr>\n",
       "      <th>49370</th>\n",
       "      <td>2013-04-25</td>\n",
       "      <td>11</td>\n",
       "      <td>B370</td>\n",
       "    </tr>\n",
       "    <tr>\n",
       "      <th>49371</th>\n",
       "      <td>2013-04-29</td>\n",
       "      <td>11</td>\n",
       "      <td>B370</td>\n",
       "    </tr>\n",
       "    <tr>\n",
       "      <th>49372</th>\n",
       "      <td>2013-04-08</td>\n",
       "      <td>11</td>\n",
       "      <td>A090</td>\n",
       "    </tr>\n",
       "  </tbody>\n",
       "</table>\n",
       "</div>"
      ],
      "text/plain": [
       "        rec_date  treat_kind main_sick\n",
       "47834 2013-04-10          11      J353\n",
       "49320 2013-04-25          11      H259\n",
       "49370 2013-04-25          11      B370\n",
       "49371 2013-04-29          11      B370\n",
       "49372 2013-04-08          11      A090"
      ]
     },
     "execution_count": 64,
     "metadata": {},
     "output_type": "execute_result"
    }
   ],
   "source": [
    "ms_2010_2015_code1_nd = ms_2010_2015_code1.rec_date.dt.month == tk_2010_2015_code1_ct_graph.ix[1, 'Month']\n",
    "ms_2010_2015_code1_nd = ms_2010_2015_code1[ms_2010_2015_code1_nd]\n",
    "ms_2010_2015_code1_nd.head()"
   ]
  },
  {
   "cell_type": "code",
   "execution_count": 65,
   "metadata": {
    "collapsed": false
   },
   "outputs": [
    {
     "data": {
      "text/html": [
       "<div>\n",
       "<table border=\"1\" class=\"dataframe\">\n",
       "  <thead>\n",
       "    <tr style=\"text-align: right;\">\n",
       "      <th></th>\n",
       "      <th>rec_date</th>\n",
       "      <th>treat_kind</th>\n",
       "      <th>main_sick</th>\n",
       "    </tr>\n",
       "  </thead>\n",
       "  <tbody>\n",
       "    <tr>\n",
       "      <th>39</th>\n",
       "      <td>2013-12-03</td>\n",
       "      <td>11</td>\n",
       "      <td>B374</td>\n",
       "    </tr>\n",
       "    <tr>\n",
       "      <th>149</th>\n",
       "      <td>2013-12-07</td>\n",
       "      <td>11</td>\n",
       "      <td>J018</td>\n",
       "    </tr>\n",
       "    <tr>\n",
       "      <th>182</th>\n",
       "      <td>2013-12-27</td>\n",
       "      <td>11</td>\n",
       "      <td>J010</td>\n",
       "    </tr>\n",
       "    <tr>\n",
       "      <th>185</th>\n",
       "      <td>2013-12-19</td>\n",
       "      <td>11</td>\n",
       "      <td>J209</td>\n",
       "    </tr>\n",
       "    <tr>\n",
       "      <th>191</th>\n",
       "      <td>2013-12-31</td>\n",
       "      <td>11</td>\n",
       "      <td>J010</td>\n",
       "    </tr>\n",
       "  </tbody>\n",
       "</table>\n",
       "</div>"
      ],
      "text/plain": [
       "      rec_date  treat_kind main_sick\n",
       "39  2013-12-03          11      B374\n",
       "149 2013-12-07          11      J018\n",
       "182 2013-12-27          11      J010\n",
       "185 2013-12-19          11      J209\n",
       "191 2013-12-31          11      J010"
      ]
     },
     "execution_count": 65,
     "metadata": {},
     "output_type": "execute_result"
    }
   ],
   "source": [
    "ms_2010_2015_code1_th = ms_2010_2015_code1.rec_date.dt.month == tk_2010_2015_code1_ct_graph.ix[2, 'Month']\n",
    "ms_2010_2015_code1_th = ms_2010_2015_code1[ms_2010_2015_code1_th]\n",
    "ms_2010_2015_code1_th.head()"
   ]
  },
  {
   "cell_type": "markdown",
   "metadata": {},
   "source": [
    "## First Month Find 3 Large main_sick"
   ]
  },
  {
   "cell_type": "code",
   "execution_count": 66,
   "metadata": {
    "collapsed": true
   },
   "outputs": [],
   "source": [
    "a1 = pd.value_counts(ms_2010_2015_code1_st[ms_2010_2015_code1_st['main_sick'].str.match('A')]['main_sick'].values, sort = True)\n",
    "b1 = pd.value_counts(ms_2010_2015_code1_st[ms_2010_2015_code1_st['main_sick'].str.match('B')]['main_sick'].values, sort = True)\n",
    "c1 = pd.value_counts(ms_2010_2015_code1_st[ms_2010_2015_code1_st['main_sick'].str.match('C')]['main_sick'].values, sort = True)\n",
    "d1 = pd.value_counts(ms_2010_2015_code1_st[ms_2010_2015_code1_st['main_sick'].str.match('D')]['main_sick'].values, sort = True)\n",
    "e1 = pd.value_counts(ms_2010_2015_code1_st[ms_2010_2015_code1_st['main_sick'].str.match('E')]['main_sick'].values, sort = True)\n",
    "f1 = pd.value_counts(ms_2010_2015_code1_st[ms_2010_2015_code1_st['main_sick'].str.match('F')]['main_sick'].values, sort = True)\n",
    "g1 = pd.value_counts(ms_2010_2015_code1_st[ms_2010_2015_code1_st['main_sick'].str.match('G')]['main_sick'].values, sort = True)\n",
    "h1 = pd.value_counts(ms_2010_2015_code1_st[ms_2010_2015_code1_st['main_sick'].str.match('H')]['main_sick'].values, sort = True)\n",
    "i1 = pd.value_counts(ms_2010_2015_code1_st[ms_2010_2015_code1_st['main_sick'].str.match('I')]['main_sick'].values, sort = True)\n",
    "j1 = pd.value_counts(ms_2010_2015_code1_st[ms_2010_2015_code1_st['main_sick'].str.match('J')]['main_sick'].values, sort = True)\n",
    "k1 = pd.value_counts(ms_2010_2015_code1_st[ms_2010_2015_code1_st['main_sick'].str.match('K')]['main_sick'].values, sort = True)\n",
    "l1 = pd.value_counts(ms_2010_2015_code1_st[ms_2010_2015_code1_st['main_sick'].str.match('L')]['main_sick'].values, sort = True)\n",
    "m1 = pd.value_counts(ms_2010_2015_code1_st[ms_2010_2015_code1_st['main_sick'].str.match('M')]['main_sick'].values, sort = True)\n",
    "n1 = pd.value_counts(ms_2010_2015_code1_st[ms_2010_2015_code1_st['main_sick'].str.match('N')]['main_sick'].values, sort = True)\n",
    "o1 = pd.value_counts(ms_2010_2015_code1_st[ms_2010_2015_code1_st['main_sick'].str.match('O')]['main_sick'].values, sort = True)\n",
    "p1 = pd.value_counts(ms_2010_2015_code1_st[ms_2010_2015_code1_st['main_sick'].str.match('P')]['main_sick'].values, sort = True)\n",
    "q1 = pd.value_counts(ms_2010_2015_code1_st[ms_2010_2015_code1_st['main_sick'].str.match('Q')]['main_sick'].values, sort = True)\n",
    "r1 = pd.value_counts(ms_2010_2015_code1_st[ms_2010_2015_code1_st['main_sick'].str.match('R')]['main_sick'].values, sort = True)\n",
    "s1 = pd.value_counts(ms_2010_2015_code1_st[ms_2010_2015_code1_st['main_sick'].str.match('S')]['main_sick'].values, sort = True)\n",
    "t1 = pd.value_counts(ms_2010_2015_code1_st[ms_2010_2015_code1_st['main_sick'].str.match('T')]['main_sick'].values, sort = True)\n",
    "u1 = pd.value_counts(ms_2010_2015_code1_st[ms_2010_2015_code1_st['main_sick'].str.match('U')]['main_sick'].values, sort = True)\n",
    "v1 = pd.value_counts(ms_2010_2015_code1_st[ms_2010_2015_code1_st['main_sick'].str.match('V')]['main_sick'].values, sort = True)\n",
    "w1 = pd.value_counts(ms_2010_2015_code1_st[ms_2010_2015_code1_st['main_sick'].str.match('W')]['main_sick'].values, sort = True)\n",
    "x1 = pd.value_counts(ms_2010_2015_code1_st[ms_2010_2015_code1_st['main_sick'].str.match('X')]['main_sick'].values, sort = True)\n",
    "y1 = pd.value_counts(ms_2010_2015_code1_st[ms_2010_2015_code1_st['main_sick'].str.match('Y')]['main_sick'].values, sort = True)\n",
    "z1 = pd.value_counts(ms_2010_2015_code1_st[ms_2010_2015_code1_st['main_sick'].str.match('Z')]['main_sick'].values, sort = True)"
   ]
  },
  {
   "cell_type": "code",
   "execution_count": 67,
   "metadata": {
    "collapsed": false
   },
   "outputs": [
    {
     "data": {
      "text/plain": [
       "[counts    4900\n",
       " Name: A090, dtype: int64, counts    378\n",
       " Name: B07, dtype: int64, counts    134\n",
       " Name: C910, dtype: int64, counts    237\n",
       " Name: D509, dtype: int64, counts    1503\n",
       " Name: E301, dtype: int64, counts    14\n",
       " Name: F009, dtype: int64, counts    302\n",
       " Name: G409, dtype: int64, counts    2283\n",
       " Name: H660, dtype: int64, counts    1174\n",
       " Name: I109, dtype: int64, counts    87521\n",
       " Name: J209, dtype: int64, counts    1156\n",
       " Name: K529, dtype: int64, counts    833\n",
       " Name: L209, dtype: int64, counts    398\n",
       " Name: M791, dtype: int64, counts    267\n",
       " Name: N390, dtype: int64, counts    3\n",
       " Name: O249, dtype: int64, counts    687\n",
       " Name: P599, dtype: int64, counts    97\n",
       " Name: Q381, dtype: int64, counts    1781\n",
       " Name: R509, dtype: int64, counts    75\n",
       " Name: S335, dtype: int64, counts    230\n",
       " Name: T232, dtype: int64, counts    1107\n",
       " Name: Z380, dtype: int64]"
      ]
     },
     "execution_count": 67,
     "metadata": {},
     "output_type": "execute_result"
    }
   ],
   "source": [
    "code1_list = []\n",
    "a1 = pd.DataFrame(a1)\n",
    "a1 = a1.rename(columns = {0: 'counts'})\n",
    "a1_max = a1.iloc[a1['counts'].values.argmax()]\n",
    "code1_list.append(a1_max)\n",
    "b1 = pd.DataFrame(b1)\n",
    "b1 = b1.rename(columns = {0: 'counts'})\n",
    "code1_list.append(b1.iloc[b1['counts'].values.argmax()])\n",
    "c1 = pd.DataFrame(c1)\n",
    "c1 = c1.rename(columns = {0: 'counts'})\n",
    "code1_list.append(c1.iloc[c1['counts'].values.argmax()])\n",
    "d1 = pd.DataFrame(d1)\n",
    "d1 = d1.rename(columns = {0: 'counts'})\n",
    "code1_list.append(d1.iloc[d1['counts'].values.argmax()])\n",
    "e1 = pd.DataFrame(e1)\n",
    "e1 = e1.rename(columns = {0: 'counts'})\n",
    "code1_list.append(e1.iloc[e1['counts'].values.argmax()])\n",
    "f1 = pd.DataFrame(f1)\n",
    "f1 = f1.rename(columns = {0: 'counts'})\n",
    "code1_list.append(f1.iloc[f1['counts'].values.argmax()])\n",
    "g1 = pd.DataFrame(g1)\n",
    "g1 = g1.rename(columns = {0: 'counts'})\n",
    "code1_list.append(g1.iloc[g1['counts'].values.argmax()])\n",
    "h1 = pd.DataFrame(h1)\n",
    "h1 = h1.rename(columns = {0: 'counts'})\n",
    "code1_list.append(h1.iloc[h1['counts'].values.argmax()])\n",
    "i1 = pd.DataFrame(i1)\n",
    "i1 = i1.rename(columns = {0: 'counts'})\n",
    "code1_list.append(i1.iloc[i1['counts'].values.argmax()])\n",
    "j1 = pd.DataFrame(j1)\n",
    "j1 = j1.rename(columns = {0: 'counts'})\n",
    "code1_list.append(j1.iloc[j1['counts'].values.argmax()])\n",
    "k1 = pd.DataFrame(k1)\n",
    "k1 = k1.rename(columns = {0: 'counts'})\n",
    "code1_list.append(k1.iloc[k1['counts'].values.argmax()])\n",
    "l1 = pd.DataFrame(l1)\n",
    "l1 = l1.rename(columns = {0: 'counts'})\n",
    "code1_list.append(l1.iloc[l1['counts'].values.argmax()])\n",
    "m1 = pd.DataFrame(m1)\n",
    "m1 = m1.rename(columns = {0: 'counts'})\n",
    "code1_list.append(m1.iloc[m1['counts'].values.argmax()])\n",
    "n1 = pd.DataFrame(n1)\n",
    "n1 = n1.rename(columns = {0: 'counts'})\n",
    "code1_list.append(n1.iloc[n1['counts'].values.argmax()])\n",
    "o1 = pd.DataFrame(o1)\n",
    "o1 = o1.rename(columns = {0: 'counts'})\n",
    "code1_list.append(o1.iloc[o1['counts'].values.argmax()])\n",
    "p1 = pd.DataFrame(p1)\n",
    "p1 = p1.rename(columns = {0: 'counts'})\n",
    "code1_list.append(p1.iloc[p1['counts'].values.argmax()])\n",
    "q1 = pd.DataFrame(q1)\n",
    "q1 = q1.rename(columns = {0: 'counts'})\n",
    "code1_list.append(q1.iloc[q1['counts'].values.argmax()])\n",
    "r1 = pd.DataFrame(r1)\n",
    "r1 = r1.rename(columns = {0: 'counts'})\n",
    "code1_list.append(r1.iloc[r1['counts'].values.argmax()])\n",
    "s1 = pd.DataFrame(s1)\n",
    "s1 = s1.rename(columns = {0: 'counts'})\n",
    "code1_list.append(s1.iloc[s1['counts'].values.argmax()])\n",
    "t1 = pd.DataFrame(t1)\n",
    "t1 = t1.rename(columns = {0: 'counts'})\n",
    "code1_list.append(t1.iloc[t1['counts'].values.argmax()])\n",
    "u1 = pd.DataFrame(u1)\n",
    "u1 = u1.rename(columns = {0: 'counts'})\n",
    "#code1_list.append(u1.iloc[u1['counts'].values.argmax()])\n",
    "v1 = pd.DataFrame(v1)\n",
    "v1 = v1.rename(columns = {0: 'counts'})\n",
    "#code1_list.append(v1.iloc[v1['counts'].values.argmax()])\n",
    "w1 = pd.DataFrame(w1)\n",
    "w1 = w1.rename(columns = {0: 'counts'})\n",
    "#code1_list.append(w1.iloc[w1['counts'].values.argmax()])\n",
    "x1 = pd.DataFrame(x1)\n",
    "x1 = x1.rename(columns = {0: 'counts'})\n",
    "#code1_list.append(x1.iloc[x1['counts'].values.argmax()])\n",
    "y1 = pd.DataFrame(y1)\n",
    "y1 = y1.rename(columns = {0: 'counts'})\n",
    "#code1_list.append(y1.iloc[y1['counts'].values.argmax()])\n",
    "z1 = pd.DataFrame(z1)\n",
    "z1 = z1.rename(columns = {0: 'counts'})\n",
    "code1_list.append(z1.iloc[z1['counts'].values.argmax()])\n",
    "code1_list"
   ]
  },
  {
   "cell_type": "code",
   "execution_count": 69,
   "metadata": {
    "collapsed": false
   },
   "outputs": [
    {
     "name": "stderr",
     "output_type": "stream",
     "text": [
      "C:\\ProgramData\\Anaconda3\\lib\\site-packages\\ipykernel\\__main__.py:2: SettingWithCopyWarning: \n",
      "A value is trying to be set on a copy of a slice from a DataFrame.\n",
      "Try using .loc[row_indexer,col_indexer] = value instead\n",
      "\n",
      "See the caveats in the documentation: http://pandas.pydata.org/pandas-docs/stable/indexing.html#indexing-view-versus-copy\n",
      "  from ipykernel import kernelapp as app\n",
      "C:\\ProgramData\\Anaconda3\\lib\\site-packages\\ipykernel\\__main__.py:6: SettingWithCopyWarning: \n",
      "A value is trying to be set on a copy of a slice from a DataFrame.\n",
      "Try using .loc[row_indexer,col_indexer] = value instead\n",
      "\n",
      "See the caveats in the documentation: http://pandas.pydata.org/pandas-docs/stable/indexing.html#indexing-view-versus-copy\n",
      "C:\\ProgramData\\Anaconda3\\lib\\site-packages\\ipykernel\\__main__.py:10: SettingWithCopyWarning: \n",
      "A value is trying to be set on a copy of a slice from a DataFrame.\n",
      "Try using .loc[row_indexer,col_indexer] = value instead\n",
      "\n",
      "See the caveats in the documentation: http://pandas.pydata.org/pandas-docs/stable/indexing.html#indexing-view-versus-copy\n",
      "C:\\ProgramData\\Anaconda3\\lib\\site-packages\\matplotlib\\pyplot.py:524: RuntimeWarning: More than 20 figures have been opened. Figures created through the pyplot interface (`matplotlib.pyplot.figure`) are retained until explicitly closed and may consume too much memory. (To control this warning, see the rcParam `figure.max_open_warning`).\n",
      "  max_open_warning, RuntimeWarning)\n"
     ]
    }
   ],
   "source": [
    "code1_st_graph1 = ms_2010_2015_code1_st[ms_2010_2015_code1_st['main_sick'].str.match('J209')]\n",
    "code1_st_graph1['main_sick'] = code1_st_graph1['main_sick'].map({'J209': 'Acute bronchitis, unspecified'})\n",
    "code1_st_graph1 = pd.value_counts(code1_st_graph1['main_sick'].values, sort = False)\n",
    "code1_st_graph1 = pd.DataFrame(code1_st_graph1)\n",
    "code1_st_graph2 = ms_2010_2015_code1_st[ms_2010_2015_code1_st['main_sick'].str.match('H660')]\n",
    "code1_st_graph2['main_sick'] = code1_st_graph2['main_sick'].map({'H660': 'Acute suppurative otitis media'})\n",
    "code1_st_graph2 = pd.value_counts(code1_st_graph2['main_sick'].values, sort = False)\n",
    "code1_st_graph2 = pd.DataFrame(code1_st_graph2)\n",
    "code1_st_graph3 = ms_2010_2015_code1_st[ms_2010_2015_code1_st['main_sick'].str.match('R509')]\n",
    "code1_st_graph3['main_sick'] = code1_st_graph3['main_sick'].map({'R509': 'Fever, unspecified'})\n",
    "code1_st_graph3 = pd.value_counts(code1_st_graph3['main_sick'].values, sort = False)\n",
    "code1_st_graph3 = pd.DataFrame(code1_st_graph3)\n",
    "c1_st_123 = pd.concat([code1_st_graph1, code1_st_graph2, code1_st_graph3]).reset_index()\n",
    "c1_st_123 = c1_st_123.rename(columns = {'index' : 'main_sick', 0: 'Total_patients'})\n",
    "color = ['limegreen', 'palegreen', 'honeydew']\n",
    "c1_st_123.plot(kind = 'pie', y = 'Total_patients', autopct = '%1.1f%%', startangle = 180, labels = c1_st_123['main_sick'], legend = True, title = 'February', colors = color, figsize = (15, 10))\n",
    "plt.axis('equal')\n",
    "plt.tight_layout()\n",
    "savefig('소아청소년과 2월 main_sick pie chart.png', dpi = 1000)"
   ]
  },
  {
   "cell_type": "markdown",
   "metadata": {},
   "source": [
    "## Second Month Find 3 Large main_sick"
   ]
  },
  {
   "cell_type": "code",
   "execution_count": 70,
   "metadata": {
    "collapsed": true
   },
   "outputs": [],
   "source": [
    "a1 = pd.value_counts(ms_2010_2015_code1_nd[ms_2010_2015_code1_nd['main_sick'].str.match('A')]['main_sick'].values, sort = True)\n",
    "b1 = pd.value_counts(ms_2010_2015_code1_nd[ms_2010_2015_code1_nd['main_sick'].str.match('B')]['main_sick'].values, sort = True)\n",
    "c1 = pd.value_counts(ms_2010_2015_code1_nd[ms_2010_2015_code1_nd['main_sick'].str.match('C')]['main_sick'].values, sort = True)\n",
    "d1 = pd.value_counts(ms_2010_2015_code1_nd[ms_2010_2015_code1_nd['main_sick'].str.match('D')]['main_sick'].values, sort = True)\n",
    "e1 = pd.value_counts(ms_2010_2015_code1_nd[ms_2010_2015_code1_nd['main_sick'].str.match('E')]['main_sick'].values, sort = True)\n",
    "f1 = pd.value_counts(ms_2010_2015_code1_nd[ms_2010_2015_code1_nd['main_sick'].str.match('F')]['main_sick'].values, sort = True)\n",
    "g1 = pd.value_counts(ms_2010_2015_code1_nd[ms_2010_2015_code1_nd['main_sick'].str.match('G')]['main_sick'].values, sort = True)\n",
    "h1 = pd.value_counts(ms_2010_2015_code1_nd[ms_2010_2015_code1_nd['main_sick'].str.match('H')]['main_sick'].values, sort = True)\n",
    "i1 = pd.value_counts(ms_2010_2015_code1_nd[ms_2010_2015_code1_nd['main_sick'].str.match('I')]['main_sick'].values, sort = True)\n",
    "j1 = pd.value_counts(ms_2010_2015_code1_nd[ms_2010_2015_code1_nd['main_sick'].str.match('J')]['main_sick'].values, sort = True)\n",
    "k1 = pd.value_counts(ms_2010_2015_code1_nd[ms_2010_2015_code1_nd['main_sick'].str.match('K')]['main_sick'].values, sort = True)\n",
    "l1 = pd.value_counts(ms_2010_2015_code1_nd[ms_2010_2015_code1_nd['main_sick'].str.match('L')]['main_sick'].values, sort = True)\n",
    "m1 = pd.value_counts(ms_2010_2015_code1_nd[ms_2010_2015_code1_nd['main_sick'].str.match('M')]['main_sick'].values, sort = True)\n",
    "n1 = pd.value_counts(ms_2010_2015_code1_nd[ms_2010_2015_code1_nd['main_sick'].str.match('N')]['main_sick'].values, sort = True)\n",
    "o1 = pd.value_counts(ms_2010_2015_code1_nd[ms_2010_2015_code1_nd['main_sick'].str.match('O')]['main_sick'].values, sort = True)\n",
    "p1 = pd.value_counts(ms_2010_2015_code1_nd[ms_2010_2015_code1_nd['main_sick'].str.match('P')]['main_sick'].values, sort = True)\n",
    "q1 = pd.value_counts(ms_2010_2015_code1_nd[ms_2010_2015_code1_nd['main_sick'].str.match('Q')]['main_sick'].values, sort = True)\n",
    "r1 = pd.value_counts(ms_2010_2015_code1_nd[ms_2010_2015_code1_nd['main_sick'].str.match('R')]['main_sick'].values, sort = True)\n",
    "s1 = pd.value_counts(ms_2010_2015_code1_nd[ms_2010_2015_code1_nd['main_sick'].str.match('S')]['main_sick'].values, sort = True)\n",
    "t1 = pd.value_counts(ms_2010_2015_code1_nd[ms_2010_2015_code1_nd['main_sick'].str.match('T')]['main_sick'].values, sort = True)\n",
    "u1 = pd.value_counts(ms_2010_2015_code1_nd[ms_2010_2015_code1_nd['main_sick'].str.match('U')]['main_sick'].values, sort = True)\n",
    "v1 = pd.value_counts(ms_2010_2015_code1_nd[ms_2010_2015_code1_nd['main_sick'].str.match('V')]['main_sick'].values, sort = True)\n",
    "w1 = pd.value_counts(ms_2010_2015_code1_nd[ms_2010_2015_code1_nd['main_sick'].str.match('W')]['main_sick'].values, sort = True)\n",
    "x1 = pd.value_counts(ms_2010_2015_code1_nd[ms_2010_2015_code1_nd['main_sick'].str.match('X')]['main_sick'].values, sort = True)\n",
    "y1 = pd.value_counts(ms_2010_2015_code1_nd[ms_2010_2015_code1_nd['main_sick'].str.match('Y')]['main_sick'].values, sort = True)\n",
    "z1 = pd.value_counts(ms_2010_2015_code1_nd[ms_2010_2015_code1_nd['main_sick'].str.match('Z')]['main_sick'].values, sort = True)"
   ]
  },
  {
   "cell_type": "code",
   "execution_count": 71,
   "metadata": {
    "collapsed": false
   },
   "outputs": [
    {
     "data": {
      "text/plain": [
       "[counts    4048\n",
       " Name: A090, dtype: int64, counts    800\n",
       " Name: B084, dtype: int64, counts    187\n",
       " Name: C910, dtype: int64, counts    261\n",
       " Name: D509, dtype: int64, counts    1443\n",
       " Name: E301, dtype: int64, counts    18\n",
       " Name: F980, dtype: int64, counts    260\n",
       " Name: G409, dtype: int64, counts    3840\n",
       " Name: H669, dtype: int64, counts    1391\n",
       " Name: I109, dtype: int64, counts    88323\n",
       " Name: J209, dtype: int64, counts    907\n",
       " Name: K529, dtype: int64, counts    920\n",
       " Name: L209, dtype: int64, counts    345\n",
       " Name: M791, dtype: int64, counts    323\n",
       " Name: N390, dtype: int64, counts    3\n",
       " Name: O924, dtype: int64, counts    727\n",
       " Name: P599, dtype: int64, counts    97\n",
       " Name: Q381, dtype: int64, counts    1671\n",
       " Name: R509, dtype: int64, counts    95\n",
       " Name: S335, dtype: int64, counts    154\n",
       " Name: T232, dtype: int64, counts    1176\n",
       " Name: Z380, dtype: int64]"
      ]
     },
     "execution_count": 71,
     "metadata": {},
     "output_type": "execute_result"
    }
   ],
   "source": [
    "code1_list = []\n",
    "a1 = pd.DataFrame(a1)\n",
    "a1 = a1.rename(columns = {0: 'counts'})\n",
    "a1_max = a1.iloc[a1['counts'].values.argmax()]\n",
    "code1_list.append(a1_max)\n",
    "b1 = pd.DataFrame(b1)\n",
    "b1 = b1.rename(columns = {0: 'counts'})\n",
    "code1_list.append(b1.iloc[b1['counts'].values.argmax()])\n",
    "c1 = pd.DataFrame(c1)\n",
    "c1 = c1.rename(columns = {0: 'counts'})\n",
    "code1_list.append(c1.iloc[c1['counts'].values.argmax()])\n",
    "d1 = pd.DataFrame(d1)\n",
    "d1 = d1.rename(columns = {0: 'counts'})\n",
    "code1_list.append(d1.iloc[d1['counts'].values.argmax()])\n",
    "e1 = pd.DataFrame(e1)\n",
    "e1 = e1.rename(columns = {0: 'counts'})\n",
    "code1_list.append(e1.iloc[e1['counts'].values.argmax()])\n",
    "f1 = pd.DataFrame(f1)\n",
    "f1 = f1.rename(columns = {0: 'counts'})\n",
    "code1_list.append(f1.iloc[f1['counts'].values.argmax()])\n",
    "g1 = pd.DataFrame(g1)\n",
    "g1 = g1.rename(columns = {0: 'counts'})\n",
    "code1_list.append(g1.iloc[g1['counts'].values.argmax()])\n",
    "h1 = pd.DataFrame(h1)\n",
    "h1 = h1.rename(columns = {0: 'counts'})\n",
    "code1_list.append(h1.iloc[h1['counts'].values.argmax()])\n",
    "i1 = pd.DataFrame(i1)\n",
    "i1 = i1.rename(columns = {0: 'counts'})\n",
    "code1_list.append(i1.iloc[i1['counts'].values.argmax()])\n",
    "j1 = pd.DataFrame(j1)\n",
    "j1 = j1.rename(columns = {0: 'counts'})\n",
    "code1_list.append(j1.iloc[j1['counts'].values.argmax()])\n",
    "k1 = pd.DataFrame(k1)\n",
    "k1 = k1.rename(columns = {0: 'counts'})\n",
    "code1_list.append(k1.iloc[k1['counts'].values.argmax()])\n",
    "l1 = pd.DataFrame(l1)\n",
    "l1 = l1.rename(columns = {0: 'counts'})\n",
    "code1_list.append(l1.iloc[l1['counts'].values.argmax()])\n",
    "m1 = pd.DataFrame(m1)\n",
    "m1 = m1.rename(columns = {0: 'counts'})\n",
    "code1_list.append(m1.iloc[m1['counts'].values.argmax()])\n",
    "n1 = pd.DataFrame(n1)\n",
    "n1 = n1.rename(columns = {0: 'counts'})\n",
    "code1_list.append(n1.iloc[n1['counts'].values.argmax()])\n",
    "o1 = pd.DataFrame(o1)\n",
    "o1 = o1.rename(columns = {0: 'counts'})\n",
    "code1_list.append(o1.iloc[o1['counts'].values.argmax()])\n",
    "p1 = pd.DataFrame(p1)\n",
    "p1 = p1.rename(columns = {0: 'counts'})\n",
    "code1_list.append(p1.iloc[p1['counts'].values.argmax()])\n",
    "q1 = pd.DataFrame(q1)\n",
    "q1 = q1.rename(columns = {0: 'counts'})\n",
    "code1_list.append(q1.iloc[q1['counts'].values.argmax()])\n",
    "r1 = pd.DataFrame(r1)\n",
    "r1 = r1.rename(columns = {0: 'counts'})\n",
    "code1_list.append(r1.iloc[r1['counts'].values.argmax()])\n",
    "s1 = pd.DataFrame(s1)\n",
    "s1 = s1.rename(columns = {0: 'counts'})\n",
    "code1_list.append(s1.iloc[s1['counts'].values.argmax()])\n",
    "t1 = pd.DataFrame(t1)\n",
    "t1 = t1.rename(columns = {0: 'counts'})\n",
    "code1_list.append(t1.iloc[t1['counts'].values.argmax()])\n",
    "u1 = pd.DataFrame(u1)\n",
    "u1 = u1.rename(columns = {0: 'counts'})\n",
    "#code1_list.append(u1.iloc[u1['counts'].values.argmax()])\n",
    "v1 = pd.DataFrame(v1)\n",
    "v1 = v1.rename(columns = {0: 'counts'})\n",
    "#code1_list.append(v1.iloc[v1['counts'].values.argmax()])\n",
    "w1 = pd.DataFrame(w1)\n",
    "w1 = w1.rename(columns = {0: 'counts'})\n",
    "#code1_list.append(w1.iloc[w1['counts'].values.argmax()])\n",
    "x1 = pd.DataFrame(x1)\n",
    "x1 = x1.rename(columns = {0: 'counts'})\n",
    "#code1_list.append(x1.iloc[x1['counts'].values.argmax()])\n",
    "y1 = pd.DataFrame(y1)\n",
    "y1 = y1.rename(columns = {0: 'counts'})\n",
    "#code1_list.append(y1.iloc[y1['counts'].values.argmax()])\n",
    "z1 = pd.DataFrame(z1)\n",
    "z1 = z1.rename(columns = {0: 'counts'})\n",
    "code1_list.append(z1.iloc[z1['counts'].values.argmax()])\n",
    "code1_list"
   ]
  },
  {
   "cell_type": "code",
   "execution_count": 72,
   "metadata": {
    "collapsed": false
   },
   "outputs": [
    {
     "name": "stderr",
     "output_type": "stream",
     "text": [
      "C:\\ProgramData\\Anaconda3\\lib\\site-packages\\ipykernel\\__main__.py:2: SettingWithCopyWarning: \n",
      "A value is trying to be set on a copy of a slice from a DataFrame.\n",
      "Try using .loc[row_indexer,col_indexer] = value instead\n",
      "\n",
      "See the caveats in the documentation: http://pandas.pydata.org/pandas-docs/stable/indexing.html#indexing-view-versus-copy\n",
      "  from ipykernel import kernelapp as app\n",
      "C:\\ProgramData\\Anaconda3\\lib\\site-packages\\ipykernel\\__main__.py:6: SettingWithCopyWarning: \n",
      "A value is trying to be set on a copy of a slice from a DataFrame.\n",
      "Try using .loc[row_indexer,col_indexer] = value instead\n",
      "\n",
      "See the caveats in the documentation: http://pandas.pydata.org/pandas-docs/stable/indexing.html#indexing-view-versus-copy\n",
      "C:\\ProgramData\\Anaconda3\\lib\\site-packages\\ipykernel\\__main__.py:10: SettingWithCopyWarning: \n",
      "A value is trying to be set on a copy of a slice from a DataFrame.\n",
      "Try using .loc[row_indexer,col_indexer] = value instead\n",
      "\n",
      "See the caveats in the documentation: http://pandas.pydata.org/pandas-docs/stable/indexing.html#indexing-view-versus-copy\n",
      "C:\\ProgramData\\Anaconda3\\lib\\site-packages\\matplotlib\\pyplot.py:524: RuntimeWarning: More than 20 figures have been opened. Figures created through the pyplot interface (`matplotlib.pyplot.figure`) are retained until explicitly closed and may consume too much memory. (To control this warning, see the rcParam `figure.max_open_warning`).\n",
      "  max_open_warning, RuntimeWarning)\n"
     ]
    }
   ],
   "source": [
    "code1_st_graph1 = ms_2010_2015_code1_nd[ms_2010_2015_code1_nd['main_sick'].str.match('J209')]\n",
    "code1_st_graph1['main_sick'] = code1_st_graph1['main_sick'].map({'J209': 'Acute bronchitis, unspecified'})\n",
    "code1_st_graph1 = pd.value_counts(code1_st_graph1['main_sick'].values, sort = False)\n",
    "code1_st_graph1 = pd.DataFrame(code1_st_graph1)\n",
    "code1_st_graph2 = ms_2010_2015_code1_nd[ms_2010_2015_code1_nd['main_sick'].str.match('H669')]\n",
    "code1_st_graph2['main_sick'] = code1_st_graph2['main_sick'].map({'H669': 'Otitis media, unspecified'})\n",
    "code1_st_graph2 = pd.value_counts(code1_st_graph2['main_sick'].values, sort = False)\n",
    "code1_st_graph2 = pd.DataFrame(code1_st_graph2)\n",
    "code1_st_graph3 = ms_2010_2015_code1_nd[ms_2010_2015_code1_nd['main_sick'].str.match('R509')]\n",
    "code1_st_graph3['main_sick'] = code1_st_graph3['main_sick'].map({'R509': 'Fever, unspecified'})\n",
    "code1_st_graph3 = pd.value_counts(code1_st_graph3['main_sick'].values, sort = False)\n",
    "code1_st_graph3 = pd.DataFrame(code1_st_graph3)\n",
    "c1_st_123 = pd.concat([code1_st_graph1, code1_st_graph2, code1_st_graph3]).reset_index()\n",
    "c1_st_123 = c1_st_123.rename(columns = {'index' : 'main_sick', 0: 'Total_patients'})\n",
    "color = ['limegreen', 'palegreen', 'honeydew']\n",
    "c1_st_123.plot(kind = 'pie', y = 'Total_patients', autopct = '%1.1f%%', startangle = 90, labels = c1_st_123['main_sick'], legend = True, title = 'April', colors = color)\n",
    "plt.axis('equal')\n",
    "plt.tight_layout()\n",
    "savefig('소아청소년과 4월 main_sick pie chart.png', dpi = 1000)"
   ]
  },
  {
   "cell_type": "markdown",
   "metadata": {},
   "source": [
    "## Third Month Find 3 Large main_sick¶"
   ]
  },
  {
   "cell_type": "code",
   "execution_count": 73,
   "metadata": {
    "collapsed": true
   },
   "outputs": [],
   "source": [
    "a1 = pd.value_counts(ms_2010_2015_code1_th[ms_2010_2015_code1_th['main_sick'].str.match('A')]['main_sick'].values, sort = True)\n",
    "b1 = pd.value_counts(ms_2010_2015_code1_th[ms_2010_2015_code1_th['main_sick'].str.match('B')]['main_sick'].values, sort = True)\n",
    "c1 = pd.value_counts(ms_2010_2015_code1_th[ms_2010_2015_code1_th['main_sick'].str.match('C')]['main_sick'].values, sort = True)\n",
    "d1 = pd.value_counts(ms_2010_2015_code1_th[ms_2010_2015_code1_th['main_sick'].str.match('D')]['main_sick'].values, sort = True)\n",
    "e1 = pd.value_counts(ms_2010_2015_code1_th[ms_2010_2015_code1_th['main_sick'].str.match('E')]['main_sick'].values, sort = True)\n",
    "f1 = pd.value_counts(ms_2010_2015_code1_th[ms_2010_2015_code1_th['main_sick'].str.match('F')]['main_sick'].values, sort = True)\n",
    "g1 = pd.value_counts(ms_2010_2015_code1_th[ms_2010_2015_code1_th['main_sick'].str.match('G')]['main_sick'].values, sort = True)\n",
    "h1 = pd.value_counts(ms_2010_2015_code1_th[ms_2010_2015_code1_th['main_sick'].str.match('H')]['main_sick'].values, sort = True)\n",
    "i1 = pd.value_counts(ms_2010_2015_code1_th[ms_2010_2015_code1_th['main_sick'].str.match('I')]['main_sick'].values, sort = True)\n",
    "j1 = pd.value_counts(ms_2010_2015_code1_th[ms_2010_2015_code1_th['main_sick'].str.match('J')]['main_sick'].values, sort = True)\n",
    "k1 = pd.value_counts(ms_2010_2015_code1_th[ms_2010_2015_code1_th['main_sick'].str.match('K')]['main_sick'].values, sort = True)\n",
    "l1 = pd.value_counts(ms_2010_2015_code1_th[ms_2010_2015_code1_th['main_sick'].str.match('L')]['main_sick'].values, sort = True)\n",
    "m1 = pd.value_counts(ms_2010_2015_code1_th[ms_2010_2015_code1_th['main_sick'].str.match('M')]['main_sick'].values, sort = True)\n",
    "n1 = pd.value_counts(ms_2010_2015_code1_th[ms_2010_2015_code1_th['main_sick'].str.match('N')]['main_sick'].values, sort = True)\n",
    "o1 = pd.value_counts(ms_2010_2015_code1_th[ms_2010_2015_code1_th['main_sick'].str.match('O')]['main_sick'].values, sort = True)\n",
    "p1 = pd.value_counts(ms_2010_2015_code1_th[ms_2010_2015_code1_th['main_sick'].str.match('P')]['main_sick'].values, sort = True)\n",
    "q1 = pd.value_counts(ms_2010_2015_code1_th[ms_2010_2015_code1_th['main_sick'].str.match('Q')]['main_sick'].values, sort = True)\n",
    "r1 = pd.value_counts(ms_2010_2015_code1_th[ms_2010_2015_code1_th['main_sick'].str.match('R')]['main_sick'].values, sort = True)\n",
    "s1 = pd.value_counts(ms_2010_2015_code1_th[ms_2010_2015_code1_th['main_sick'].str.match('S')]['main_sick'].values, sort = True)\n",
    "t1 = pd.value_counts(ms_2010_2015_code1_th[ms_2010_2015_code1_th['main_sick'].str.match('T')]['main_sick'].values, sort = True)\n",
    "u1 = pd.value_counts(ms_2010_2015_code1_th[ms_2010_2015_code1_th['main_sick'].str.match('U')]['main_sick'].values, sort = True)\n",
    "v1 = pd.value_counts(ms_2010_2015_code1_th[ms_2010_2015_code1_th['main_sick'].str.match('V')]['main_sick'].values, sort = True)\n",
    "w1 = pd.value_counts(ms_2010_2015_code1_th[ms_2010_2015_code1_th['main_sick'].str.match('W')]['main_sick'].values, sort = True)\n",
    "x1 = pd.value_counts(ms_2010_2015_code1_th[ms_2010_2015_code1_th['main_sick'].str.match('X')]['main_sick'].values, sort = True)\n",
    "y1 = pd.value_counts(ms_2010_2015_code1_th[ms_2010_2015_code1_th['main_sick'].str.match('Y')]['main_sick'].values, sort = True)\n",
    "z1 = pd.value_counts(ms_2010_2015_code1_th[ms_2010_2015_code1_th['main_sick'].str.match('Z')]['main_sick'].values, sort = True)"
   ]
  },
  {
   "cell_type": "code",
   "execution_count": 74,
   "metadata": {
    "collapsed": false
   },
   "outputs": [
    {
     "data": {
      "text/plain": [
       "[counts    6742\n",
       " Name: A090, dtype: int64, counts    627\n",
       " Name: B019, dtype: int64, counts    201\n",
       " Name: C910, dtype: int64, counts    207\n",
       " Name: D509, dtype: int64, counts    1504\n",
       " Name: E301, dtype: int64, counts    23\n",
       " Name: F510, dtype: int64, counts    267\n",
       " Name: G409, dtype: int64, counts    3509\n",
       " Name: H660, dtype: int64, counts    1365\n",
       " Name: I109, dtype: int64, counts    86212\n",
       " Name: J209, dtype: int64, counts    1354\n",
       " Name: K529, dtype: int64, counts    691\n",
       " Name: L209, dtype: int64, counts    335\n",
       " Name: M791, dtype: int64, counts    277\n",
       " Name: N390, dtype: int64, counts    4\n",
       " Name: O912, dtype: int64, counts    555\n",
       " Name: P599, dtype: int64, counts    100\n",
       " Name: Q211, dtype: int64, counts    1445\n",
       " Name: R509, dtype: int64, counts    95\n",
       " Name: S335, dtype: int64, counts    154\n",
       " Name: T232, dtype: int64, counts    715\n",
       " Name: Z380, dtype: int64]"
      ]
     },
     "execution_count": 74,
     "metadata": {},
     "output_type": "execute_result"
    }
   ],
   "source": [
    "code1_list = []\n",
    "a1 = pd.DataFrame(a1)\n",
    "a1 = a1.rename(columns = {0: 'counts'})\n",
    "a1_max = a1.iloc[a1['counts'].values.argmax()]\n",
    "code1_list.append(a1_max)\n",
    "b1 = pd.DataFrame(b1)\n",
    "b1 = b1.rename(columns = {0: 'counts'})\n",
    "code1_list.append(b1.iloc[b1['counts'].values.argmax()])\n",
    "c1 = pd.DataFrame(c1)\n",
    "c1 = c1.rename(columns = {0: 'counts'})\n",
    "code1_list.append(c1.iloc[c1['counts'].values.argmax()])\n",
    "d1 = pd.DataFrame(d1)\n",
    "d1 = d1.rename(columns = {0: 'counts'})\n",
    "code1_list.append(d1.iloc[d1['counts'].values.argmax()])\n",
    "e1 = pd.DataFrame(e1)\n",
    "e1 = e1.rename(columns = {0: 'counts'})\n",
    "code1_list.append(e1.iloc[e1['counts'].values.argmax()])\n",
    "f1 = pd.DataFrame(f1)\n",
    "f1 = f1.rename(columns = {0: 'counts'})\n",
    "code1_list.append(f1.iloc[f1['counts'].values.argmax()])\n",
    "g1 = pd.DataFrame(g1)\n",
    "g1 = g1.rename(columns = {0: 'counts'})\n",
    "code1_list.append(g1.iloc[g1['counts'].values.argmax()])\n",
    "h1 = pd.DataFrame(h1)\n",
    "h1 = h1.rename(columns = {0: 'counts'})\n",
    "code1_list.append(h1.iloc[h1['counts'].values.argmax()])\n",
    "i1 = pd.DataFrame(i1)\n",
    "i1 = i1.rename(columns = {0: 'counts'})\n",
    "code1_list.append(i1.iloc[i1['counts'].values.argmax()])\n",
    "j1 = pd.DataFrame(j1)\n",
    "j1 = j1.rename(columns = {0: 'counts'})\n",
    "code1_list.append(j1.iloc[j1['counts'].values.argmax()])\n",
    "k1 = pd.DataFrame(k1)\n",
    "k1 = k1.rename(columns = {0: 'counts'})\n",
    "code1_list.append(k1.iloc[k1['counts'].values.argmax()])\n",
    "l1 = pd.DataFrame(l1)\n",
    "l1 = l1.rename(columns = {0: 'counts'})\n",
    "code1_list.append(l1.iloc[l1['counts'].values.argmax()])\n",
    "m1 = pd.DataFrame(m1)\n",
    "m1 = m1.rename(columns = {0: 'counts'})\n",
    "code1_list.append(m1.iloc[m1['counts'].values.argmax()])\n",
    "n1 = pd.DataFrame(n1)\n",
    "n1 = n1.rename(columns = {0: 'counts'})\n",
    "code1_list.append(n1.iloc[n1['counts'].values.argmax()])\n",
    "o1 = pd.DataFrame(o1)\n",
    "o1 = o1.rename(columns = {0: 'counts'})\n",
    "code1_list.append(o1.iloc[o1['counts'].values.argmax()])\n",
    "p1 = pd.DataFrame(p1)\n",
    "p1 = p1.rename(columns = {0: 'counts'})\n",
    "code1_list.append(p1.iloc[p1['counts'].values.argmax()])\n",
    "q1 = pd.DataFrame(q1)\n",
    "q1 = q1.rename(columns = {0: 'counts'})\n",
    "code1_list.append(q1.iloc[q1['counts'].values.argmax()])\n",
    "r1 = pd.DataFrame(r1)\n",
    "r1 = r1.rename(columns = {0: 'counts'})\n",
    "code1_list.append(r1.iloc[r1['counts'].values.argmax()])\n",
    "s1 = pd.DataFrame(s1)\n",
    "s1 = s1.rename(columns = {0: 'counts'})\n",
    "code1_list.append(s1.iloc[s1['counts'].values.argmax()])\n",
    "t1 = pd.DataFrame(t1)\n",
    "t1 = t1.rename(columns = {0: 'counts'})\n",
    "code1_list.append(t1.iloc[t1['counts'].values.argmax()])\n",
    "u1 = pd.DataFrame(u1)\n",
    "u1 = u1.rename(columns = {0: 'counts'})\n",
    "#code1_list.append(u1.iloc[u1['counts'].values.argmax()])\n",
    "v1 = pd.DataFrame(v1)\n",
    "v1 = v1.rename(columns = {0: 'counts'})\n",
    "#code1_list.append(v1.iloc[v1['counts'].values.argmax()])\n",
    "w1 = pd.DataFrame(w1)\n",
    "w1 = w1.rename(columns = {0: 'counts'})\n",
    "#code1_list.append(w1.iloc[w1['counts'].values.argmax()])\n",
    "x1 = pd.DataFrame(x1)\n",
    "x1 = x1.rename(columns = {0: 'counts'})\n",
    "#code1_list.append(x1.iloc[x1['counts'].values.argmax()])\n",
    "y1 = pd.DataFrame(y1)\n",
    "y1 = y1.rename(columns = {0: 'counts'})\n",
    "#code1_list.append(y1.iloc[y1['counts'].values.argmax()])\n",
    "z1 = pd.DataFrame(z1)\n",
    "z1 = z1.rename(columns = {0: 'counts'})\n",
    "code1_list.append(z1.iloc[z1['counts'].values.argmax()])\n",
    "code1_list"
   ]
  },
  {
   "cell_type": "code",
   "execution_count": 76,
   "metadata": {
    "collapsed": false
   },
   "outputs": [
    {
     "name": "stderr",
     "output_type": "stream",
     "text": [
      "C:\\ProgramData\\Anaconda3\\lib\\site-packages\\ipykernel\\__main__.py:2: SettingWithCopyWarning: \n",
      "A value is trying to be set on a copy of a slice from a DataFrame.\n",
      "Try using .loc[row_indexer,col_indexer] = value instead\n",
      "\n",
      "See the caveats in the documentation: http://pandas.pydata.org/pandas-docs/stable/indexing.html#indexing-view-versus-copy\n",
      "  from ipykernel import kernelapp as app\n",
      "C:\\ProgramData\\Anaconda3\\lib\\site-packages\\ipykernel\\__main__.py:6: SettingWithCopyWarning: \n",
      "A value is trying to be set on a copy of a slice from a DataFrame.\n",
      "Try using .loc[row_indexer,col_indexer] = value instead\n",
      "\n",
      "See the caveats in the documentation: http://pandas.pydata.org/pandas-docs/stable/indexing.html#indexing-view-versus-copy\n",
      "C:\\ProgramData\\Anaconda3\\lib\\site-packages\\ipykernel\\__main__.py:10: SettingWithCopyWarning: \n",
      "A value is trying to be set on a copy of a slice from a DataFrame.\n",
      "Try using .loc[row_indexer,col_indexer] = value instead\n",
      "\n",
      "See the caveats in the documentation: http://pandas.pydata.org/pandas-docs/stable/indexing.html#indexing-view-versus-copy\n",
      "C:\\ProgramData\\Anaconda3\\lib\\site-packages\\matplotlib\\pyplot.py:524: RuntimeWarning: More than 20 figures have been opened. Figures created through the pyplot interface (`matplotlib.pyplot.figure`) are retained until explicitly closed and may consume too much memory. (To control this warning, see the rcParam `figure.max_open_warning`).\n",
      "  max_open_warning, RuntimeWarning)\n"
     ]
    }
   ],
   "source": [
    "code1_st_graph1 = ms_2010_2015_code1_th[ms_2010_2015_code1_th['main_sick'].str.match('J209')]\n",
    "code1_st_graph1['main_sick'] = code1_st_graph1['main_sick'].map({'J209': 'Acute bronchitis, unspecified'})\n",
    "code1_st_graph1 = pd.value_counts(code1_st_graph1['main_sick'].values, sort = False)\n",
    "code1_st_graph1 = pd.DataFrame(code1_st_graph1)\n",
    "code1_st_graph2 = ms_2010_2015_code1_th[ms_2010_2015_code1_th['main_sick'].str.match('H660')]\n",
    "code1_st_graph2['main_sick'] = code1_st_graph2['main_sick'].map({'H660': 'Acute suppurative otitis media'})\n",
    "code1_st_graph2 = pd.value_counts(code1_st_graph2['main_sick'].values, sort = False)\n",
    "code1_st_graph2 = pd.DataFrame(code1_st_graph2)\n",
    "code1_st_graph3 = ms_2010_2015_code1_th[ms_2010_2015_code1_th['main_sick'].str.match('E301')]\n",
    "code1_st_graph3['main_sick'] = code1_st_graph3['main_sick'].map({'E301': 'Precocious puberty'})\n",
    "code1_st_graph3 = pd.value_counts(code1_st_graph3['main_sick'].values, sort = False)\n",
    "code1_st_graph3 = pd.DataFrame(code1_st_graph3)\n",
    "c1_st_123 = pd.concat([code1_st_graph1, code1_st_graph2, code1_st_graph3]).reset_index()\n",
    "c1_st_123 = c1_st_123.rename(columns = {'index' : 'main_sick', 0: 'Total_patients'})\n",
    "color = ['limegreen', 'palegreen', 'honeydew']\n",
    "c1_st_123.plot(kind = 'pie', y = 'Total_patients', autopct = '%1.1f%%', startangle = 180, labels = c1_st_123['main_sick'], legend = True, title = 'December', colors = color, figsize = (15, 10))\n",
    "plt.axis('equal')\n",
    "plt.tight_layout()\n",
    "savefig('소아청소년과 12월 main_sick pie chart.png', dpi = 1000)"
   ]
  },
  {
   "cell_type": "markdown",
   "metadata": {},
   "source": [
    "## Counting Patient with treat_kind 11 (Month Criteria)"
   ]
  },
  {
   "cell_type": "code",
   "execution_count": 77,
   "metadata": {
    "collapsed": false
   },
   "outputs": [
    {
     "name": "stderr",
     "output_type": "stream",
     "text": [
      "C:\\ProgramData\\Anaconda3\\lib\\site-packages\\ipykernel\\__main__.py:2: SettingWithCopyWarning: \n",
      "A value is trying to be set on a copy of a slice from a DataFrame.\n",
      "Try using .loc[row_indexer,col_indexer] = value instead\n",
      "\n",
      "See the caveats in the documentation: http://pandas.pydata.org/pandas-docs/stable/indexing.html#indexing-view-versus-copy\n",
      "  from ipykernel import kernelapp as app\n",
      "C:\\ProgramData\\Anaconda3\\lib\\site-packages\\matplotlib\\pyplot.py:524: RuntimeWarning: More than 20 figures have been opened. Figures created through the pyplot interface (`matplotlib.pyplot.figure`) are retained until explicitly closed and may consume too much memory. (To control this warning, see the rcParam `figure.max_open_warning`).\n",
      "  max_open_warning, RuntimeWarning)\n"
     ]
    },
    {
     "data": {
      "text/html": [
       "<div>\n",
       "<table border=\"1\" class=\"dataframe\">\n",
       "  <thead>\n",
       "    <tr style=\"text-align: right;\">\n",
       "      <th></th>\n",
       "      <th>Month</th>\n",
       "      <th>Total_patients</th>\n",
       "    </tr>\n",
       "  </thead>\n",
       "  <tbody>\n",
       "    <tr>\n",
       "      <th>0</th>\n",
       "      <td>1</td>\n",
       "      <td>239181</td>\n",
       "    </tr>\n",
       "    <tr>\n",
       "      <th>1</th>\n",
       "      <td>2</td>\n",
       "      <td>236156</td>\n",
       "    </tr>\n",
       "    <tr>\n",
       "      <th>2</th>\n",
       "      <td>3</td>\n",
       "      <td>255965</td>\n",
       "    </tr>\n",
       "    <tr>\n",
       "      <th>3</th>\n",
       "      <td>4</td>\n",
       "      <td>266187</td>\n",
       "    </tr>\n",
       "    <tr>\n",
       "      <th>4</th>\n",
       "      <td>5</td>\n",
       "      <td>232703</td>\n",
       "    </tr>\n",
       "    <tr>\n",
       "      <th>5</th>\n",
       "      <td>6</td>\n",
       "      <td>175977</td>\n",
       "    </tr>\n",
       "    <tr>\n",
       "      <th>6</th>\n",
       "      <td>7</td>\n",
       "      <td>169907</td>\n",
       "    </tr>\n",
       "    <tr>\n",
       "      <th>7</th>\n",
       "      <td>8</td>\n",
       "      <td>175824</td>\n",
       "    </tr>\n",
       "    <tr>\n",
       "      <th>8</th>\n",
       "      <td>9</td>\n",
       "      <td>236621</td>\n",
       "    </tr>\n",
       "    <tr>\n",
       "      <th>9</th>\n",
       "      <td>10</td>\n",
       "      <td>247687</td>\n",
       "    </tr>\n",
       "    <tr>\n",
       "      <th>10</th>\n",
       "      <td>11</td>\n",
       "      <td>256686</td>\n",
       "    </tr>\n",
       "    <tr>\n",
       "      <th>11</th>\n",
       "      <td>12</td>\n",
       "      <td>267449</td>\n",
       "    </tr>\n",
       "  </tbody>\n",
       "</table>\n",
       "</div>"
      ],
      "text/plain": [
       "    Month  Total_patients\n",
       "0       1          239181\n",
       "1       2          236156\n",
       "2       3          255965\n",
       "3       4          266187\n",
       "4       5          232703\n",
       "5       6          175977\n",
       "6       7          169907\n",
       "7       8          175824\n",
       "8       9          236621\n",
       "9      10          247687\n",
       "10     11          256686\n",
       "11     12          267449"
      ]
     },
     "execution_count": 77,
     "metadata": {},
     "output_type": "execute_result"
    }
   ],
   "source": [
    "tk_2010_2015 = JR_2010_2015[['rec_date', 'treat_kind']]\n",
    "tk_2010_2015['rec_date'] = pd.to_datetime(tk_2010_2015['rec_date'], format = '%Y%m%d', errors = 'coerce')\n",
    "tk_2010_2015_code1 = tk_2010_2015[tk_2010_2015['treat_kind'] == 13]\n",
    "tk_2010_2015_code1_ct = tk_2010_2015_code1['rec_date'].groupby(tk_2010_2015_code1.rec_date.dt.month).agg('count')\n",
    "tk_2010_2015_code1_ct = pd.DataFrame(tk_2010_2015_code1_ct)\n",
    "plt.figure()\n",
    "tk_2010_2015_code1_ct = tk_2010_2015_code1_ct.rename(columns= {'rec_date': 'Total_patients'})\n",
    "tk_2010_2015_code1_ct = tk_2010_2015_code1_ct.reset_index()\n",
    "tk_2010_2015_code1_ct = tk_2010_2015_code1_ct.rename(columns = {'rec_date': 'Month'})\n",
    "tk_2010_2015_code1_ct"
   ]
  },
  {
   "cell_type": "markdown",
   "metadata": {},
   "source": [
    "## Visualization treat_kind 11 with Month"
   ]
  },
  {
   "cell_type": "code",
   "execution_count": 78,
   "metadata": {
    "collapsed": false
   },
   "outputs": [
    {
     "name": "stderr",
     "output_type": "stream",
     "text": [
      "C:\\ProgramData\\Anaconda3\\lib\\site-packages\\matplotlib\\pyplot.py:524: RuntimeWarning: More than 20 figures have been opened. Figures created through the pyplot interface (`matplotlib.pyplot.figure`) are retained until explicitly closed and may consume too much memory. (To control this warning, see the rcParam `figure.max_open_warning`).\n",
      "  max_open_warning, RuntimeWarning)\n"
     ]
    }
   ],
   "source": [
    "f, ax = plt.subplots(figsize = (10, 15))\n",
    "\n",
    "# plot the total treat_kind 11\n",
    "sns.barplot(x = 'Month', y = 'Total_patients', data = tk_2010_2015_code1_ct)\n",
    "plt.savefig('이비인후과 월별 이용 인원.png', dpi=1000)"
   ]
  },
  {
   "cell_type": "markdown",
   "metadata": {},
   "source": [
    "## Find max value and making new table (3 large value)"
   ]
  },
  {
   "cell_type": "code",
   "execution_count": 79,
   "metadata": {
    "collapsed": false
   },
   "outputs": [
    {
     "data": {
      "text/html": [
       "<div>\n",
       "<table border=\"1\" class=\"dataframe\">\n",
       "  <thead>\n",
       "    <tr style=\"text-align: right;\">\n",
       "      <th></th>\n",
       "      <th>Month</th>\n",
       "      <th>Total_patients</th>\n",
       "    </tr>\n",
       "  </thead>\n",
       "  <tbody>\n",
       "    <tr>\n",
       "      <th>11</th>\n",
       "      <td>12</td>\n",
       "      <td>267449</td>\n",
       "    </tr>\n",
       "    <tr>\n",
       "      <th>3</th>\n",
       "      <td>4</td>\n",
       "      <td>266187</td>\n",
       "    </tr>\n",
       "    <tr>\n",
       "      <th>10</th>\n",
       "      <td>11</td>\n",
       "      <td>256686</td>\n",
       "    </tr>\n",
       "  </tbody>\n",
       "</table>\n",
       "</div>"
      ],
      "text/plain": [
       "    Month  Total_patients\n",
       "11     12          267449\n",
       "3       4          266187\n",
       "10     11          256686"
      ]
     },
     "execution_count": 79,
     "metadata": {},
     "output_type": "execute_result"
    }
   ],
   "source": [
    "tk_2010_2015_code1_ct = tk_2010_2015_code1_ct.sort_values(by='Total_patients', ascending = False)\n",
    "tk_2010_2015_code1_ct_large = tk_2010_2015_code1_ct.iloc[0:3]\n",
    "tk_2010_2015_code1_ct_large"
   ]
  },
  {
   "cell_type": "code",
   "execution_count": 80,
   "metadata": {
    "collapsed": false
   },
   "outputs": [
    {
     "name": "stderr",
     "output_type": "stream",
     "text": [
      "C:\\ProgramData\\Anaconda3\\lib\\site-packages\\ipykernel\\__main__.py:3: SettingWithCopyWarning: \n",
      "A value is trying to be set on a copy of a slice from a DataFrame\n",
      "\n",
      "See the caveats in the documentation: http://pandas.pydata.org/pandas-docs/stable/indexing.html#indexing-view-versus-copy\n",
      "  app.launch_new_instance()\n"
     ]
    },
    {
     "data": {
      "text/html": [
       "<div>\n",
       "<table border=\"1\" class=\"dataframe\">\n",
       "  <thead>\n",
       "    <tr style=\"text-align: right;\">\n",
       "      <th></th>\n",
       "      <th>Month</th>\n",
       "      <th>Total_patients</th>\n",
       "    </tr>\n",
       "  </thead>\n",
       "  <tbody>\n",
       "    <tr>\n",
       "      <th>0</th>\n",
       "      <td>12</td>\n",
       "      <td>267449</td>\n",
       "    </tr>\n",
       "    <tr>\n",
       "      <th>1</th>\n",
       "      <td>4</td>\n",
       "      <td>266187</td>\n",
       "    </tr>\n",
       "    <tr>\n",
       "      <th>2</th>\n",
       "      <td>11</td>\n",
       "      <td>256686</td>\n",
       "    </tr>\n",
       "    <tr>\n",
       "      <th>3</th>\n",
       "      <td>ect</td>\n",
       "      <td>1970021</td>\n",
       "    </tr>\n",
       "  </tbody>\n",
       "</table>\n",
       "</div>"
      ],
      "text/plain": [
       "  Month  Total_patients\n",
       "0    12          267449\n",
       "1     4          266187\n",
       "2    11          256686\n",
       "3   ect         1970021"
      ]
     },
     "execution_count": 80,
     "metadata": {},
     "output_type": "execute_result"
    }
   ],
   "source": [
    "tk_2010_2015_code1_ct_ect = tk_2010_2015_code1_ct.iloc[3:12]\n",
    "tk_2010_2015_code1_ct_ect = tk_2010_2015_code1_ct_ect['Total_patients'].sum()\n",
    "tk_2010_2015_code1_ct_large.loc[4] = ['ect', tk_2010_2015_code1_ct_ect]\n",
    "tk_2010_2015_code1_ct_graph = tk_2010_2015_code1_ct_large.reset_index().drop('index', axis = 1)\n",
    "tk_2010_2015_code1_ct_graph"
   ]
  },
  {
   "cell_type": "code",
   "execution_count": 81,
   "metadata": {
    "collapsed": false
   },
   "outputs": [
    {
     "name": "stderr",
     "output_type": "stream",
     "text": [
      "C:\\ProgramData\\Anaconda3\\lib\\site-packages\\matplotlib\\pyplot.py:524: RuntimeWarning: More than 20 figures have been opened. Figures created through the pyplot interface (`matplotlib.pyplot.figure`) are retained until explicitly closed and may consume too much memory. (To control this warning, see the rcParam `figure.max_open_warning`).\n",
      "  max_open_warning, RuntimeWarning)\n"
     ]
    }
   ],
   "source": [
    "color = ['forestgreen', 'limegreen', 'palegreen', 'honeydew']\n",
    "tk_2010_2015_code1_ct_graph.plot(kind = 'pie', y = 'Total_patients', autopct = '%1.1f%%', startangle = 90, labels = tk_2010_2015_code1_ct_graph['Month'], legend = True, colors = color)\n",
    "# plt.pie(tk_2010_2015_code1_ct_graph['Total_patients'], shadow = True, startangle = 0, autopct='%1.1f%%')\n",
    "plt.axis('equal')\n",
    "plt.tight_layout()\n",
    "savefig('이비인후과 월별 이용 인원 pie chart.png', dpi = 1000)"
   ]
  },
  {
   "cell_type": "markdown",
   "metadata": {},
   "source": [
    "## Find 3 large main_sick with Month"
   ]
  },
  {
   "cell_type": "code",
   "execution_count": 82,
   "metadata": {
    "collapsed": false
   },
   "outputs": [
    {
     "data": {
      "text/html": [
       "<div>\n",
       "<table border=\"1\" class=\"dataframe\">\n",
       "  <thead>\n",
       "    <tr style=\"text-align: right;\">\n",
       "      <th></th>\n",
       "      <th>rec_date</th>\n",
       "      <th>treat_kind</th>\n",
       "      <th>main_sick</th>\n",
       "    </tr>\n",
       "  </thead>\n",
       "  <tbody>\n",
       "    <tr>\n",
       "      <th>6</th>\n",
       "      <td>2013-12-11</td>\n",
       "      <td>13</td>\n",
       "      <td>J340</td>\n",
       "    </tr>\n",
       "    <tr>\n",
       "      <th>7</th>\n",
       "      <td>2013-12-23</td>\n",
       "      <td>13</td>\n",
       "      <td>J039</td>\n",
       "    </tr>\n",
       "    <tr>\n",
       "      <th>8</th>\n",
       "      <td>2013-12-02</td>\n",
       "      <td>13</td>\n",
       "      <td>J209</td>\n",
       "    </tr>\n",
       "    <tr>\n",
       "      <th>9</th>\n",
       "      <td>2013-12-13</td>\n",
       "      <td>13</td>\n",
       "      <td>J209</td>\n",
       "    </tr>\n",
       "    <tr>\n",
       "      <th>10</th>\n",
       "      <td>2013-12-17</td>\n",
       "      <td>13</td>\n",
       "      <td>J209</td>\n",
       "    </tr>\n",
       "  </tbody>\n",
       "</table>\n",
       "</div>"
      ],
      "text/plain": [
       "     rec_date  treat_kind main_sick\n",
       "6  2013-12-11          13      J340\n",
       "7  2013-12-23          13      J039\n",
       "8  2013-12-02          13      J209\n",
       "9  2013-12-13          13      J209\n",
       "10 2013-12-17          13      J209"
      ]
     },
     "execution_count": 82,
     "metadata": {},
     "output_type": "execute_result"
    }
   ],
   "source": [
    "ms_2010_2015 = JR_2010_2015[['rec_date', 'treat_kind', 'main_sick']]\n",
    "ms_2010_2015['rec_date'] = pd.to_datetime(ms_2010_2015['rec_date'], format = '%Y%m%d', errors = 'coerce')\n",
    "ms_2010_2015_code1 = ms_2010_2015[ms_2010_2015['treat_kind'] == 13]\n",
    "ms_2010_2015_code1_st = ms_2010_2015_code1.rec_date.dt.month == tk_2010_2015_code1_ct_graph.ix[0, 'Month']\n",
    "ms_2010_2015_code1_st = ms_2010_2015_code1[ms_2010_2015_code1_st]\n",
    "ms_2010_2015_code1_st.head()"
   ]
  },
  {
   "cell_type": "code",
   "execution_count": 83,
   "metadata": {
    "collapsed": false
   },
   "outputs": [
    {
     "data": {
      "text/html": [
       "<div>\n",
       "<table border=\"1\" class=\"dataframe\">\n",
       "  <thead>\n",
       "    <tr style=\"text-align: right;\">\n",
       "      <th></th>\n",
       "      <th>rec_date</th>\n",
       "      <th>treat_kind</th>\n",
       "      <th>main_sick</th>\n",
       "    </tr>\n",
       "  </thead>\n",
       "  <tbody>\n",
       "    <tr>\n",
       "      <th>49379</th>\n",
       "      <td>2013-04-09</td>\n",
       "      <td>13</td>\n",
       "      <td>J039</td>\n",
       "    </tr>\n",
       "    <tr>\n",
       "      <th>49380</th>\n",
       "      <td>2013-04-09</td>\n",
       "      <td>13</td>\n",
       "      <td>J039</td>\n",
       "    </tr>\n",
       "    <tr>\n",
       "      <th>49381</th>\n",
       "      <td>2013-04-15</td>\n",
       "      <td>13</td>\n",
       "      <td>J039</td>\n",
       "    </tr>\n",
       "    <tr>\n",
       "      <th>49382</th>\n",
       "      <td>2013-04-26</td>\n",
       "      <td>13</td>\n",
       "      <td>J039</td>\n",
       "    </tr>\n",
       "    <tr>\n",
       "      <th>49383</th>\n",
       "      <td>2013-04-12</td>\n",
       "      <td>13</td>\n",
       "      <td>J039</td>\n",
       "    </tr>\n",
       "  </tbody>\n",
       "</table>\n",
       "</div>"
      ],
      "text/plain": [
       "        rec_date  treat_kind main_sick\n",
       "49379 2013-04-09          13      J039\n",
       "49380 2013-04-09          13      J039\n",
       "49381 2013-04-15          13      J039\n",
       "49382 2013-04-26          13      J039\n",
       "49383 2013-04-12          13      J039"
      ]
     },
     "execution_count": 83,
     "metadata": {},
     "output_type": "execute_result"
    }
   ],
   "source": [
    "ms_2010_2015_code1_nd = ms_2010_2015_code1.rec_date.dt.month == tk_2010_2015_code1_ct_graph.ix[1, 'Month']\n",
    "ms_2010_2015_code1_nd = ms_2010_2015_code1[ms_2010_2015_code1_nd]\n",
    "ms_2010_2015_code1_nd.head()"
   ]
  },
  {
   "cell_type": "code",
   "execution_count": 84,
   "metadata": {
    "collapsed": false
   },
   "outputs": [
    {
     "data": {
      "text/html": [
       "<div>\n",
       "<table border=\"1\" class=\"dataframe\">\n",
       "  <thead>\n",
       "    <tr style=\"text-align: right;\">\n",
       "      <th></th>\n",
       "      <th>rec_date</th>\n",
       "      <th>treat_kind</th>\n",
       "      <th>main_sick</th>\n",
       "    </tr>\n",
       "  </thead>\n",
       "  <tbody>\n",
       "    <tr>\n",
       "      <th>4322</th>\n",
       "      <td>2013-11-16</td>\n",
       "      <td>13</td>\n",
       "      <td>K120</td>\n",
       "    </tr>\n",
       "    <tr>\n",
       "      <th>4325</th>\n",
       "      <td>2013-11-01</td>\n",
       "      <td>13</td>\n",
       "      <td>J039</td>\n",
       "    </tr>\n",
       "    <tr>\n",
       "      <th>4344</th>\n",
       "      <td>2013-11-19</td>\n",
       "      <td>13</td>\n",
       "      <td>K120</td>\n",
       "    </tr>\n",
       "    <tr>\n",
       "      <th>6233</th>\n",
       "      <td>2013-11-21</td>\n",
       "      <td>13</td>\n",
       "      <td>J042</td>\n",
       "    </tr>\n",
       "    <tr>\n",
       "      <th>6234</th>\n",
       "      <td>2013-11-11</td>\n",
       "      <td>13</td>\n",
       "      <td>J310</td>\n",
       "    </tr>\n",
       "  </tbody>\n",
       "</table>\n",
       "</div>"
      ],
      "text/plain": [
       "       rec_date  treat_kind main_sick\n",
       "4322 2013-11-16          13      K120\n",
       "4325 2013-11-01          13      J039\n",
       "4344 2013-11-19          13      K120\n",
       "6233 2013-11-21          13      J042\n",
       "6234 2013-11-11          13      J310"
      ]
     },
     "execution_count": 84,
     "metadata": {},
     "output_type": "execute_result"
    }
   ],
   "source": [
    "ms_2010_2015_code1_th = ms_2010_2015_code1.rec_date.dt.month == tk_2010_2015_code1_ct_graph.ix[2, 'Month']\n",
    "ms_2010_2015_code1_th = ms_2010_2015_code1[ms_2010_2015_code1_th]\n",
    "ms_2010_2015_code1_th.head()"
   ]
  },
  {
   "cell_type": "markdown",
   "metadata": {},
   "source": [
    "## First Month Find 3 Large main_sick"
   ]
  },
  {
   "cell_type": "code",
   "execution_count": 85,
   "metadata": {
    "collapsed": true
   },
   "outputs": [],
   "source": [
    "a1 = pd.value_counts(ms_2010_2015_code1_st[ms_2010_2015_code1_st['main_sick'].str.match('A')]['main_sick'].values, sort = True)\n",
    "b1 = pd.value_counts(ms_2010_2015_code1_st[ms_2010_2015_code1_st['main_sick'].str.match('B')]['main_sick'].values, sort = True)\n",
    "c1 = pd.value_counts(ms_2010_2015_code1_st[ms_2010_2015_code1_st['main_sick'].str.match('C')]['main_sick'].values, sort = True)\n",
    "d1 = pd.value_counts(ms_2010_2015_code1_st[ms_2010_2015_code1_st['main_sick'].str.match('D')]['main_sick'].values, sort = True)\n",
    "e1 = pd.value_counts(ms_2010_2015_code1_st[ms_2010_2015_code1_st['main_sick'].str.match('E')]['main_sick'].values, sort = True)\n",
    "f1 = pd.value_counts(ms_2010_2015_code1_st[ms_2010_2015_code1_st['main_sick'].str.match('F')]['main_sick'].values, sort = True)\n",
    "g1 = pd.value_counts(ms_2010_2015_code1_st[ms_2010_2015_code1_st['main_sick'].str.match('G')]['main_sick'].values, sort = True)\n",
    "h1 = pd.value_counts(ms_2010_2015_code1_st[ms_2010_2015_code1_st['main_sick'].str.match('H')]['main_sick'].values, sort = True)\n",
    "i1 = pd.value_counts(ms_2010_2015_code1_st[ms_2010_2015_code1_st['main_sick'].str.match('I')]['main_sick'].values, sort = True)\n",
    "j1 = pd.value_counts(ms_2010_2015_code1_st[ms_2010_2015_code1_st['main_sick'].str.match('J')]['main_sick'].values, sort = True)\n",
    "k1 = pd.value_counts(ms_2010_2015_code1_st[ms_2010_2015_code1_st['main_sick'].str.match('K')]['main_sick'].values, sort = True)\n",
    "l1 = pd.value_counts(ms_2010_2015_code1_st[ms_2010_2015_code1_st['main_sick'].str.match('L')]['main_sick'].values, sort = True)\n",
    "m1 = pd.value_counts(ms_2010_2015_code1_st[ms_2010_2015_code1_st['main_sick'].str.match('M')]['main_sick'].values, sort = True)\n",
    "n1 = pd.value_counts(ms_2010_2015_code1_st[ms_2010_2015_code1_st['main_sick'].str.match('N')]['main_sick'].values, sort = True)\n",
    "o1 = pd.value_counts(ms_2010_2015_code1_st[ms_2010_2015_code1_st['main_sick'].str.match('O')]['main_sick'].values, sort = True)\n",
    "p1 = pd.value_counts(ms_2010_2015_code1_st[ms_2010_2015_code1_st['main_sick'].str.match('P')]['main_sick'].values, sort = True)\n",
    "q1 = pd.value_counts(ms_2010_2015_code1_st[ms_2010_2015_code1_st['main_sick'].str.match('Q')]['main_sick'].values, sort = True)\n",
    "r1 = pd.value_counts(ms_2010_2015_code1_st[ms_2010_2015_code1_st['main_sick'].str.match('R')]['main_sick'].values, sort = True)\n",
    "s1 = pd.value_counts(ms_2010_2015_code1_st[ms_2010_2015_code1_st['main_sick'].str.match('S')]['main_sick'].values, sort = True)\n",
    "t1 = pd.value_counts(ms_2010_2015_code1_st[ms_2010_2015_code1_st['main_sick'].str.match('T')]['main_sick'].values, sort = True)\n",
    "u1 = pd.value_counts(ms_2010_2015_code1_st[ms_2010_2015_code1_st['main_sick'].str.match('U')]['main_sick'].values, sort = True)\n",
    "v1 = pd.value_counts(ms_2010_2015_code1_st[ms_2010_2015_code1_st['main_sick'].str.match('V')]['main_sick'].values, sort = True)\n",
    "w1 = pd.value_counts(ms_2010_2015_code1_st[ms_2010_2015_code1_st['main_sick'].str.match('W')]['main_sick'].values, sort = True)\n",
    "x1 = pd.value_counts(ms_2010_2015_code1_st[ms_2010_2015_code1_st['main_sick'].str.match('X')]['main_sick'].values, sort = True)\n",
    "y1 = pd.value_counts(ms_2010_2015_code1_st[ms_2010_2015_code1_st['main_sick'].str.match('Y')]['main_sick'].values, sort = True)\n",
    "z1 = pd.value_counts(ms_2010_2015_code1_st[ms_2010_2015_code1_st['main_sick'].str.match('Z')]['main_sick'].values, sort = True)"
   ]
  },
  {
   "cell_type": "code",
   "execution_count": 86,
   "metadata": {
    "collapsed": false
   },
   "outputs": [
    {
     "data": {
      "text/plain": [
       "[counts    107\n",
       " Name: A090, dtype: int64, counts    67\n",
       " Name: B002, dtype: int64, counts    324\n",
       " Name: C73, dtype: int64, counts    86\n",
       " Name: D34, dtype: int64, counts    104\n",
       " Name: E041, dtype: int64, counts    17\n",
       " Name: F458, dtype: int64, counts    140\n",
       " Name: G510, dtype: int64, counts    6955\n",
       " Name: H660, dtype: int64, counts    126\n",
       " Name: I109, dtype: int64, counts    34675\n",
       " Name: J209, dtype: int64, counts    1222\n",
       " Name: K219, dtype: int64, counts    1388\n",
       " Name: L040, dtype: int64, counts    418\n",
       " Name: M791, dtype: int64, counts    23\n",
       " Name: N400, dtype: int64, counts    5\n",
       " Name: P220, dtype: int64, counts    149\n",
       " Name: Q181, dtype: int64, counts    1107\n",
       " Name: R040, dtype: int64, counts    170\n",
       " Name: S022, dtype: int64, counts    475\n",
       " Name: T16, dtype: int64, counts    26\n",
       " Name: Z011, dtype: int64]"
      ]
     },
     "execution_count": 86,
     "metadata": {},
     "output_type": "execute_result"
    }
   ],
   "source": [
    "code1_list = []\n",
    "a1 = pd.DataFrame(a1)\n",
    "a1 = a1.rename(columns = {0: 'counts'})\n",
    "a1_max = a1.iloc[a1['counts'].values.argmax()]\n",
    "code1_list.append(a1_max)\n",
    "b1 = pd.DataFrame(b1)\n",
    "b1 = b1.rename(columns = {0: 'counts'})\n",
    "code1_list.append(b1.iloc[b1['counts'].values.argmax()])\n",
    "c1 = pd.DataFrame(c1)\n",
    "c1 = c1.rename(columns = {0: 'counts'})\n",
    "code1_list.append(c1.iloc[c1['counts'].values.argmax()])\n",
    "d1 = pd.DataFrame(d1)\n",
    "d1 = d1.rename(columns = {0: 'counts'})\n",
    "code1_list.append(d1.iloc[d1['counts'].values.argmax()])\n",
    "e1 = pd.DataFrame(e1)\n",
    "e1 = e1.rename(columns = {0: 'counts'})\n",
    "code1_list.append(e1.iloc[e1['counts'].values.argmax()])\n",
    "f1 = pd.DataFrame(f1)\n",
    "f1 = f1.rename(columns = {0: 'counts'})\n",
    "code1_list.append(f1.iloc[f1['counts'].values.argmax()])\n",
    "g1 = pd.DataFrame(g1)\n",
    "g1 = g1.rename(columns = {0: 'counts'})\n",
    "code1_list.append(g1.iloc[g1['counts'].values.argmax()])\n",
    "h1 = pd.DataFrame(h1)\n",
    "h1 = h1.rename(columns = {0: 'counts'})\n",
    "code1_list.append(h1.iloc[h1['counts'].values.argmax()])\n",
    "i1 = pd.DataFrame(i1)\n",
    "i1 = i1.rename(columns = {0: 'counts'})\n",
    "code1_list.append(i1.iloc[i1['counts'].values.argmax()])\n",
    "j1 = pd.DataFrame(j1)\n",
    "j1 = j1.rename(columns = {0: 'counts'})\n",
    "code1_list.append(j1.iloc[j1['counts'].values.argmax()])\n",
    "k1 = pd.DataFrame(k1)\n",
    "k1 = k1.rename(columns = {0: 'counts'})\n",
    "code1_list.append(k1.iloc[k1['counts'].values.argmax()])\n",
    "l1 = pd.DataFrame(l1)\n",
    "l1 = l1.rename(columns = {0: 'counts'})\n",
    "code1_list.append(l1.iloc[l1['counts'].values.argmax()])\n",
    "m1 = pd.DataFrame(m1)\n",
    "m1 = m1.rename(columns = {0: 'counts'})\n",
    "code1_list.append(m1.iloc[m1['counts'].values.argmax()])\n",
    "n1 = pd.DataFrame(n1)\n",
    "n1 = n1.rename(columns = {0: 'counts'})\n",
    "code1_list.append(n1.iloc[n1['counts'].values.argmax()])\n",
    "o1 = pd.DataFrame(o1)\n",
    "o1 = o1.rename(columns = {0: 'counts'})\n",
    "#code1_list.append(o1.iloc[o1['counts'].values.argmax()])\n",
    "p1 = pd.DataFrame(p1)\n",
    "p1 = p1.rename(columns = {0: 'counts'})\n",
    "code1_list.append(p1.iloc[p1['counts'].values.argmax()])\n",
    "q1 = pd.DataFrame(q1)\n",
    "q1 = q1.rename(columns = {0: 'counts'})\n",
    "code1_list.append(q1.iloc[q1['counts'].values.argmax()])\n",
    "r1 = pd.DataFrame(r1)\n",
    "r1 = r1.rename(columns = {0: 'counts'})\n",
    "code1_list.append(r1.iloc[r1['counts'].values.argmax()])\n",
    "s1 = pd.DataFrame(s1)\n",
    "s1 = s1.rename(columns = {0: 'counts'})\n",
    "code1_list.append(s1.iloc[s1['counts'].values.argmax()])\n",
    "t1 = pd.DataFrame(t1)\n",
    "t1 = t1.rename(columns = {0: 'counts'})\n",
    "code1_list.append(t1.iloc[t1['counts'].values.argmax()])\n",
    "u1 = pd.DataFrame(u1)\n",
    "u1 = u1.rename(columns = {0: 'counts'})\n",
    "#code1_list.append(u1.iloc[u1['counts'].values.argmax()])\n",
    "v1 = pd.DataFrame(v1)\n",
    "v1 = v1.rename(columns = {0: 'counts'})\n",
    "#code1_list.append(v1.iloc[v1['counts'].values.argmax()])\n",
    "w1 = pd.DataFrame(w1)\n",
    "w1 = w1.rename(columns = {0: 'counts'})\n",
    "#code1_list.append(w1.iloc[w1['counts'].values.argmax()])\n",
    "x1 = pd.DataFrame(x1)\n",
    "x1 = x1.rename(columns = {0: 'counts'})\n",
    "#code1_list.append(x1.iloc[x1['counts'].values.argmax()])\n",
    "y1 = pd.DataFrame(y1)\n",
    "y1 = y1.rename(columns = {0: 'counts'})\n",
    "#code1_list.append(y1.iloc[y1['counts'].values.argmax()])\n",
    "z1 = pd.DataFrame(z1)\n",
    "z1 = z1.rename(columns = {0: 'counts'})\n",
    "code1_list.append(z1.iloc[z1['counts'].values.argmax()])\n",
    "code1_list"
   ]
  },
  {
   "cell_type": "code",
   "execution_count": 90,
   "metadata": {
    "collapsed": false
   },
   "outputs": [
    {
     "name": "stderr",
     "output_type": "stream",
     "text": [
      "C:\\ProgramData\\Anaconda3\\lib\\site-packages\\ipykernel\\__main__.py:2: SettingWithCopyWarning: \n",
      "A value is trying to be set on a copy of a slice from a DataFrame.\n",
      "Try using .loc[row_indexer,col_indexer] = value instead\n",
      "\n",
      "See the caveats in the documentation: http://pandas.pydata.org/pandas-docs/stable/indexing.html#indexing-view-versus-copy\n",
      "  from ipykernel import kernelapp as app\n",
      "C:\\ProgramData\\Anaconda3\\lib\\site-packages\\ipykernel\\__main__.py:6: SettingWithCopyWarning: \n",
      "A value is trying to be set on a copy of a slice from a DataFrame.\n",
      "Try using .loc[row_indexer,col_indexer] = value instead\n",
      "\n",
      "See the caveats in the documentation: http://pandas.pydata.org/pandas-docs/stable/indexing.html#indexing-view-versus-copy\n",
      "C:\\ProgramData\\Anaconda3\\lib\\site-packages\\ipykernel\\__main__.py:10: SettingWithCopyWarning: \n",
      "A value is trying to be set on a copy of a slice from a DataFrame.\n",
      "Try using .loc[row_indexer,col_indexer] = value instead\n",
      "\n",
      "See the caveats in the documentation: http://pandas.pydata.org/pandas-docs/stable/indexing.html#indexing-view-versus-copy\n",
      "C:\\ProgramData\\Anaconda3\\lib\\site-packages\\matplotlib\\pyplot.py:524: RuntimeWarning: More than 20 figures have been opened. Figures created through the pyplot interface (`matplotlib.pyplot.figure`) are retained until explicitly closed and may consume too much memory. (To control this warning, see the rcParam `figure.max_open_warning`).\n",
      "  max_open_warning, RuntimeWarning)\n"
     ]
    }
   ],
   "source": [
    "code1_st_graph1 = ms_2010_2015_code1_st[ms_2010_2015_code1_st['main_sick'].str.match('J209')]\n",
    "code1_st_graph1['main_sick'] = code1_st_graph1['main_sick'].map({'J209': 'Acute bronchitis, unspecified'})\n",
    "code1_st_graph1 = pd.value_counts(code1_st_graph1['main_sick'].values, sort = False)\n",
    "code1_st_graph1 = pd.DataFrame(code1_st_graph1)\n",
    "code1_st_graph2 = ms_2010_2015_code1_st[ms_2010_2015_code1_st['main_sick'].str.match('H660')]\n",
    "code1_st_graph2['main_sick'] = code1_st_graph2['main_sick'].map({'H660': 'Acute suppurative otitis media'})\n",
    "code1_st_graph2 = pd.value_counts(code1_st_graph2['main_sick'].values, sort = False)\n",
    "code1_st_graph2 = pd.DataFrame(code1_st_graph2)\n",
    "code1_st_graph3 = ms_2010_2015_code1_st[ms_2010_2015_code1_st['main_sick'].str.match('L040')]\n",
    "code1_st_graph3['main_sick'] = code1_st_graph3['main_sick'].map({'L040': 'Acute lymphadenitis of face, head and neck'})\n",
    "code1_st_graph3 = pd.value_counts(code1_st_graph3['main_sick'].values, sort = False)\n",
    "code1_st_graph3 = pd.DataFrame(code1_st_graph3)\n",
    "c1_st_123 = pd.concat([code1_st_graph1, code1_st_graph2, code1_st_graph3]).reset_index()\n",
    "c1_st_123 = c1_st_123.rename(columns = {'index' : 'main_sick', 0: 'Total_patients'})\n",
    "color = ['limegreen', 'palegreen', 'honeydew']\n",
    "c1_st_123.plot(kind = 'pie', y = 'Total_patients', autopct = '%1.1f%%', startangle = 180, labels = c1_st_123['main_sick'], legend = True, title = 'December', colors = color, figsize = (15, 10))\n",
    "plt.axis('equal')\n",
    "plt.tight_layout()\n",
    "savefig('이비인후과 12월 main_sick pie chart.png', dpi = 1000)"
   ]
  },
  {
   "cell_type": "markdown",
   "metadata": {},
   "source": [
    "## Second Month Find 3 Large main_sick"
   ]
  },
  {
   "cell_type": "code",
   "execution_count": 88,
   "metadata": {
    "collapsed": true
   },
   "outputs": [],
   "source": [
    "a1 = pd.value_counts(ms_2010_2015_code1_nd[ms_2010_2015_code1_nd['main_sick'].str.match('A')]['main_sick'].values, sort = True)\n",
    "b1 = pd.value_counts(ms_2010_2015_code1_nd[ms_2010_2015_code1_nd['main_sick'].str.match('B')]['main_sick'].values, sort = True)\n",
    "c1 = pd.value_counts(ms_2010_2015_code1_nd[ms_2010_2015_code1_nd['main_sick'].str.match('C')]['main_sick'].values, sort = True)\n",
    "d1 = pd.value_counts(ms_2010_2015_code1_nd[ms_2010_2015_code1_nd['main_sick'].str.match('D')]['main_sick'].values, sort = True)\n",
    "e1 = pd.value_counts(ms_2010_2015_code1_nd[ms_2010_2015_code1_nd['main_sick'].str.match('E')]['main_sick'].values, sort = True)\n",
    "f1 = pd.value_counts(ms_2010_2015_code1_nd[ms_2010_2015_code1_nd['main_sick'].str.match('F')]['main_sick'].values, sort = True)\n",
    "g1 = pd.value_counts(ms_2010_2015_code1_nd[ms_2010_2015_code1_nd['main_sick'].str.match('G')]['main_sick'].values, sort = True)\n",
    "h1 = pd.value_counts(ms_2010_2015_code1_nd[ms_2010_2015_code1_nd['main_sick'].str.match('H')]['main_sick'].values, sort = True)\n",
    "i1 = pd.value_counts(ms_2010_2015_code1_nd[ms_2010_2015_code1_nd['main_sick'].str.match('I')]['main_sick'].values, sort = True)\n",
    "j1 = pd.value_counts(ms_2010_2015_code1_nd[ms_2010_2015_code1_nd['main_sick'].str.match('J')]['main_sick'].values, sort = True)\n",
    "k1 = pd.value_counts(ms_2010_2015_code1_nd[ms_2010_2015_code1_nd['main_sick'].str.match('K')]['main_sick'].values, sort = True)\n",
    "l1 = pd.value_counts(ms_2010_2015_code1_nd[ms_2010_2015_code1_nd['main_sick'].str.match('L')]['main_sick'].values, sort = True)\n",
    "m1 = pd.value_counts(ms_2010_2015_code1_nd[ms_2010_2015_code1_nd['main_sick'].str.match('M')]['main_sick'].values, sort = True)\n",
    "n1 = pd.value_counts(ms_2010_2015_code1_nd[ms_2010_2015_code1_nd['main_sick'].str.match('N')]['main_sick'].values, sort = True)\n",
    "o1 = pd.value_counts(ms_2010_2015_code1_nd[ms_2010_2015_code1_nd['main_sick'].str.match('O')]['main_sick'].values, sort = True)\n",
    "p1 = pd.value_counts(ms_2010_2015_code1_nd[ms_2010_2015_code1_nd['main_sick'].str.match('P')]['main_sick'].values, sort = True)\n",
    "q1 = pd.value_counts(ms_2010_2015_code1_nd[ms_2010_2015_code1_nd['main_sick'].str.match('Q')]['main_sick'].values, sort = True)\n",
    "r1 = pd.value_counts(ms_2010_2015_code1_nd[ms_2010_2015_code1_nd['main_sick'].str.match('R')]['main_sick'].values, sort = True)\n",
    "s1 = pd.value_counts(ms_2010_2015_code1_nd[ms_2010_2015_code1_nd['main_sick'].str.match('S')]['main_sick'].values, sort = True)\n",
    "t1 = pd.value_counts(ms_2010_2015_code1_nd[ms_2010_2015_code1_nd['main_sick'].str.match('T')]['main_sick'].values, sort = True)\n",
    "u1 = pd.value_counts(ms_2010_2015_code1_nd[ms_2010_2015_code1_nd['main_sick'].str.match('U')]['main_sick'].values, sort = True)\n",
    "v1 = pd.value_counts(ms_2010_2015_code1_nd[ms_2010_2015_code1_nd['main_sick'].str.match('V')]['main_sick'].values, sort = True)\n",
    "w1 = pd.value_counts(ms_2010_2015_code1_nd[ms_2010_2015_code1_nd['main_sick'].str.match('W')]['main_sick'].values, sort = True)\n",
    "x1 = pd.value_counts(ms_2010_2015_code1_nd[ms_2010_2015_code1_nd['main_sick'].str.match('X')]['main_sick'].values, sort = True)\n",
    "y1 = pd.value_counts(ms_2010_2015_code1_nd[ms_2010_2015_code1_nd['main_sick'].str.match('Y')]['main_sick'].values, sort = True)\n",
    "z1 = pd.value_counts(ms_2010_2015_code1_nd[ms_2010_2015_code1_nd['main_sick'].str.match('Z')]['main_sick'].values, sort = True)"
   ]
  },
  {
   "cell_type": "code",
   "execution_count": 89,
   "metadata": {
    "collapsed": false
   },
   "outputs": [
    {
     "data": {
      "text/plain": [
       "[counts    88\n",
       " Name: A090, dtype: int64, counts    87\n",
       " Name: B370, dtype: int64, counts    318\n",
       " Name: C73, dtype: int64, counts    76\n",
       " Name: D110, dtype: int64, counts    84\n",
       " Name: E041, dtype: int64, counts    17\n",
       " Name: F510, dtype: int64, counts    154\n",
       " Name: G473, dtype: int64, counts    7321\n",
       " Name: H660, dtype: int64, counts    92\n",
       " Name: I109, dtype: int64, counts    31305\n",
       " Name: J209, dtype: int64, counts    1303\n",
       " Name: K219, dtype: int64, counts    1322\n",
       " Name: L040, dtype: int64, counts    362\n",
       " Name: M791, dtype: int64, counts    23\n",
       " Name: N400, dtype: int64, counts    110\n",
       " Name: Q181, dtype: int64, counts    1199\n",
       " Name: R040, dtype: int64, counts    165\n",
       " Name: S092, dtype: int64, counts    447\n",
       " Name: T16, dtype: int64, counts    29\n",
       " Name: Z011, dtype: int64]"
      ]
     },
     "execution_count": 89,
     "metadata": {},
     "output_type": "execute_result"
    }
   ],
   "source": [
    "code1_list = []\n",
    "a1 = pd.DataFrame(a1)\n",
    "a1 = a1.rename(columns = {0: 'counts'})\n",
    "a1_max = a1.iloc[a1['counts'].values.argmax()]\n",
    "code1_list.append(a1_max)\n",
    "b1 = pd.DataFrame(b1)\n",
    "b1 = b1.rename(columns = {0: 'counts'})\n",
    "code1_list.append(b1.iloc[b1['counts'].values.argmax()])\n",
    "c1 = pd.DataFrame(c1)\n",
    "c1 = c1.rename(columns = {0: 'counts'})\n",
    "code1_list.append(c1.iloc[c1['counts'].values.argmax()])\n",
    "d1 = pd.DataFrame(d1)\n",
    "d1 = d1.rename(columns = {0: 'counts'})\n",
    "code1_list.append(d1.iloc[d1['counts'].values.argmax()])\n",
    "e1 = pd.DataFrame(e1)\n",
    "e1 = e1.rename(columns = {0: 'counts'})\n",
    "code1_list.append(e1.iloc[e1['counts'].values.argmax()])\n",
    "f1 = pd.DataFrame(f1)\n",
    "f1 = f1.rename(columns = {0: 'counts'})\n",
    "code1_list.append(f1.iloc[f1['counts'].values.argmax()])\n",
    "g1 = pd.DataFrame(g1)\n",
    "g1 = g1.rename(columns = {0: 'counts'})\n",
    "code1_list.append(g1.iloc[g1['counts'].values.argmax()])\n",
    "h1 = pd.DataFrame(h1)\n",
    "h1 = h1.rename(columns = {0: 'counts'})\n",
    "code1_list.append(h1.iloc[h1['counts'].values.argmax()])\n",
    "i1 = pd.DataFrame(i1)\n",
    "i1 = i1.rename(columns = {0: 'counts'})\n",
    "code1_list.append(i1.iloc[i1['counts'].values.argmax()])\n",
    "j1 = pd.DataFrame(j1)\n",
    "j1 = j1.rename(columns = {0: 'counts'})\n",
    "code1_list.append(j1.iloc[j1['counts'].values.argmax()])\n",
    "k1 = pd.DataFrame(k1)\n",
    "k1 = k1.rename(columns = {0: 'counts'})\n",
    "code1_list.append(k1.iloc[k1['counts'].values.argmax()])\n",
    "l1 = pd.DataFrame(l1)\n",
    "l1 = l1.rename(columns = {0: 'counts'})\n",
    "code1_list.append(l1.iloc[l1['counts'].values.argmax()])\n",
    "m1 = pd.DataFrame(m1)\n",
    "m1 = m1.rename(columns = {0: 'counts'})\n",
    "code1_list.append(m1.iloc[m1['counts'].values.argmax()])\n",
    "n1 = pd.DataFrame(n1)\n",
    "n1 = n1.rename(columns = {0: 'counts'})\n",
    "code1_list.append(n1.iloc[n1['counts'].values.argmax()])\n",
    "o1 = pd.DataFrame(o1)\n",
    "o1 = o1.rename(columns = {0: 'counts'})\n",
    "#code1_list.append(o1.iloc[o1['counts'].values.argmax()])\n",
    "p1 = pd.DataFrame(p1)\n",
    "p1 = p1.rename(columns = {0: 'counts'})\n",
    "#code1_list.append(p1.iloc[p1['counts'].values.argmax()])\n",
    "q1 = pd.DataFrame(q1)\n",
    "q1 = q1.rename(columns = {0: 'counts'})\n",
    "code1_list.append(q1.iloc[q1['counts'].values.argmax()])\n",
    "r1 = pd.DataFrame(r1)\n",
    "r1 = r1.rename(columns = {0: 'counts'})\n",
    "code1_list.append(r1.iloc[r1['counts'].values.argmax()])\n",
    "s1 = pd.DataFrame(s1)\n",
    "s1 = s1.rename(columns = {0: 'counts'})\n",
    "code1_list.append(s1.iloc[s1['counts'].values.argmax()])\n",
    "t1 = pd.DataFrame(t1)\n",
    "t1 = t1.rename(columns = {0: 'counts'})\n",
    "code1_list.append(t1.iloc[t1['counts'].values.argmax()])\n",
    "u1 = pd.DataFrame(u1)\n",
    "u1 = u1.rename(columns = {0: 'counts'})\n",
    "#code1_list.append(u1.iloc[u1['counts'].values.argmax()])\n",
    "v1 = pd.DataFrame(v1)\n",
    "v1 = v1.rename(columns = {0: 'counts'})\n",
    "#code1_list.append(v1.iloc[v1['counts'].values.argmax()])\n",
    "w1 = pd.DataFrame(w1)\n",
    "w1 = w1.rename(columns = {0: 'counts'})\n",
    "#code1_list.append(w1.iloc[w1['counts'].values.argmax()])\n",
    "x1 = pd.DataFrame(x1)\n",
    "x1 = x1.rename(columns = {0: 'counts'})\n",
    "#code1_list.append(x1.iloc[x1['counts'].values.argmax()])\n",
    "y1 = pd.DataFrame(y1)\n",
    "y1 = y1.rename(columns = {0: 'counts'})\n",
    "#code1_list.append(y1.iloc[y1['counts'].values.argmax()])\n",
    "z1 = pd.DataFrame(z1)\n",
    "z1 = z1.rename(columns = {0: 'counts'})\n",
    "code1_list.append(z1.iloc[z1['counts'].values.argmax()])\n",
    "code1_list"
   ]
  },
  {
   "cell_type": "code",
   "execution_count": 91,
   "metadata": {
    "collapsed": false,
    "scrolled": true
   },
   "outputs": [
    {
     "name": "stderr",
     "output_type": "stream",
     "text": [
      "C:\\ProgramData\\Anaconda3\\lib\\site-packages\\ipykernel\\__main__.py:2: SettingWithCopyWarning: \n",
      "A value is trying to be set on a copy of a slice from a DataFrame.\n",
      "Try using .loc[row_indexer,col_indexer] = value instead\n",
      "\n",
      "See the caveats in the documentation: http://pandas.pydata.org/pandas-docs/stable/indexing.html#indexing-view-versus-copy\n",
      "  from ipykernel import kernelapp as app\n",
      "C:\\ProgramData\\Anaconda3\\lib\\site-packages\\ipykernel\\__main__.py:6: SettingWithCopyWarning: \n",
      "A value is trying to be set on a copy of a slice from a DataFrame.\n",
      "Try using .loc[row_indexer,col_indexer] = value instead\n",
      "\n",
      "See the caveats in the documentation: http://pandas.pydata.org/pandas-docs/stable/indexing.html#indexing-view-versus-copy\n",
      "C:\\ProgramData\\Anaconda3\\lib\\site-packages\\ipykernel\\__main__.py:10: SettingWithCopyWarning: \n",
      "A value is trying to be set on a copy of a slice from a DataFrame.\n",
      "Try using .loc[row_indexer,col_indexer] = value instead\n",
      "\n",
      "See the caveats in the documentation: http://pandas.pydata.org/pandas-docs/stable/indexing.html#indexing-view-versus-copy\n",
      "C:\\ProgramData\\Anaconda3\\lib\\site-packages\\matplotlib\\pyplot.py:524: RuntimeWarning: More than 20 figures have been opened. Figures created through the pyplot interface (`matplotlib.pyplot.figure`) are retained until explicitly closed and may consume too much memory. (To control this warning, see the rcParam `figure.max_open_warning`).\n",
      "  max_open_warning, RuntimeWarning)\n"
     ]
    }
   ],
   "source": [
    "code1_st_graph1 = ms_2010_2015_code1_nd[ms_2010_2015_code1_nd['main_sick'].str.match('J209')]\n",
    "code1_st_graph1['main_sick'] = code1_st_graph1['main_sick'].map({'J209': 'Acute bronchitis, unspecified'})\n",
    "code1_st_graph1 = pd.value_counts(code1_st_graph1['main_sick'].values, sort = False)\n",
    "code1_st_graph1 = pd.DataFrame(code1_st_graph1)\n",
    "code1_st_graph2 = ms_2010_2015_code1_nd[ms_2010_2015_code1_nd['main_sick'].str.match('H660')]\n",
    "code1_st_graph2['main_sick'] = code1_st_graph2['main_sick'].map({'H660': 'Acute suppurative otitis media'})\n",
    "code1_st_graph2 = pd.value_counts(code1_st_graph2['main_sick'].values, sort = False)\n",
    "code1_st_graph2 = pd.DataFrame(code1_st_graph2)\n",
    "code1_st_graph3 = ms_2010_2015_code1_nd[ms_2010_2015_code1_nd['main_sick'].str.match('L040')]\n",
    "code1_st_graph3['main_sick'] = code1_st_graph3['main_sick'].map({'L040': 'Acute lymphadenitis of face, head and neck'})\n",
    "code1_st_graph3 = pd.value_counts(code1_st_graph3['main_sick'].values, sort = False)\n",
    "code1_st_graph3 = pd.DataFrame(code1_st_graph3)\n",
    "c1_st_123 = pd.concat([code1_st_graph1, code1_st_graph2, code1_st_graph3]).reset_index()\n",
    "c1_st_123 = c1_st_123.rename(columns = {'index' : 'main_sick', 0: 'Total_patients'})\n",
    "color = ['limegreen', 'palegreen', 'honeydew']\n",
    "c1_st_123.plot(kind = 'pie', y = 'Total_patients', autopct = '%1.1f%%', startangle = 180, labels = c1_st_123['main_sick'], legend = True, title = 'April', colors = color, figsize = (15, 10))\n",
    "plt.axis('equal')\n",
    "plt.tight_layout()\n",
    "savefig('이비인후과 4월 main_sick pie chart.png', dpi = 1000)"
   ]
  },
  {
   "cell_type": "markdown",
   "metadata": {},
   "source": [
    "## Third Month Find 3 Large main_sick"
   ]
  },
  {
   "cell_type": "code",
   "execution_count": 92,
   "metadata": {
    "collapsed": true
   },
   "outputs": [],
   "source": [
    "a1 = pd.value_counts(ms_2010_2015_code1_th[ms_2010_2015_code1_th['main_sick'].str.match('A')]['main_sick'].values, sort = True)\n",
    "b1 = pd.value_counts(ms_2010_2015_code1_th[ms_2010_2015_code1_th['main_sick'].str.match('B')]['main_sick'].values, sort = True)\n",
    "c1 = pd.value_counts(ms_2010_2015_code1_th[ms_2010_2015_code1_th['main_sick'].str.match('C')]['main_sick'].values, sort = True)\n",
    "d1 = pd.value_counts(ms_2010_2015_code1_th[ms_2010_2015_code1_th['main_sick'].str.match('D')]['main_sick'].values, sort = True)\n",
    "e1 = pd.value_counts(ms_2010_2015_code1_th[ms_2010_2015_code1_th['main_sick'].str.match('E')]['main_sick'].values, sort = True)\n",
    "f1 = pd.value_counts(ms_2010_2015_code1_th[ms_2010_2015_code1_th['main_sick'].str.match('F')]['main_sick'].values, sort = True)\n",
    "g1 = pd.value_counts(ms_2010_2015_code1_th[ms_2010_2015_code1_th['main_sick'].str.match('G')]['main_sick'].values, sort = True)\n",
    "h1 = pd.value_counts(ms_2010_2015_code1_th[ms_2010_2015_code1_th['main_sick'].str.match('H')]['main_sick'].values, sort = True)\n",
    "i1 = pd.value_counts(ms_2010_2015_code1_th[ms_2010_2015_code1_th['main_sick'].str.match('I')]['main_sick'].values, sort = True)\n",
    "j1 = pd.value_counts(ms_2010_2015_code1_th[ms_2010_2015_code1_th['main_sick'].str.match('J')]['main_sick'].values, sort = True)\n",
    "k1 = pd.value_counts(ms_2010_2015_code1_th[ms_2010_2015_code1_th['main_sick'].str.match('K')]['main_sick'].values, sort = True)\n",
    "l1 = pd.value_counts(ms_2010_2015_code1_th[ms_2010_2015_code1_th['main_sick'].str.match('L')]['main_sick'].values, sort = True)\n",
    "m1 = pd.value_counts(ms_2010_2015_code1_th[ms_2010_2015_code1_th['main_sick'].str.match('M')]['main_sick'].values, sort = True)\n",
    "n1 = pd.value_counts(ms_2010_2015_code1_th[ms_2010_2015_code1_th['main_sick'].str.match('N')]['main_sick'].values, sort = True)\n",
    "o1 = pd.value_counts(ms_2010_2015_code1_th[ms_2010_2015_code1_th['main_sick'].str.match('O')]['main_sick'].values, sort = True)\n",
    "p1 = pd.value_counts(ms_2010_2015_code1_th[ms_2010_2015_code1_th['main_sick'].str.match('P')]['main_sick'].values, sort = True)\n",
    "q1 = pd.value_counts(ms_2010_2015_code1_th[ms_2010_2015_code1_th['main_sick'].str.match('Q')]['main_sick'].values, sort = True)\n",
    "r1 = pd.value_counts(ms_2010_2015_code1_th[ms_2010_2015_code1_th['main_sick'].str.match('R')]['main_sick'].values, sort = True)\n",
    "s1 = pd.value_counts(ms_2010_2015_code1_th[ms_2010_2015_code1_th['main_sick'].str.match('S')]['main_sick'].values, sort = True)\n",
    "t1 = pd.value_counts(ms_2010_2015_code1_th[ms_2010_2015_code1_th['main_sick'].str.match('T')]['main_sick'].values, sort = True)\n",
    "u1 = pd.value_counts(ms_2010_2015_code1_th[ms_2010_2015_code1_th['main_sick'].str.match('U')]['main_sick'].values, sort = True)\n",
    "v1 = pd.value_counts(ms_2010_2015_code1_th[ms_2010_2015_code1_th['main_sick'].str.match('V')]['main_sick'].values, sort = True)\n",
    "w1 = pd.value_counts(ms_2010_2015_code1_th[ms_2010_2015_code1_th['main_sick'].str.match('W')]['main_sick'].values, sort = True)\n",
    "x1 = pd.value_counts(ms_2010_2015_code1_th[ms_2010_2015_code1_th['main_sick'].str.match('X')]['main_sick'].values, sort = True)\n",
    "y1 = pd.value_counts(ms_2010_2015_code1_th[ms_2010_2015_code1_th['main_sick'].str.match('Y')]['main_sick'].values, sort = True)\n",
    "z1 = pd.value_counts(ms_2010_2015_code1_th[ms_2010_2015_code1_th['main_sick'].str.match('Z')]['main_sick'].values, sort = True)"
   ]
  },
  {
   "cell_type": "code",
   "execution_count": 93,
   "metadata": {
    "collapsed": false
   },
   "outputs": [
    {
     "data": {
      "text/plain": [
       "[counts    68\n",
       " Name: A090, dtype: int64, counts    72\n",
       " Name: B002, dtype: int64, counts    332\n",
       " Name: C73, dtype: int64, counts    79\n",
       " Name: D34, dtype: int64, counts    86\n",
       " Name: E041, dtype: int64, counts    15\n",
       " Name: F458, dtype: int64, counts    146\n",
       " Name: G473, dtype: int64, counts    6047\n",
       " Name: H660, dtype: int64, counts    118\n",
       " Name: I109, dtype: int64, counts    32714\n",
       " Name: J209, dtype: int64, counts    1185\n",
       " Name: K219, dtype: int64, counts    1304\n",
       " Name: L040, dtype: int64, counts    354\n",
       " Name: M791, dtype: int64, counts    144\n",
       " Name: Q181, dtype: int64, counts    931\n",
       " Name: R040, dtype: int64, counts    161\n",
       " Name: S022, dtype: int64, counts    471\n",
       " Name: T16, dtype: int64, counts    20\n",
       " Name: Z011, dtype: int64]"
      ]
     },
     "execution_count": 93,
     "metadata": {},
     "output_type": "execute_result"
    }
   ],
   "source": [
    "code1_list = []\n",
    "a1 = pd.DataFrame(a1)\n",
    "a1 = a1.rename(columns = {0: 'counts'})\n",
    "a1_max = a1.iloc[a1['counts'].values.argmax()]\n",
    "code1_list.append(a1_max)\n",
    "b1 = pd.DataFrame(b1)\n",
    "b1 = b1.rename(columns = {0: 'counts'})\n",
    "code1_list.append(b1.iloc[b1['counts'].values.argmax()])\n",
    "c1 = pd.DataFrame(c1)\n",
    "c1 = c1.rename(columns = {0: 'counts'})\n",
    "code1_list.append(c1.iloc[c1['counts'].values.argmax()])\n",
    "d1 = pd.DataFrame(d1)\n",
    "d1 = d1.rename(columns = {0: 'counts'})\n",
    "code1_list.append(d1.iloc[d1['counts'].values.argmax()])\n",
    "e1 = pd.DataFrame(e1)\n",
    "e1 = e1.rename(columns = {0: 'counts'})\n",
    "code1_list.append(e1.iloc[e1['counts'].values.argmax()])\n",
    "f1 = pd.DataFrame(f1)\n",
    "f1 = f1.rename(columns = {0: 'counts'})\n",
    "code1_list.append(f1.iloc[f1['counts'].values.argmax()])\n",
    "g1 = pd.DataFrame(g1)\n",
    "g1 = g1.rename(columns = {0: 'counts'})\n",
    "code1_list.append(g1.iloc[g1['counts'].values.argmax()])\n",
    "h1 = pd.DataFrame(h1)\n",
    "h1 = h1.rename(columns = {0: 'counts'})\n",
    "code1_list.append(h1.iloc[h1['counts'].values.argmax()])\n",
    "i1 = pd.DataFrame(i1)\n",
    "i1 = i1.rename(columns = {0: 'counts'})\n",
    "code1_list.append(i1.iloc[i1['counts'].values.argmax()])\n",
    "j1 = pd.DataFrame(j1)\n",
    "j1 = j1.rename(columns = {0: 'counts'})\n",
    "code1_list.append(j1.iloc[j1['counts'].values.argmax()])\n",
    "k1 = pd.DataFrame(k1)\n",
    "k1 = k1.rename(columns = {0: 'counts'})\n",
    "code1_list.append(k1.iloc[k1['counts'].values.argmax()])\n",
    "l1 = pd.DataFrame(l1)\n",
    "l1 = l1.rename(columns = {0: 'counts'})\n",
    "code1_list.append(l1.iloc[l1['counts'].values.argmax()])\n",
    "m1 = pd.DataFrame(m1)\n",
    "m1 = m1.rename(columns = {0: 'counts'})\n",
    "code1_list.append(m1.iloc[m1['counts'].values.argmax()])\n",
    "n1 = pd.DataFrame(n1)\n",
    "n1 = n1.rename(columns = {0: 'counts'})\n",
    "#code1_list.append(n1.iloc[n1['counts'].values.argmax()])\n",
    "o1 = pd.DataFrame(o1)\n",
    "o1 = o1.rename(columns = {0: 'counts'})\n",
    "#code1_list.append(o1.iloc[o1['counts'].values.argmax()])\n",
    "p1 = pd.DataFrame(p1)\n",
    "p1 = p1.rename(columns = {0: 'counts'})\n",
    "#code1_list.append(p1.iloc[p1['counts'].values.argmax()])\n",
    "q1 = pd.DataFrame(q1)\n",
    "q1 = q1.rename(columns = {0: 'counts'})\n",
    "code1_list.append(q1.iloc[q1['counts'].values.argmax()])\n",
    "r1 = pd.DataFrame(r1)\n",
    "r1 = r1.rename(columns = {0: 'counts'})\n",
    "code1_list.append(r1.iloc[r1['counts'].values.argmax()])\n",
    "s1 = pd.DataFrame(s1)\n",
    "s1 = s1.rename(columns = {0: 'counts'})\n",
    "code1_list.append(s1.iloc[s1['counts'].values.argmax()])\n",
    "t1 = pd.DataFrame(t1)\n",
    "t1 = t1.rename(columns = {0: 'counts'})\n",
    "code1_list.append(t1.iloc[t1['counts'].values.argmax()])\n",
    "u1 = pd.DataFrame(u1)\n",
    "u1 = u1.rename(columns = {0: 'counts'})\n",
    "#code1_list.append(u1.iloc[u1['counts'].values.argmax()])\n",
    "v1 = pd.DataFrame(v1)\n",
    "v1 = v1.rename(columns = {0: 'counts'})\n",
    "#code1_list.append(v1.iloc[v1['counts'].values.argmax()])\n",
    "w1 = pd.DataFrame(w1)\n",
    "w1 = w1.rename(columns = {0: 'counts'})\n",
    "#code1_list.append(w1.iloc[w1['counts'].values.argmax()])\n",
    "x1 = pd.DataFrame(x1)\n",
    "x1 = x1.rename(columns = {0: 'counts'})\n",
    "#code1_list.append(x1.iloc[x1['counts'].values.argmax()])\n",
    "y1 = pd.DataFrame(y1)\n",
    "y1 = y1.rename(columns = {0: 'counts'})\n",
    "#code1_list.append(y1.iloc[y1['counts'].values.argmax()])\n",
    "z1 = pd.DataFrame(z1)\n",
    "z1 = z1.rename(columns = {0: 'counts'})\n",
    "code1_list.append(z1.iloc[z1['counts'].values.argmax()])\n",
    "code1_list"
   ]
  },
  {
   "cell_type": "code",
   "execution_count": 94,
   "metadata": {
    "collapsed": false
   },
   "outputs": [
    {
     "name": "stderr",
     "output_type": "stream",
     "text": [
      "C:\\ProgramData\\Anaconda3\\lib\\site-packages\\ipykernel\\__main__.py:2: SettingWithCopyWarning: \n",
      "A value is trying to be set on a copy of a slice from a DataFrame.\n",
      "Try using .loc[row_indexer,col_indexer] = value instead\n",
      "\n",
      "See the caveats in the documentation: http://pandas.pydata.org/pandas-docs/stable/indexing.html#indexing-view-versus-copy\n",
      "  from ipykernel import kernelapp as app\n",
      "C:\\ProgramData\\Anaconda3\\lib\\site-packages\\ipykernel\\__main__.py:6: SettingWithCopyWarning: \n",
      "A value is trying to be set on a copy of a slice from a DataFrame.\n",
      "Try using .loc[row_indexer,col_indexer] = value instead\n",
      "\n",
      "See the caveats in the documentation: http://pandas.pydata.org/pandas-docs/stable/indexing.html#indexing-view-versus-copy\n",
      "C:\\ProgramData\\Anaconda3\\lib\\site-packages\\ipykernel\\__main__.py:10: SettingWithCopyWarning: \n",
      "A value is trying to be set on a copy of a slice from a DataFrame.\n",
      "Try using .loc[row_indexer,col_indexer] = value instead\n",
      "\n",
      "See the caveats in the documentation: http://pandas.pydata.org/pandas-docs/stable/indexing.html#indexing-view-versus-copy\n",
      "C:\\ProgramData\\Anaconda3\\lib\\site-packages\\matplotlib\\pyplot.py:524: RuntimeWarning: More than 20 figures have been opened. Figures created through the pyplot interface (`matplotlib.pyplot.figure`) are retained until explicitly closed and may consume too much memory. (To control this warning, see the rcParam `figure.max_open_warning`).\n",
      "  max_open_warning, RuntimeWarning)\n"
     ]
    }
   ],
   "source": [
    "code1_st_graph1 = ms_2010_2015_code1_th[ms_2010_2015_code1_th['main_sick'].str.match('J209')]\n",
    "code1_st_graph1['main_sick'] = code1_st_graph1['main_sick'].map({'J209': 'Acute bronchitis, unspecified'})\n",
    "code1_st_graph1 = pd.value_counts(code1_st_graph1['main_sick'].values, sort = False)\n",
    "code1_st_graph1 = pd.DataFrame(code1_st_graph1)\n",
    "code1_st_graph2 = ms_2010_2015_code1_th[ms_2010_2015_code1_th['main_sick'].str.match('H660')]\n",
    "code1_st_graph2['main_sick'] = code1_st_graph2['main_sick'].map({'H660': 'Acute suppurative otitis media'})\n",
    "code1_st_graph2 = pd.value_counts(code1_st_graph2['main_sick'].values, sort = False)\n",
    "code1_st_graph2 = pd.DataFrame(code1_st_graph2)\n",
    "code1_st_graph3 = ms_2010_2015_code1_th[ms_2010_2015_code1_th['main_sick'].str.match('L040')]\n",
    "code1_st_graph3['main_sick'] = code1_st_graph3['main_sick'].map({'L040': 'Acute lymphadenitis of face, head and neck'})\n",
    "code1_st_graph3 = pd.value_counts(code1_st_graph3['main_sick'].values, sort = False)\n",
    "code1_st_graph3 = pd.DataFrame(code1_st_graph3)\n",
    "c1_st_123 = pd.concat([code1_st_graph1, code1_st_graph2, code1_st_graph3]).reset_index()\n",
    "c1_st_123 = c1_st_123.rename(columns = {'index' : 'main_sick', 0: 'Total_patients'})\n",
    "color = ['limegreen', 'palegreen', 'honeydew']\n",
    "c1_st_123.plot(kind = 'pie', y = 'Total_patients', autopct = '%1.1f%%', startangle = 180, labels = c1_st_123['main_sick'], legend = True, title = 'November', colors = color, figsize = (15, 10))\n",
    "plt.axis('equal')\n",
    "plt.tight_layout()\n",
    "savefig('이비인후과 11월 main_sick pie chart.png', dpi = 1000)"
   ]
  },
  {
   "cell_type": "markdown",
   "metadata": {},
   "source": [
    "## Counting Patient with treat_kind 14 (Month Criteria)"
   ]
  },
  {
   "cell_type": "code",
   "execution_count": 95,
   "metadata": {
    "collapsed": false,
    "scrolled": false
   },
   "outputs": [
    {
     "name": "stderr",
     "output_type": "stream",
     "text": [
      "C:\\ProgramData\\Anaconda3\\lib\\site-packages\\ipykernel\\__main__.py:2: SettingWithCopyWarning: \n",
      "A value is trying to be set on a copy of a slice from a DataFrame.\n",
      "Try using .loc[row_indexer,col_indexer] = value instead\n",
      "\n",
      "See the caveats in the documentation: http://pandas.pydata.org/pandas-docs/stable/indexing.html#indexing-view-versus-copy\n",
      "  from ipykernel import kernelapp as app\n",
      "C:\\ProgramData\\Anaconda3\\lib\\site-packages\\matplotlib\\pyplot.py:524: RuntimeWarning: More than 20 figures have been opened. Figures created through the pyplot interface (`matplotlib.pyplot.figure`) are retained until explicitly closed and may consume too much memory. (To control this warning, see the rcParam `figure.max_open_warning`).\n",
      "  max_open_warning, RuntimeWarning)\n"
     ]
    },
    {
     "data": {
      "text/html": [
       "<div>\n",
       "<table border=\"1\" class=\"dataframe\">\n",
       "  <thead>\n",
       "    <tr style=\"text-align: right;\">\n",
       "      <th></th>\n",
       "      <th>Month</th>\n",
       "      <th>Total_patients</th>\n",
       "    </tr>\n",
       "  </thead>\n",
       "  <tbody>\n",
       "    <tr>\n",
       "      <th>0</th>\n",
       "      <td>1</td>\n",
       "      <td>166297</td>\n",
       "    </tr>\n",
       "    <tr>\n",
       "      <th>1</th>\n",
       "      <td>2</td>\n",
       "      <td>148583</td>\n",
       "    </tr>\n",
       "    <tr>\n",
       "      <th>2</th>\n",
       "      <td>3</td>\n",
       "      <td>170100</td>\n",
       "    </tr>\n",
       "    <tr>\n",
       "      <th>3</th>\n",
       "      <td>4</td>\n",
       "      <td>176023</td>\n",
       "    </tr>\n",
       "    <tr>\n",
       "      <th>4</th>\n",
       "      <td>5</td>\n",
       "      <td>177333</td>\n",
       "    </tr>\n",
       "    <tr>\n",
       "      <th>5</th>\n",
       "      <td>6</td>\n",
       "      <td>157508</td>\n",
       "    </tr>\n",
       "    <tr>\n",
       "      <th>6</th>\n",
       "      <td>7</td>\n",
       "      <td>175058</td>\n",
       "    </tr>\n",
       "    <tr>\n",
       "      <th>7</th>\n",
       "      <td>8</td>\n",
       "      <td>179992</td>\n",
       "    </tr>\n",
       "    <tr>\n",
       "      <th>8</th>\n",
       "      <td>9</td>\n",
       "      <td>164270</td>\n",
       "    </tr>\n",
       "    <tr>\n",
       "      <th>9</th>\n",
       "      <td>10</td>\n",
       "      <td>161834</td>\n",
       "    </tr>\n",
       "    <tr>\n",
       "      <th>10</th>\n",
       "      <td>11</td>\n",
       "      <td>148068</td>\n",
       "    </tr>\n",
       "    <tr>\n",
       "      <th>11</th>\n",
       "      <td>12</td>\n",
       "      <td>163679</td>\n",
       "    </tr>\n",
       "  </tbody>\n",
       "</table>\n",
       "</div>"
      ],
      "text/plain": [
       "    Month  Total_patients\n",
       "0       1          166297\n",
       "1       2          148583\n",
       "2       3          170100\n",
       "3       4          176023\n",
       "4       5          177333\n",
       "5       6          157508\n",
       "6       7          175058\n",
       "7       8          179992\n",
       "8       9          164270\n",
       "9      10          161834\n",
       "10     11          148068\n",
       "11     12          163679"
      ]
     },
     "execution_count": 95,
     "metadata": {},
     "output_type": "execute_result"
    }
   ],
   "source": [
    "tk_2010_2015 = JR_2010_2015[['rec_date', 'treat_kind']]\n",
    "tk_2010_2015['rec_date'] = pd.to_datetime(tk_2010_2015['rec_date'], format = '%Y%m%d', errors = 'coerce')\n",
    "tk_2010_2015_code1 = tk_2010_2015[tk_2010_2015['treat_kind'] == 12]\n",
    "tk_2010_2015_code1_ct = tk_2010_2015_code1['rec_date'].groupby(tk_2010_2015_code1.rec_date.dt.month).agg('count')\n",
    "tk_2010_2015_code1_ct = pd.DataFrame(tk_2010_2015_code1_ct)\n",
    "plt.figure()\n",
    "tk_2010_2015_code1_ct = tk_2010_2015_code1_ct.rename(columns= {'rec_date': 'Total_patients'})\n",
    "tk_2010_2015_code1_ct = tk_2010_2015_code1_ct.reset_index()\n",
    "tk_2010_2015_code1_ct = tk_2010_2015_code1_ct.rename(columns = {'rec_date': 'Month'})\n",
    "tk_2010_2015_code1_ct"
   ]
  },
  {
   "cell_type": "markdown",
   "metadata": {},
   "source": [
    "## Visualization treat_kind 14 with Month"
   ]
  },
  {
   "cell_type": "code",
   "execution_count": 96,
   "metadata": {
    "collapsed": false,
    "scrolled": false
   },
   "outputs": [
    {
     "name": "stderr",
     "output_type": "stream",
     "text": [
      "C:\\ProgramData\\Anaconda3\\lib\\site-packages\\matplotlib\\pyplot.py:524: RuntimeWarning: More than 20 figures have been opened. Figures created through the pyplot interface (`matplotlib.pyplot.figure`) are retained until explicitly closed and may consume too much memory. (To control this warning, see the rcParam `figure.max_open_warning`).\n",
      "  max_open_warning, RuntimeWarning)\n"
     ]
    }
   ],
   "source": [
    "f, ax = plt.subplots(figsize = (10, 15))\n",
    "\n",
    "# plot the total treat_kind 14\n",
    "sns.barplot(x = 'Month', y = 'Total_patients', data = tk_2010_2015_code1_ct)\n",
    "plt.savefig('안과 월별 이용 인원.png', dpi=1000)"
   ]
  },
  {
   "cell_type": "markdown",
   "metadata": {},
   "source": [
    "## Find max value and making new table (3 large value)"
   ]
  },
  {
   "cell_type": "code",
   "execution_count": 97,
   "metadata": {
    "collapsed": false
   },
   "outputs": [
    {
     "data": {
      "text/html": [
       "<div>\n",
       "<table border=\"1\" class=\"dataframe\">\n",
       "  <thead>\n",
       "    <tr style=\"text-align: right;\">\n",
       "      <th></th>\n",
       "      <th>Month</th>\n",
       "      <th>Total_patients</th>\n",
       "    </tr>\n",
       "  </thead>\n",
       "  <tbody>\n",
       "    <tr>\n",
       "      <th>7</th>\n",
       "      <td>8</td>\n",
       "      <td>179992</td>\n",
       "    </tr>\n",
       "    <tr>\n",
       "      <th>4</th>\n",
       "      <td>5</td>\n",
       "      <td>177333</td>\n",
       "    </tr>\n",
       "    <tr>\n",
       "      <th>3</th>\n",
       "      <td>4</td>\n",
       "      <td>176023</td>\n",
       "    </tr>\n",
       "  </tbody>\n",
       "</table>\n",
       "</div>"
      ],
      "text/plain": [
       "   Month  Total_patients\n",
       "7      8          179992\n",
       "4      5          177333\n",
       "3      4          176023"
      ]
     },
     "execution_count": 97,
     "metadata": {},
     "output_type": "execute_result"
    }
   ],
   "source": [
    "tk_2010_2015_code1_ct = tk_2010_2015_code1_ct.sort_values(by='Total_patients', ascending = False)\n",
    "tk_2010_2015_code1_ct_large = tk_2010_2015_code1_ct.iloc[0:3]\n",
    "tk_2010_2015_code1_ct_large"
   ]
  },
  {
   "cell_type": "code",
   "execution_count": 98,
   "metadata": {
    "collapsed": false
   },
   "outputs": [
    {
     "name": "stderr",
     "output_type": "stream",
     "text": [
      "C:\\ProgramData\\Anaconda3\\lib\\site-packages\\ipykernel\\__main__.py:3: SettingWithCopyWarning: \n",
      "A value is trying to be set on a copy of a slice from a DataFrame\n",
      "\n",
      "See the caveats in the documentation: http://pandas.pydata.org/pandas-docs/stable/indexing.html#indexing-view-versus-copy\n",
      "  app.launch_new_instance()\n"
     ]
    },
    {
     "data": {
      "text/html": [
       "<div>\n",
       "<table border=\"1\" class=\"dataframe\">\n",
       "  <thead>\n",
       "    <tr style=\"text-align: right;\">\n",
       "      <th></th>\n",
       "      <th>Month</th>\n",
       "      <th>Total_patients</th>\n",
       "    </tr>\n",
       "  </thead>\n",
       "  <tbody>\n",
       "    <tr>\n",
       "      <th>0</th>\n",
       "      <td>8</td>\n",
       "      <td>179992</td>\n",
       "    </tr>\n",
       "    <tr>\n",
       "      <th>1</th>\n",
       "      <td>5</td>\n",
       "      <td>177333</td>\n",
       "    </tr>\n",
       "    <tr>\n",
       "      <th>2</th>\n",
       "      <td>4</td>\n",
       "      <td>176023</td>\n",
       "    </tr>\n",
       "    <tr>\n",
       "      <th>3</th>\n",
       "      <td>ect</td>\n",
       "      <td>1455397</td>\n",
       "    </tr>\n",
       "  </tbody>\n",
       "</table>\n",
       "</div>"
      ],
      "text/plain": [
       "  Month  Total_patients\n",
       "0     8          179992\n",
       "1     5          177333\n",
       "2     4          176023\n",
       "3   ect         1455397"
      ]
     },
     "execution_count": 98,
     "metadata": {},
     "output_type": "execute_result"
    }
   ],
   "source": [
    "tk_2010_2015_code1_ct_ect = tk_2010_2015_code1_ct.iloc[3:12]\n",
    "tk_2010_2015_code1_ct_ect = tk_2010_2015_code1_ct_ect['Total_patients'].sum()\n",
    "tk_2010_2015_code1_ct_large.loc[1] = ['ect', tk_2010_2015_code1_ct_ect]\n",
    "tk_2010_2015_code1_ct_graph = tk_2010_2015_code1_ct_large.reset_index().drop('index', axis = 1)\n",
    "tk_2010_2015_code1_ct_graph"
   ]
  },
  {
   "cell_type": "code",
   "execution_count": 99,
   "metadata": {
    "collapsed": false
   },
   "outputs": [
    {
     "name": "stderr",
     "output_type": "stream",
     "text": [
      "C:\\ProgramData\\Anaconda3\\lib\\site-packages\\matplotlib\\pyplot.py:524: RuntimeWarning: More than 20 figures have been opened. Figures created through the pyplot interface (`matplotlib.pyplot.figure`) are retained until explicitly closed and may consume too much memory. (To control this warning, see the rcParam `figure.max_open_warning`).\n",
      "  max_open_warning, RuntimeWarning)\n"
     ]
    }
   ],
   "source": [
    "color = ['forestgreen', 'limegreen', 'palegreen', 'honeydew']\n",
    "tk_2010_2015_code1_ct_graph.plot(kind = 'pie', y = 'Total_patients', autopct = '%1.1f%%', startangle = 90, labels = tk_2010_2015_code1_ct_graph['Month'], legend = True, colors = color)\n",
    "# plt.pie(tk_2010_2015_code1_ct_graph['Total_patients'], shadow = True, startangle = 0, autopct='%1.1f%%')\n",
    "plt.axis('equal')\n",
    "plt.tight_layout()\n",
    "savefig('안과 월별 이용 인원 pie chart.png', dpi = 1000)"
   ]
  },
  {
   "cell_type": "markdown",
   "metadata": {},
   "source": [
    "## Find 3 large main_sick with Month"
   ]
  },
  {
   "cell_type": "code",
   "execution_count": 100,
   "metadata": {
    "collapsed": false
   },
   "outputs": [
    {
     "data": {
      "text/html": [
       "<div>\n",
       "<table border=\"1\" class=\"dataframe\">\n",
       "  <thead>\n",
       "    <tr style=\"text-align: right;\">\n",
       "      <th></th>\n",
       "      <th>rec_date</th>\n",
       "      <th>treat_kind</th>\n",
       "      <th>main_sick</th>\n",
       "    </tr>\n",
       "  </thead>\n",
       "  <tbody>\n",
       "    <tr>\n",
       "      <th>90711</th>\n",
       "      <td>2013-08-01</td>\n",
       "      <td>12</td>\n",
       "      <td>H258</td>\n",
       "    </tr>\n",
       "    <tr>\n",
       "      <th>93811</th>\n",
       "      <td>2013-08-07</td>\n",
       "      <td>12</td>\n",
       "      <td>H251</td>\n",
       "    </tr>\n",
       "    <tr>\n",
       "      <th>93812</th>\n",
       "      <td>2013-08-08</td>\n",
       "      <td>12</td>\n",
       "      <td>H259</td>\n",
       "    </tr>\n",
       "    <tr>\n",
       "      <th>93846</th>\n",
       "      <td>2013-08-02</td>\n",
       "      <td>12</td>\n",
       "      <td>H260</td>\n",
       "    </tr>\n",
       "    <tr>\n",
       "      <th>93847</th>\n",
       "      <td>2013-08-09</td>\n",
       "      <td>12</td>\n",
       "      <td>H250</td>\n",
       "    </tr>\n",
       "  </tbody>\n",
       "</table>\n",
       "</div>"
      ],
      "text/plain": [
       "        rec_date  treat_kind main_sick\n",
       "90711 2013-08-01          12      H258\n",
       "93811 2013-08-07          12      H251\n",
       "93812 2013-08-08          12      H259\n",
       "93846 2013-08-02          12      H260\n",
       "93847 2013-08-09          12      H250"
      ]
     },
     "execution_count": 100,
     "metadata": {},
     "output_type": "execute_result"
    }
   ],
   "source": [
    "ms_2010_2015 = JR_2010_2015[['rec_date', 'treat_kind', 'main_sick']]\n",
    "ms_2010_2015['rec_date'] = pd.to_datetime(ms_2010_2015['rec_date'], format = '%Y%m%d', errors = 'coerce')\n",
    "ms_2010_2015_code1 = ms_2010_2015[ms_2010_2015['treat_kind'] == 12]\n",
    "ms_2010_2015_code1_st = ms_2010_2015_code1.rec_date.dt.month == tk_2010_2015_code1_ct_graph.ix[0, 'Month']\n",
    "ms_2010_2015_code1_st = ms_2010_2015_code1[ms_2010_2015_code1_st]\n",
    "ms_2010_2015_code1_st.head()"
   ]
  },
  {
   "cell_type": "code",
   "execution_count": 101,
   "metadata": {
    "collapsed": false
   },
   "outputs": [
    {
     "data": {
      "text/html": [
       "<div>\n",
       "<table border=\"1\" class=\"dataframe\">\n",
       "  <thead>\n",
       "    <tr style=\"text-align: right;\">\n",
       "      <th></th>\n",
       "      <th>rec_date</th>\n",
       "      <th>treat_kind</th>\n",
       "      <th>main_sick</th>\n",
       "    </tr>\n",
       "  </thead>\n",
       "  <tbody>\n",
       "    <tr>\n",
       "      <th>1240</th>\n",
       "      <td>2013-05-13</td>\n",
       "      <td>12</td>\n",
       "      <td>H258</td>\n",
       "    </tr>\n",
       "    <tr>\n",
       "      <th>7894</th>\n",
       "      <td>2013-05-14</td>\n",
       "      <td>12</td>\n",
       "      <td>H258</td>\n",
       "    </tr>\n",
       "    <tr>\n",
       "      <th>55793</th>\n",
       "      <td>2013-05-03</td>\n",
       "      <td>12</td>\n",
       "      <td>H251</td>\n",
       "    </tr>\n",
       "    <tr>\n",
       "      <th>55799</th>\n",
       "      <td>2013-05-03</td>\n",
       "      <td>12</td>\n",
       "      <td>H259</td>\n",
       "    </tr>\n",
       "    <tr>\n",
       "      <th>57068</th>\n",
       "      <td>2013-05-03</td>\n",
       "      <td>12</td>\n",
       "      <td>H251</td>\n",
       "    </tr>\n",
       "  </tbody>\n",
       "</table>\n",
       "</div>"
      ],
      "text/plain": [
       "        rec_date  treat_kind main_sick\n",
       "1240  2013-05-13          12      H258\n",
       "7894  2013-05-14          12      H258\n",
       "55793 2013-05-03          12      H251\n",
       "55799 2013-05-03          12      H259\n",
       "57068 2013-05-03          12      H251"
      ]
     },
     "execution_count": 101,
     "metadata": {},
     "output_type": "execute_result"
    }
   ],
   "source": [
    "ms_2010_2015_code1_nd = ms_2010_2015_code1.rec_date.dt.month == tk_2010_2015_code1_ct_graph.ix[1, 'Month']\n",
    "ms_2010_2015_code1_nd = ms_2010_2015_code1[ms_2010_2015_code1_nd]\n",
    "ms_2010_2015_code1_nd.head()"
   ]
  },
  {
   "cell_type": "code",
   "execution_count": 102,
   "metadata": {
    "collapsed": false
   },
   "outputs": [
    {
     "data": {
      "text/html": [
       "<div>\n",
       "<table border=\"1\" class=\"dataframe\">\n",
       "  <thead>\n",
       "    <tr style=\"text-align: right;\">\n",
       "      <th></th>\n",
       "      <th>rec_date</th>\n",
       "      <th>treat_kind</th>\n",
       "      <th>main_sick</th>\n",
       "    </tr>\n",
       "  </thead>\n",
       "  <tbody>\n",
       "    <tr>\n",
       "      <th>22365</th>\n",
       "      <td>2013-04-25</td>\n",
       "      <td>12</td>\n",
       "      <td>H258</td>\n",
       "    </tr>\n",
       "    <tr>\n",
       "      <th>30375</th>\n",
       "      <td>2013-04-05</td>\n",
       "      <td>12</td>\n",
       "      <td>H251</td>\n",
       "    </tr>\n",
       "    <tr>\n",
       "      <th>45631</th>\n",
       "      <td>2013-04-01</td>\n",
       "      <td>12</td>\n",
       "      <td>H258</td>\n",
       "    </tr>\n",
       "    <tr>\n",
       "      <th>45632</th>\n",
       "      <td>2013-04-01</td>\n",
       "      <td>12</td>\n",
       "      <td>H258</td>\n",
       "    </tr>\n",
       "    <tr>\n",
       "      <th>45650</th>\n",
       "      <td>2013-04-01</td>\n",
       "      <td>12</td>\n",
       "      <td>H258</td>\n",
       "    </tr>\n",
       "  </tbody>\n",
       "</table>\n",
       "</div>"
      ],
      "text/plain": [
       "        rec_date  treat_kind main_sick\n",
       "22365 2013-04-25          12      H258\n",
       "30375 2013-04-05          12      H251\n",
       "45631 2013-04-01          12      H258\n",
       "45632 2013-04-01          12      H258\n",
       "45650 2013-04-01          12      H258"
      ]
     },
     "execution_count": 102,
     "metadata": {},
     "output_type": "execute_result"
    }
   ],
   "source": [
    "ms_2010_2015_code1_th = ms_2010_2015_code1.rec_date.dt.month == tk_2010_2015_code1_ct_graph.ix[2, 'Month']\n",
    "ms_2010_2015_code1_th = ms_2010_2015_code1[ms_2010_2015_code1_th]\n",
    "ms_2010_2015_code1_th.head()"
   ]
  },
  {
   "cell_type": "markdown",
   "metadata": {},
   "source": [
    "## First Month Find 3 Large main_sick"
   ]
  },
  {
   "cell_type": "code",
   "execution_count": 103,
   "metadata": {
    "collapsed": true
   },
   "outputs": [],
   "source": [
    "a1 = pd.value_counts(ms_2010_2015_code1_st[ms_2010_2015_code1_st['main_sick'].str.match('A')]['main_sick'].values, sort = True)\n",
    "b1 = pd.value_counts(ms_2010_2015_code1_st[ms_2010_2015_code1_st['main_sick'].str.match('B')]['main_sick'].values, sort = True)\n",
    "c1 = pd.value_counts(ms_2010_2015_code1_st[ms_2010_2015_code1_st['main_sick'].str.match('C')]['main_sick'].values, sort = True)\n",
    "d1 = pd.value_counts(ms_2010_2015_code1_st[ms_2010_2015_code1_st['main_sick'].str.match('D')]['main_sick'].values, sort = True)\n",
    "e1 = pd.value_counts(ms_2010_2015_code1_st[ms_2010_2015_code1_st['main_sick'].str.match('E')]['main_sick'].values, sort = True)\n",
    "f1 = pd.value_counts(ms_2010_2015_code1_st[ms_2010_2015_code1_st['main_sick'].str.match('F')]['main_sick'].values, sort = True)\n",
    "g1 = pd.value_counts(ms_2010_2015_code1_st[ms_2010_2015_code1_st['main_sick'].str.match('G')]['main_sick'].values, sort = True)\n",
    "h1 = pd.value_counts(ms_2010_2015_code1_st[ms_2010_2015_code1_st['main_sick'].str.match('H')]['main_sick'].values, sort = True)\n",
    "i1 = pd.value_counts(ms_2010_2015_code1_st[ms_2010_2015_code1_st['main_sick'].str.match('I')]['main_sick'].values, sort = True)\n",
    "j1 = pd.value_counts(ms_2010_2015_code1_st[ms_2010_2015_code1_st['main_sick'].str.match('J')]['main_sick'].values, sort = True)\n",
    "k1 = pd.value_counts(ms_2010_2015_code1_st[ms_2010_2015_code1_st['main_sick'].str.match('K')]['main_sick'].values, sort = True)\n",
    "l1 = pd.value_counts(ms_2010_2015_code1_st[ms_2010_2015_code1_st['main_sick'].str.match('L')]['main_sick'].values, sort = True)\n",
    "m1 = pd.value_counts(ms_2010_2015_code1_st[ms_2010_2015_code1_st['main_sick'].str.match('M')]['main_sick'].values, sort = True)\n",
    "n1 = pd.value_counts(ms_2010_2015_code1_st[ms_2010_2015_code1_st['main_sick'].str.match('N')]['main_sick'].values, sort = True)\n",
    "o1 = pd.value_counts(ms_2010_2015_code1_st[ms_2010_2015_code1_st['main_sick'].str.match('O')]['main_sick'].values, sort = True)\n",
    "p1 = pd.value_counts(ms_2010_2015_code1_st[ms_2010_2015_code1_st['main_sick'].str.match('P')]['main_sick'].values, sort = True)\n",
    "q1 = pd.value_counts(ms_2010_2015_code1_st[ms_2010_2015_code1_st['main_sick'].str.match('Q')]['main_sick'].values, sort = True)\n",
    "r1 = pd.value_counts(ms_2010_2015_code1_st[ms_2010_2015_code1_st['main_sick'].str.match('R')]['main_sick'].values, sort = True)\n",
    "s1 = pd.value_counts(ms_2010_2015_code1_st[ms_2010_2015_code1_st['main_sick'].str.match('S')]['main_sick'].values, sort = True)\n",
    "t1 = pd.value_counts(ms_2010_2015_code1_st[ms_2010_2015_code1_st['main_sick'].str.match('T')]['main_sick'].values, sort = True)\n",
    "u1 = pd.value_counts(ms_2010_2015_code1_st[ms_2010_2015_code1_st['main_sick'].str.match('U')]['main_sick'].values, sort = True)\n",
    "v1 = pd.value_counts(ms_2010_2015_code1_st[ms_2010_2015_code1_st['main_sick'].str.match('V')]['main_sick'].values, sort = True)\n",
    "w1 = pd.value_counts(ms_2010_2015_code1_st[ms_2010_2015_code1_st['main_sick'].str.match('W')]['main_sick'].values, sort = True)\n",
    "x1 = pd.value_counts(ms_2010_2015_code1_st[ms_2010_2015_code1_st['main_sick'].str.match('X')]['main_sick'].values, sort = True)\n",
    "y1 = pd.value_counts(ms_2010_2015_code1_st[ms_2010_2015_code1_st['main_sick'].str.match('Y')]['main_sick'].values, sort = True)\n",
    "z1 = pd.value_counts(ms_2010_2015_code1_st[ms_2010_2015_code1_st['main_sick'].str.match('Z')]['main_sick'].values, sort = True)"
   ]
  },
  {
   "cell_type": "code",
   "execution_count": 104,
   "metadata": {
    "collapsed": false,
    "scrolled": false
   },
   "outputs": [
    {
     "data": {
      "text/plain": [
       "[counts    1\n",
       " Name: A154, dtype: int64, counts    2093\n",
       " Name: B300, dtype: int64, counts    5\n",
       " Name: C696, dtype: int64, counts    46\n",
       " Name: D310, dtype: int64, counts    131\n",
       " Name: E143, dtype: int64, counts    1\n",
       " Name: F03, dtype: int64, counts    20\n",
       " Name: G245, dtype: int64, counts    15553\n",
       " Name: H101, dtype: int64, counts    23\n",
       " Name: I109, dtype: int64, counts    45\n",
       " Name: J303, dtype: int64, counts    66\n",
       " Name: K30, dtype: int64, counts    33\n",
       " Name: L039, dtype: int64, counts    56\n",
       " Name: M350, dtype: int64, counts    6\n",
       " Name: N185, dtype: int64, counts    1\n",
       " Name: O141, dtype: int64, counts    66\n",
       " Name: Q103, dtype: int64, counts    4\n",
       " Name: R42, dtype: int64, counts    467\n",
       " Name: S050, dtype: int64, counts    1167\n",
       " Name: T151, dtype: int64, counts    1868\n",
       " Name: Z961, dtype: int64]"
      ]
     },
     "execution_count": 104,
     "metadata": {},
     "output_type": "execute_result"
    }
   ],
   "source": [
    "code1_list = []\n",
    "a1 = pd.DataFrame(a1)\n",
    "a1 = a1.rename(columns = {0: 'counts'})\n",
    "a1_max = a1.iloc[a1['counts'].values.argmax()]\n",
    "code1_list.append(a1_max)\n",
    "b1 = pd.DataFrame(b1)\n",
    "b1 = b1.rename(columns = {0: 'counts'})\n",
    "code1_list.append(b1.iloc[b1['counts'].values.argmax()])\n",
    "c1 = pd.DataFrame(c1)\n",
    "c1 = c1.rename(columns = {0: 'counts'})\n",
    "code1_list.append(c1.iloc[c1['counts'].values.argmax()])\n",
    "d1 = pd.DataFrame(d1)\n",
    "d1 = d1.rename(columns = {0: 'counts'})\n",
    "code1_list.append(d1.iloc[d1['counts'].values.argmax()])\n",
    "e1 = pd.DataFrame(e1)\n",
    "e1 = e1.rename(columns = {0: 'counts'})\n",
    "code1_list.append(e1.iloc[e1['counts'].values.argmax()])\n",
    "f1 = pd.DataFrame(f1)\n",
    "f1 = f1.rename(columns = {0: 'counts'})\n",
    "code1_list.append(f1.iloc[f1['counts'].values.argmax()])\n",
    "g1 = pd.DataFrame(g1)\n",
    "g1 = g1.rename(columns = {0: 'counts'})\n",
    "code1_list.append(g1.iloc[g1['counts'].values.argmax()])\n",
    "h1 = pd.DataFrame(h1)\n",
    "h1 = h1.rename(columns = {0: 'counts'})\n",
    "code1_list.append(h1.iloc[h1['counts'].values.argmax()])\n",
    "i1 = pd.DataFrame(i1)\n",
    "i1 = i1.rename(columns = {0: 'counts'})\n",
    "code1_list.append(i1.iloc[i1['counts'].values.argmax()])\n",
    "j1 = pd.DataFrame(j1)\n",
    "j1 = j1.rename(columns = {0: 'counts'})\n",
    "code1_list.append(j1.iloc[j1['counts'].values.argmax()])\n",
    "k1 = pd.DataFrame(k1)\n",
    "k1 = k1.rename(columns = {0: 'counts'})\n",
    "code1_list.append(k1.iloc[k1['counts'].values.argmax()])\n",
    "l1 = pd.DataFrame(l1)\n",
    "l1 = l1.rename(columns = {0: 'counts'})\n",
    "code1_list.append(l1.iloc[l1['counts'].values.argmax()])\n",
    "m1 = pd.DataFrame(m1)\n",
    "m1 = m1.rename(columns = {0: 'counts'})\n",
    "code1_list.append(m1.iloc[m1['counts'].values.argmax()])\n",
    "n1 = pd.DataFrame(n1)\n",
    "n1 = n1.rename(columns = {0: 'counts'})\n",
    "code1_list.append(n1.iloc[n1['counts'].values.argmax()])\n",
    "o1 = pd.DataFrame(o1)\n",
    "o1 = o1.rename(columns = {0: 'counts'})\n",
    "code1_list.append(o1.iloc[o1['counts'].values.argmax()])\n",
    "p1 = pd.DataFrame(p1)\n",
    "p1 = p1.rename(columns = {0: 'counts'})\n",
    "#code1_list.append(p1.iloc[p1['counts'].values.argmax()])\n",
    "q1 = pd.DataFrame(q1)\n",
    "q1 = q1.rename(columns = {0: 'counts'})\n",
    "code1_list.append(q1.iloc[q1['counts'].values.argmax()])\n",
    "r1 = pd.DataFrame(r1)\n",
    "r1 = r1.rename(columns = {0: 'counts'})\n",
    "code1_list.append(r1.iloc[r1['counts'].values.argmax()])\n",
    "s1 = pd.DataFrame(s1)\n",
    "s1 = s1.rename(columns = {0: 'counts'})\n",
    "code1_list.append(s1.iloc[s1['counts'].values.argmax()])\n",
    "t1 = pd.DataFrame(t1)\n",
    "t1 = t1.rename(columns = {0: 'counts'})\n",
    "code1_list.append(t1.iloc[t1['counts'].values.argmax()])\n",
    "u1 = pd.DataFrame(u1)\n",
    "u1 = u1.rename(columns = {0: 'counts'})\n",
    "#code1_list.append(u1.iloc[u1['counts'].values.argmax()])\n",
    "v1 = pd.DataFrame(v1)\n",
    "v1 = v1.rename(columns = {0: 'counts'})\n",
    "#code1_list.append(v1.iloc[v1['counts'].values.argmax()])\n",
    "w1 = pd.DataFrame(w1)\n",
    "w1 = w1.rename(columns = {0: 'counts'})\n",
    "#code1_list.append(w1.iloc[w1['counts'].values.argmax()])\n",
    "x1 = pd.DataFrame(x1)\n",
    "x1 = x1.rename(columns = {0: 'counts'})\n",
    "#code1_list.append(x1.iloc[x1['counts'].values.argmax()])\n",
    "y1 = pd.DataFrame(y1)\n",
    "y1 = y1.rename(columns = {0: 'counts'})\n",
    "#code1_list.append(y1.iloc[y1['counts'].values.argmax()])\n",
    "z1 = pd.DataFrame(z1)\n",
    "z1 = z1.rename(columns = {0: 'counts'})\n",
    "code1_list.append(z1.iloc[z1['counts'].values.argmax()])\n",
    "code1_list"
   ]
  },
  {
   "cell_type": "code",
   "execution_count": 105,
   "metadata": {
    "collapsed": false
   },
   "outputs": [
    {
     "name": "stderr",
     "output_type": "stream",
     "text": [
      "C:\\ProgramData\\Anaconda3\\lib\\site-packages\\ipykernel\\__main__.py:2: SettingWithCopyWarning: \n",
      "A value is trying to be set on a copy of a slice from a DataFrame.\n",
      "Try using .loc[row_indexer,col_indexer] = value instead\n",
      "\n",
      "See the caveats in the documentation: http://pandas.pydata.org/pandas-docs/stable/indexing.html#indexing-view-versus-copy\n",
      "  from ipykernel import kernelapp as app\n",
      "C:\\ProgramData\\Anaconda3\\lib\\site-packages\\ipykernel\\__main__.py:6: SettingWithCopyWarning: \n",
      "A value is trying to be set on a copy of a slice from a DataFrame.\n",
      "Try using .loc[row_indexer,col_indexer] = value instead\n",
      "\n",
      "See the caveats in the documentation: http://pandas.pydata.org/pandas-docs/stable/indexing.html#indexing-view-versus-copy\n",
      "C:\\ProgramData\\Anaconda3\\lib\\site-packages\\ipykernel\\__main__.py:10: SettingWithCopyWarning: \n",
      "A value is trying to be set on a copy of a slice from a DataFrame.\n",
      "Try using .loc[row_indexer,col_indexer] = value instead\n",
      "\n",
      "See the caveats in the documentation: http://pandas.pydata.org/pandas-docs/stable/indexing.html#indexing-view-versus-copy\n",
      "C:\\ProgramData\\Anaconda3\\lib\\site-packages\\matplotlib\\pyplot.py:524: RuntimeWarning: More than 20 figures have been opened. Figures created through the pyplot interface (`matplotlib.pyplot.figure`) are retained until explicitly closed and may consume too much memory. (To control this warning, see the rcParam `figure.max_open_warning`).\n",
      "  max_open_warning, RuntimeWarning)\n"
     ]
    }
   ],
   "source": [
    "code1_st_graph1 = ms_2010_2015_code1_st[ms_2010_2015_code1_st['main_sick'].str.match('H101')]\n",
    "code1_st_graph1['main_sick'] = code1_st_graph1['main_sick'].map({'H101': 'Acute atopic conjunctivitis'})\n",
    "code1_st_graph1 = pd.value_counts(code1_st_graph1['main_sick'].values, sort = False)\n",
    "code1_st_graph1 = pd.DataFrame(code1_st_graph1)\n",
    "code1_st_graph2 = ms_2010_2015_code1_st[ms_2010_2015_code1_st['main_sick'].str.match('B300')]\n",
    "code1_st_graph2['main_sick'] = code1_st_graph2['main_sick'].map({'B300': 'Keratoconjunctivitis due to adenovirus'})\n",
    "code1_st_graph2 = pd.value_counts(code1_st_graph2['main_sick'].values, sort = False)\n",
    "code1_st_graph2 = pd.DataFrame(code1_st_graph2)\n",
    "code1_st_graph3 = ms_2010_2015_code1_st[ms_2010_2015_code1_st['main_sick'].str.match('Z961')]\n",
    "code1_st_graph3['main_sick'] = code1_st_graph3['main_sick'].map({'Z961': 'Presence of intraocular lens'})\n",
    "code1_st_graph3 = pd.value_counts(code1_st_graph3['main_sick'].values, sort = False)\n",
    "code1_st_graph3 = pd.DataFrame(code1_st_graph3)\n",
    "c1_st_123 = pd.concat([code1_st_graph1, code1_st_graph2, code1_st_graph3]).reset_index()\n",
    "c1_st_123 = c1_st_123.rename(columns = {'index' : 'main_sick', 0: 'Total_patients'})\n",
    "color = ['limegreen', 'palegreen', 'honeydew']\n",
    "c1_st_123.plot(kind = 'pie', y = 'Total_patients', autopct = '%1.1f%%', startangle = 180, labels = c1_st_123['main_sick'], legend = True, title = 'August', colors = color, figsize = (15, 10))\n",
    "plt.axis('equal')\n",
    "plt.tight_layout()\n",
    "savefig('안과 8월 main_sick pie chart.png', dpi = 1000)"
   ]
  },
  {
   "cell_type": "markdown",
   "metadata": {},
   "source": [
    "## Second Month Find 3 Large main_sick"
   ]
  },
  {
   "cell_type": "code",
   "execution_count": 106,
   "metadata": {
    "collapsed": true
   },
   "outputs": [],
   "source": [
    "a1 = pd.value_counts(ms_2010_2015_code1_nd[ms_2010_2015_code1_nd['main_sick'].str.match('A')]['main_sick'].values, sort = True)\n",
    "b1 = pd.value_counts(ms_2010_2015_code1_nd[ms_2010_2015_code1_nd['main_sick'].str.match('B')]['main_sick'].values, sort = True)\n",
    "c1 = pd.value_counts(ms_2010_2015_code1_nd[ms_2010_2015_code1_nd['main_sick'].str.match('C')]['main_sick'].values, sort = True)\n",
    "d1 = pd.value_counts(ms_2010_2015_code1_nd[ms_2010_2015_code1_nd['main_sick'].str.match('D')]['main_sick'].values, sort = True)\n",
    "e1 = pd.value_counts(ms_2010_2015_code1_nd[ms_2010_2015_code1_nd['main_sick'].str.match('E')]['main_sick'].values, sort = True)\n",
    "f1 = pd.value_counts(ms_2010_2015_code1_nd[ms_2010_2015_code1_nd['main_sick'].str.match('F')]['main_sick'].values, sort = True)\n",
    "g1 = pd.value_counts(ms_2010_2015_code1_nd[ms_2010_2015_code1_nd['main_sick'].str.match('G')]['main_sick'].values, sort = True)\n",
    "h1 = pd.value_counts(ms_2010_2015_code1_nd[ms_2010_2015_code1_nd['main_sick'].str.match('H')]['main_sick'].values, sort = True)\n",
    "i1 = pd.value_counts(ms_2010_2015_code1_nd[ms_2010_2015_code1_nd['main_sick'].str.match('I')]['main_sick'].values, sort = True)\n",
    "j1 = pd.value_counts(ms_2010_2015_code1_nd[ms_2010_2015_code1_nd['main_sick'].str.match('J')]['main_sick'].values, sort = True)\n",
    "k1 = pd.value_counts(ms_2010_2015_code1_nd[ms_2010_2015_code1_nd['main_sick'].str.match('K')]['main_sick'].values, sort = True)\n",
    "l1 = pd.value_counts(ms_2010_2015_code1_nd[ms_2010_2015_code1_nd['main_sick'].str.match('L')]['main_sick'].values, sort = True)\n",
    "m1 = pd.value_counts(ms_2010_2015_code1_nd[ms_2010_2015_code1_nd['main_sick'].str.match('M')]['main_sick'].values, sort = True)\n",
    "n1 = pd.value_counts(ms_2010_2015_code1_nd[ms_2010_2015_code1_nd['main_sick'].str.match('N')]['main_sick'].values, sort = True)\n",
    "o1 = pd.value_counts(ms_2010_2015_code1_nd[ms_2010_2015_code1_nd['main_sick'].str.match('O')]['main_sick'].values, sort = True)\n",
    "p1 = pd.value_counts(ms_2010_2015_code1_nd[ms_2010_2015_code1_nd['main_sick'].str.match('P')]['main_sick'].values, sort = True)\n",
    "q1 = pd.value_counts(ms_2010_2015_code1_nd[ms_2010_2015_code1_nd['main_sick'].str.match('Q')]['main_sick'].values, sort = True)\n",
    "r1 = pd.value_counts(ms_2010_2015_code1_nd[ms_2010_2015_code1_nd['main_sick'].str.match('R')]['main_sick'].values, sort = True)\n",
    "s1 = pd.value_counts(ms_2010_2015_code1_nd[ms_2010_2015_code1_nd['main_sick'].str.match('S')]['main_sick'].values, sort = True)\n",
    "t1 = pd.value_counts(ms_2010_2015_code1_nd[ms_2010_2015_code1_nd['main_sick'].str.match('T')]['main_sick'].values, sort = True)\n",
    "u1 = pd.value_counts(ms_2010_2015_code1_nd[ms_2010_2015_code1_nd['main_sick'].str.match('U')]['main_sick'].values, sort = True)\n",
    "v1 = pd.value_counts(ms_2010_2015_code1_nd[ms_2010_2015_code1_nd['main_sick'].str.match('V')]['main_sick'].values, sort = True)\n",
    "w1 = pd.value_counts(ms_2010_2015_code1_nd[ms_2010_2015_code1_nd['main_sick'].str.match('W')]['main_sick'].values, sort = True)\n",
    "x1 = pd.value_counts(ms_2010_2015_code1_nd[ms_2010_2015_code1_nd['main_sick'].str.match('X')]['main_sick'].values, sort = True)\n",
    "y1 = pd.value_counts(ms_2010_2015_code1_nd[ms_2010_2015_code1_nd['main_sick'].str.match('Y')]['main_sick'].values, sort = True)\n",
    "z1 = pd.value_counts(ms_2010_2015_code1_nd[ms_2010_2015_code1_nd['main_sick'].str.match('Z')]['main_sick'].values, sort = True)"
   ]
  },
  {
   "cell_type": "code",
   "execution_count": 107,
   "metadata": {
    "collapsed": false
   },
   "outputs": [
    {
     "data": {
      "text/plain": [
       "[counts    1\n",
       " Name: A165, dtype: int64, counts    1340\n",
       " Name: B300, dtype: int64, counts    9\n",
       " Name: C692, dtype: int64, counts    56\n",
       " Name: D310, dtype: int64, counts    136\n",
       " Name: E143, dtype: int64, counts    1\n",
       " Name: F950, dtype: int64, counts    30\n",
       " Name: G245, dtype: int64, counts    15452\n",
       " Name: H041, dtype: int64, counts    24\n",
       " Name: I109, dtype: int64, counts    48\n",
       " Name: J303, dtype: int64, counts    90\n",
       " Name: K30, dtype: int64, counts    22\n",
       " Name: L020, dtype: int64, counts    48\n",
       " Name: M350, dtype: int64, counts    2\n",
       " Name: N185, dtype: int64, counts    8\n",
       " Name: P391, dtype: int64, counts    55\n",
       " Name: Q103, dtype: int64, counts    13\n",
       " Name: R12, dtype: int64, counts    543\n",
       " Name: S050, dtype: int64, counts    1227\n",
       " Name: T151, dtype: int64, counts    2610\n",
       " Name: Z961, dtype: int64]"
      ]
     },
     "execution_count": 107,
     "metadata": {},
     "output_type": "execute_result"
    }
   ],
   "source": [
    "code1_list = []\n",
    "a1 = pd.DataFrame(a1)\n",
    "a1 = a1.rename(columns = {0: 'counts'})\n",
    "a1_max = a1.iloc[a1['counts'].values.argmax()]\n",
    "code1_list.append(a1_max)\n",
    "b1 = pd.DataFrame(b1)\n",
    "b1 = b1.rename(columns = {0: 'counts'})\n",
    "code1_list.append(b1.iloc[b1['counts'].values.argmax()])\n",
    "c1 = pd.DataFrame(c1)\n",
    "c1 = c1.rename(columns = {0: 'counts'})\n",
    "code1_list.append(c1.iloc[c1['counts'].values.argmax()])\n",
    "d1 = pd.DataFrame(d1)\n",
    "d1 = d1.rename(columns = {0: 'counts'})\n",
    "code1_list.append(d1.iloc[d1['counts'].values.argmax()])\n",
    "e1 = pd.DataFrame(e1)\n",
    "e1 = e1.rename(columns = {0: 'counts'})\n",
    "code1_list.append(e1.iloc[e1['counts'].values.argmax()])\n",
    "f1 = pd.DataFrame(f1)\n",
    "f1 = f1.rename(columns = {0: 'counts'})\n",
    "code1_list.append(f1.iloc[f1['counts'].values.argmax()])\n",
    "g1 = pd.DataFrame(g1)\n",
    "g1 = g1.rename(columns = {0: 'counts'})\n",
    "code1_list.append(g1.iloc[g1['counts'].values.argmax()])\n",
    "h1 = pd.DataFrame(h1)\n",
    "h1 = h1.rename(columns = {0: 'counts'})\n",
    "code1_list.append(h1.iloc[h1['counts'].values.argmax()])\n",
    "i1 = pd.DataFrame(i1)\n",
    "i1 = i1.rename(columns = {0: 'counts'})\n",
    "code1_list.append(i1.iloc[i1['counts'].values.argmax()])\n",
    "j1 = pd.DataFrame(j1)\n",
    "j1 = j1.rename(columns = {0: 'counts'})\n",
    "code1_list.append(j1.iloc[j1['counts'].values.argmax()])\n",
    "k1 = pd.DataFrame(k1)\n",
    "k1 = k1.rename(columns = {0: 'counts'})\n",
    "code1_list.append(k1.iloc[k1['counts'].values.argmax()])\n",
    "l1 = pd.DataFrame(l1)\n",
    "l1 = l1.rename(columns = {0: 'counts'})\n",
    "code1_list.append(l1.iloc[l1['counts'].values.argmax()])\n",
    "m1 = pd.DataFrame(m1)\n",
    "m1 = m1.rename(columns = {0: 'counts'})\n",
    "code1_list.append(m1.iloc[m1['counts'].values.argmax()])\n",
    "n1 = pd.DataFrame(n1)\n",
    "n1 = n1.rename(columns = {0: 'counts'})\n",
    "code1_list.append(n1.iloc[n1['counts'].values.argmax()])\n",
    "o1 = pd.DataFrame(o1)\n",
    "o1 = o1.rename(columns = {0: 'counts'})\n",
    "#code1_list.append(o1.iloc[o1['counts'].values.argmax()])\n",
    "p1 = pd.DataFrame(p1)\n",
    "p1 = p1.rename(columns = {0: 'counts'})\n",
    "code1_list.append(p1.iloc[p1['counts'].values.argmax()])\n",
    "q1 = pd.DataFrame(q1)\n",
    "q1 = q1.rename(columns = {0: 'counts'})\n",
    "code1_list.append(q1.iloc[q1['counts'].values.argmax()])\n",
    "r1 = pd.DataFrame(r1)\n",
    "r1 = r1.rename(columns = {0: 'counts'})\n",
    "code1_list.append(r1.iloc[r1['counts'].values.argmax()])\n",
    "s1 = pd.DataFrame(s1)\n",
    "s1 = s1.rename(columns = {0: 'counts'})\n",
    "code1_list.append(s1.iloc[s1['counts'].values.argmax()])\n",
    "t1 = pd.DataFrame(t1)\n",
    "t1 = t1.rename(columns = {0: 'counts'})\n",
    "code1_list.append(t1.iloc[t1['counts'].values.argmax()])\n",
    "u1 = pd.DataFrame(u1)\n",
    "u1 = u1.rename(columns = {0: 'counts'})\n",
    "#code1_list.append(u1.iloc[u1['counts'].values.argmax()])\n",
    "v1 = pd.DataFrame(v1)\n",
    "v1 = v1.rename(columns = {0: 'counts'})\n",
    "#code1_list.append(v1.iloc[v1['counts'].values.argmax()])\n",
    "w1 = pd.DataFrame(w1)\n",
    "w1 = w1.rename(columns = {0: 'counts'})\n",
    "#code1_list.append(w1.iloc[w1['counts'].values.argmax()])\n",
    "x1 = pd.DataFrame(x1)\n",
    "x1 = x1.rename(columns = {0: 'counts'})\n",
    "#code1_list.append(x1.iloc[x1['counts'].values.argmax()])\n",
    "y1 = pd.DataFrame(y1)\n",
    "y1 = y1.rename(columns = {0: 'counts'})\n",
    "#code1_list.append(y1.iloc[y1['counts'].values.argmax()])\n",
    "z1 = pd.DataFrame(z1)\n",
    "z1 = z1.rename(columns = {0: 'counts'})\n",
    "code1_list.append(z1.iloc[z1['counts'].values.argmax()])\n",
    "code1_list"
   ]
  },
  {
   "cell_type": "code",
   "execution_count": 109,
   "metadata": {
    "collapsed": false
   },
   "outputs": [
    {
     "name": "stderr",
     "output_type": "stream",
     "text": [
      "C:\\ProgramData\\Anaconda3\\lib\\site-packages\\ipykernel\\__main__.py:2: SettingWithCopyWarning: \n",
      "A value is trying to be set on a copy of a slice from a DataFrame.\n",
      "Try using .loc[row_indexer,col_indexer] = value instead\n",
      "\n",
      "See the caveats in the documentation: http://pandas.pydata.org/pandas-docs/stable/indexing.html#indexing-view-versus-copy\n",
      "  from ipykernel import kernelapp as app\n",
      "C:\\ProgramData\\Anaconda3\\lib\\site-packages\\ipykernel\\__main__.py:6: SettingWithCopyWarning: \n",
      "A value is trying to be set on a copy of a slice from a DataFrame.\n",
      "Try using .loc[row_indexer,col_indexer] = value instead\n",
      "\n",
      "See the caveats in the documentation: http://pandas.pydata.org/pandas-docs/stable/indexing.html#indexing-view-versus-copy\n",
      "C:\\ProgramData\\Anaconda3\\lib\\site-packages\\ipykernel\\__main__.py:10: SettingWithCopyWarning: \n",
      "A value is trying to be set on a copy of a slice from a DataFrame.\n",
      "Try using .loc[row_indexer,col_indexer] = value instead\n",
      "\n",
      "See the caveats in the documentation: http://pandas.pydata.org/pandas-docs/stable/indexing.html#indexing-view-versus-copy\n",
      "C:\\ProgramData\\Anaconda3\\lib\\site-packages\\matplotlib\\pyplot.py:524: RuntimeWarning: More than 20 figures have been opened. Figures created through the pyplot interface (`matplotlib.pyplot.figure`) are retained until explicitly closed and may consume too much memory. (To control this warning, see the rcParam `figure.max_open_warning`).\n",
      "  max_open_warning, RuntimeWarning)\n"
     ]
    }
   ],
   "source": [
    "code1_st_graph1 = ms_2010_2015_code1_nd[ms_2010_2015_code1_nd['main_sick'].str.match('H041')]\n",
    "code1_st_graph1['main_sick'] = code1_st_graph1['main_sick'].map({'H041': 'Other disorders of lacrimal gland'})\n",
    "code1_st_graph1 = pd.value_counts(code1_st_graph1['main_sick'].values, sort = False)\n",
    "code1_st_graph1 = pd.DataFrame(code1_st_graph1)\n",
    "code1_st_graph2 = ms_2010_2015_code1_nd[ms_2010_2015_code1_nd['main_sick'].str.match('Z961')]\n",
    "code1_st_graph2['main_sick'] = code1_st_graph2['main_sick'].map({'Z961': 'Presence of intraocular lens'})\n",
    "code1_st_graph2 = pd.value_counts(code1_st_graph2['main_sick'].values, sort = False)\n",
    "code1_st_graph2 = pd.DataFrame(code1_st_graph2)\n",
    "code1_st_graph3 = ms_2010_2015_code1_nd[ms_2010_2015_code1_nd['main_sick'].str.match('B300')]\n",
    "code1_st_graph3['main_sick'] = code1_st_graph3['main_sick'].map({'B300': 'Keratoconjunctivitis due to adenovirus'})\n",
    "code1_st_graph3 = pd.value_counts(code1_st_graph3['main_sick'].values, sort = False)\n",
    "code1_st_graph3 = pd.DataFrame(code1_st_graph3)\n",
    "c1_st_123 = pd.concat([code1_st_graph1, code1_st_graph2, code1_st_graph3]).reset_index()\n",
    "c1_st_123 = c1_st_123.rename(columns = {'index' : 'main_sick', 0: 'Total_patients'})\n",
    "color = ['limegreen', 'palegreen', 'honeydew']\n",
    "c1_st_123.plot(kind = 'pie', y = 'Total_patients', autopct = '%1.1f%%', startangle = 180, labels = c1_st_123['main_sick'], legend = True, title = 'May', colors = color, figsize = (15, 10))\n",
    "plt.axis('equal')\n",
    "plt.tight_layout()\n",
    "savefig('안과 5월 main_sick pie chart.png', dpi = 1000)"
   ]
  },
  {
   "cell_type": "markdown",
   "metadata": {},
   "source": [
    "## Third Month Find 3 Large main_sick¶"
   ]
  },
  {
   "cell_type": "code",
   "execution_count": 110,
   "metadata": {
    "collapsed": true
   },
   "outputs": [],
   "source": [
    "a1 = pd.value_counts(ms_2010_2015_code1_th[ms_2010_2015_code1_th['main_sick'].str.match('A')]['main_sick'].values, sort = True)\n",
    "b1 = pd.value_counts(ms_2010_2015_code1_th[ms_2010_2015_code1_th['main_sick'].str.match('B')]['main_sick'].values, sort = True)\n",
    "c1 = pd.value_counts(ms_2010_2015_code1_th[ms_2010_2015_code1_th['main_sick'].str.match('C')]['main_sick'].values, sort = True)\n",
    "d1 = pd.value_counts(ms_2010_2015_code1_th[ms_2010_2015_code1_th['main_sick'].str.match('D')]['main_sick'].values, sort = True)\n",
    "e1 = pd.value_counts(ms_2010_2015_code1_th[ms_2010_2015_code1_th['main_sick'].str.match('E')]['main_sick'].values, sort = True)\n",
    "f1 = pd.value_counts(ms_2010_2015_code1_th[ms_2010_2015_code1_th['main_sick'].str.match('F')]['main_sick'].values, sort = True)\n",
    "g1 = pd.value_counts(ms_2010_2015_code1_th[ms_2010_2015_code1_th['main_sick'].str.match('G')]['main_sick'].values, sort = True)\n",
    "h1 = pd.value_counts(ms_2010_2015_code1_th[ms_2010_2015_code1_th['main_sick'].str.match('H')]['main_sick'].values, sort = True)\n",
    "i1 = pd.value_counts(ms_2010_2015_code1_th[ms_2010_2015_code1_th['main_sick'].str.match('I')]['main_sick'].values, sort = True)\n",
    "j1 = pd.value_counts(ms_2010_2015_code1_th[ms_2010_2015_code1_th['main_sick'].str.match('J')]['main_sick'].values, sort = True)\n",
    "k1 = pd.value_counts(ms_2010_2015_code1_th[ms_2010_2015_code1_th['main_sick'].str.match('K')]['main_sick'].values, sort = True)\n",
    "l1 = pd.value_counts(ms_2010_2015_code1_th[ms_2010_2015_code1_th['main_sick'].str.match('L')]['main_sick'].values, sort = True)\n",
    "m1 = pd.value_counts(ms_2010_2015_code1_th[ms_2010_2015_code1_th['main_sick'].str.match('M')]['main_sick'].values, sort = True)\n",
    "n1 = pd.value_counts(ms_2010_2015_code1_th[ms_2010_2015_code1_th['main_sick'].str.match('N')]['main_sick'].values, sort = True)\n",
    "o1 = pd.value_counts(ms_2010_2015_code1_th[ms_2010_2015_code1_th['main_sick'].str.match('O')]['main_sick'].values, sort = True)\n",
    "p1 = pd.value_counts(ms_2010_2015_code1_th[ms_2010_2015_code1_th['main_sick'].str.match('P')]['main_sick'].values, sort = True)\n",
    "q1 = pd.value_counts(ms_2010_2015_code1_th[ms_2010_2015_code1_th['main_sick'].str.match('Q')]['main_sick'].values, sort = True)\n",
    "r1 = pd.value_counts(ms_2010_2015_code1_th[ms_2010_2015_code1_th['main_sick'].str.match('R')]['main_sick'].values, sort = True)\n",
    "s1 = pd.value_counts(ms_2010_2015_code1_th[ms_2010_2015_code1_th['main_sick'].str.match('S')]['main_sick'].values, sort = True)\n",
    "t1 = pd.value_counts(ms_2010_2015_code1_th[ms_2010_2015_code1_th['main_sick'].str.match('T')]['main_sick'].values, sort = True)\n",
    "u1 = pd.value_counts(ms_2010_2015_code1_th[ms_2010_2015_code1_th['main_sick'].str.match('U')]['main_sick'].values, sort = True)\n",
    "v1 = pd.value_counts(ms_2010_2015_code1_th[ms_2010_2015_code1_th['main_sick'].str.match('V')]['main_sick'].values, sort = True)\n",
    "w1 = pd.value_counts(ms_2010_2015_code1_th[ms_2010_2015_code1_th['main_sick'].str.match('W')]['main_sick'].values, sort = True)\n",
    "x1 = pd.value_counts(ms_2010_2015_code1_th[ms_2010_2015_code1_th['main_sick'].str.match('X')]['main_sick'].values, sort = True)\n",
    "y1 = pd.value_counts(ms_2010_2015_code1_th[ms_2010_2015_code1_th['main_sick'].str.match('Y')]['main_sick'].values, sort = True)\n",
    "z1 = pd.value_counts(ms_2010_2015_code1_th[ms_2010_2015_code1_th['main_sick'].str.match('Z')]['main_sick'].values, sort = True)"
   ]
  },
  {
   "cell_type": "code",
   "execution_count": 111,
   "metadata": {
    "collapsed": false
   },
   "outputs": [
    {
     "data": {
      "text/plain": [
       "[counts    2\n",
       " Name: A151, dtype: int64, counts    1229\n",
       " Name: B300, dtype: int64, counts    9\n",
       " Name: C439, dtype: int64, counts    52\n",
       " Name: D310, dtype: int64, counts    158\n",
       " Name: E143, dtype: int64, counts    1\n",
       " Name: F950, dtype: int64, counts    33\n",
       " Name: G245, dtype: int64, counts    15724\n",
       " Name: H041, dtype: int64, counts    31\n",
       " Name: I109, dtype: int64, counts    44\n",
       " Name: J039, dtype: int64, counts    104\n",
       " Name: K30, dtype: int64, counts    29\n",
       " Name: L020, dtype: int64, counts    51\n",
       " Name: M350, dtype: int64, counts    6\n",
       " Name: N185, dtype: int64, counts    64\n",
       " Name: Q103, dtype: int64, counts    15\n",
       " Name: R42, dtype: int64, counts    573\n",
       " Name: S050, dtype: int64, counts    1249\n",
       " Name: T151, dtype: int64, counts    2902\n",
       " Name: Z961, dtype: int64]"
      ]
     },
     "execution_count": 111,
     "metadata": {},
     "output_type": "execute_result"
    }
   ],
   "source": [
    "code1_list = []\n",
    "a1 = pd.DataFrame(a1)\n",
    "a1 = a1.rename(columns = {0: 'counts'})\n",
    "a1_max = a1.iloc[a1['counts'].values.argmax()]\n",
    "code1_list.append(a1_max)\n",
    "b1 = pd.DataFrame(b1)\n",
    "b1 = b1.rename(columns = {0: 'counts'})\n",
    "code1_list.append(b1.iloc[b1['counts'].values.argmax()])\n",
    "c1 = pd.DataFrame(c1)\n",
    "c1 = c1.rename(columns = {0: 'counts'})\n",
    "code1_list.append(c1.iloc[c1['counts'].values.argmax()])\n",
    "d1 = pd.DataFrame(d1)\n",
    "d1 = d1.rename(columns = {0: 'counts'})\n",
    "code1_list.append(d1.iloc[d1['counts'].values.argmax()])\n",
    "e1 = pd.DataFrame(e1)\n",
    "e1 = e1.rename(columns = {0: 'counts'})\n",
    "code1_list.append(e1.iloc[e1['counts'].values.argmax()])\n",
    "f1 = pd.DataFrame(f1)\n",
    "f1 = f1.rename(columns = {0: 'counts'})\n",
    "code1_list.append(f1.iloc[f1['counts'].values.argmax()])\n",
    "g1 = pd.DataFrame(g1)\n",
    "g1 = g1.rename(columns = {0: 'counts'})\n",
    "code1_list.append(g1.iloc[g1['counts'].values.argmax()])\n",
    "h1 = pd.DataFrame(h1)\n",
    "h1 = h1.rename(columns = {0: 'counts'})\n",
    "code1_list.append(h1.iloc[h1['counts'].values.argmax()])\n",
    "i1 = pd.DataFrame(i1)\n",
    "i1 = i1.rename(columns = {0: 'counts'})\n",
    "code1_list.append(i1.iloc[i1['counts'].values.argmax()])\n",
    "j1 = pd.DataFrame(j1)\n",
    "j1 = j1.rename(columns = {0: 'counts'})\n",
    "code1_list.append(j1.iloc[j1['counts'].values.argmax()])\n",
    "k1 = pd.DataFrame(k1)\n",
    "k1 = k1.rename(columns = {0: 'counts'})\n",
    "code1_list.append(k1.iloc[k1['counts'].values.argmax()])\n",
    "l1 = pd.DataFrame(l1)\n",
    "l1 = l1.rename(columns = {0: 'counts'})\n",
    "code1_list.append(l1.iloc[l1['counts'].values.argmax()])\n",
    "m1 = pd.DataFrame(m1)\n",
    "m1 = m1.rename(columns = {0: 'counts'})\n",
    "code1_list.append(m1.iloc[m1['counts'].values.argmax()])\n",
    "n1 = pd.DataFrame(n1)\n",
    "n1 = n1.rename(columns = {0: 'counts'})\n",
    "code1_list.append(n1.iloc[n1['counts'].values.argmax()])\n",
    "o1 = pd.DataFrame(o1)\n",
    "o1 = o1.rename(columns = {0: 'counts'})\n",
    "#code1_list.append(o1.iloc[o1['counts'].values.argmax()])\n",
    "p1 = pd.DataFrame(p1)\n",
    "p1 = p1.rename(columns = {0: 'counts'})\n",
    "#code1_list.append(p1.iloc[p1['counts'].values.argmax()])\n",
    "q1 = pd.DataFrame(q1)\n",
    "q1 = q1.rename(columns = {0: 'counts'})\n",
    "code1_list.append(q1.iloc[q1['counts'].values.argmax()])\n",
    "r1 = pd.DataFrame(r1)\n",
    "r1 = r1.rename(columns = {0: 'counts'})\n",
    "code1_list.append(r1.iloc[r1['counts'].values.argmax()])\n",
    "s1 = pd.DataFrame(s1)\n",
    "s1 = s1.rename(columns = {0: 'counts'})\n",
    "code1_list.append(s1.iloc[s1['counts'].values.argmax()])\n",
    "t1 = pd.DataFrame(t1)\n",
    "t1 = t1.rename(columns = {0: 'counts'})\n",
    "code1_list.append(t1.iloc[t1['counts'].values.argmax()])\n",
    "u1 = pd.DataFrame(u1)\n",
    "u1 = u1.rename(columns = {0: 'counts'})\n",
    "#code1_list.append(u1.iloc[u1['counts'].values.argmax()])\n",
    "v1 = pd.DataFrame(v1)\n",
    "v1 = v1.rename(columns = {0: 'counts'})\n",
    "#code1_list.append(v1.iloc[v1['counts'].values.argmax()])\n",
    "w1 = pd.DataFrame(w1)\n",
    "w1 = w1.rename(columns = {0: 'counts'})\n",
    "#code1_list.append(w1.iloc[w1['counts'].values.argmax()])\n",
    "x1 = pd.DataFrame(x1)\n",
    "x1 = x1.rename(columns = {0: 'counts'})\n",
    "#code1_list.append(x1.iloc[x1['counts'].values.argmax()])\n",
    "y1 = pd.DataFrame(y1)\n",
    "y1 = y1.rename(columns = {0: 'counts'})\n",
    "#code1_list.append(y1.iloc[y1['counts'].values.argmax()])\n",
    "z1 = pd.DataFrame(z1)\n",
    "z1 = z1.rename(columns = {0: 'counts'})\n",
    "code1_list.append(z1.iloc[z1['counts'].values.argmax()])\n",
    "code1_list"
   ]
  },
  {
   "cell_type": "code",
   "execution_count": 112,
   "metadata": {
    "collapsed": false
   },
   "outputs": [
    {
     "name": "stderr",
     "output_type": "stream",
     "text": [
      "C:\\ProgramData\\Anaconda3\\lib\\site-packages\\ipykernel\\__main__.py:2: SettingWithCopyWarning: \n",
      "A value is trying to be set on a copy of a slice from a DataFrame.\n",
      "Try using .loc[row_indexer,col_indexer] = value instead\n",
      "\n",
      "See the caveats in the documentation: http://pandas.pydata.org/pandas-docs/stable/indexing.html#indexing-view-versus-copy\n",
      "  from ipykernel import kernelapp as app\n",
      "C:\\ProgramData\\Anaconda3\\lib\\site-packages\\ipykernel\\__main__.py:6: SettingWithCopyWarning: \n",
      "A value is trying to be set on a copy of a slice from a DataFrame.\n",
      "Try using .loc[row_indexer,col_indexer] = value instead\n",
      "\n",
      "See the caveats in the documentation: http://pandas.pydata.org/pandas-docs/stable/indexing.html#indexing-view-versus-copy\n",
      "C:\\ProgramData\\Anaconda3\\lib\\site-packages\\ipykernel\\__main__.py:10: SettingWithCopyWarning: \n",
      "A value is trying to be set on a copy of a slice from a DataFrame.\n",
      "Try using .loc[row_indexer,col_indexer] = value instead\n",
      "\n",
      "See the caveats in the documentation: http://pandas.pydata.org/pandas-docs/stable/indexing.html#indexing-view-versus-copy\n",
      "C:\\ProgramData\\Anaconda3\\lib\\site-packages\\matplotlib\\pyplot.py:524: RuntimeWarning: More than 20 figures have been opened. Figures created through the pyplot interface (`matplotlib.pyplot.figure`) are retained until explicitly closed and may consume too much memory. (To control this warning, see the rcParam `figure.max_open_warning`).\n",
      "  max_open_warning, RuntimeWarning)\n"
     ]
    }
   ],
   "source": [
    "code1_st_graph1 = ms_2010_2015_code1_th[ms_2010_2015_code1_th['main_sick'].str.match('H041')]\n",
    "code1_st_graph1['main_sick'] = code1_st_graph1['main_sick'].map({'H041': 'Other disorders of lacrimal gland'})\n",
    "code1_st_graph1 = pd.value_counts(code1_st_graph1['main_sick'].values, sort = False)\n",
    "code1_st_graph1 = pd.DataFrame(code1_st_graph1)\n",
    "code1_st_graph2 = ms_2010_2015_code1_th[ms_2010_2015_code1_th['main_sick'].str.match('Z961')]\n",
    "code1_st_graph2['main_sick'] = code1_st_graph2['main_sick'].map({'Z961': 'Presence of intraocular lens'})\n",
    "code1_st_graph2 = pd.value_counts(code1_st_graph2['main_sick'].values, sort = False)\n",
    "code1_st_graph2 = pd.DataFrame(code1_st_graph2)\n",
    "code1_st_graph3 = ms_2010_2015_code1_th[ms_2010_2015_code1_th['main_sick'].str.match('T151')]\n",
    "code1_st_graph3['main_sick'] = code1_st_graph3['main_sick'].map({'T151': 'Foreign body in conjunctival sac'})\n",
    "code1_st_graph3 = pd.value_counts(code1_st_graph3['main_sick'].values, sort = False)\n",
    "code1_st_graph3 = pd.DataFrame(code1_st_graph3)\n",
    "c1_st_123 = pd.concat([code1_st_graph1, code1_st_graph2, code1_st_graph3]).reset_index()\n",
    "c1_st_123 = c1_st_123.rename(columns = {'index' : 'main_sick', 0: 'Total_patients'})\n",
    "color = ['limegreen', 'palegreen', 'honeydew']\n",
    "c1_st_123.plot(kind = 'pie', y = 'Total_patients', autopct = '%1.1f%%', startangle = 180, labels = c1_st_123['main_sick'], legend = True, title = 'April', colors = color, figsize = (15, 10))\n",
    "plt.axis('equal')\n",
    "plt.tight_layout()\n",
    "savefig('안과 4월 main_sick pie chart.png', dpi = 1000)"
   ]
  }
 ],
 "metadata": {
  "kernelspec": {
   "display_name": "Python 3",
   "language": "python",
   "name": "python3"
  },
  "language_info": {
   "codemirror_mode": {
    "name": "ipython",
    "version": 3
   },
   "file_extension": ".py",
   "mimetype": "text/x-python",
   "name": "python",
   "nbconvert_exporter": "python",
   "pygments_lexer": "ipython3",
   "version": "3.6.0"
  }
 },
 "nbformat": 4,
 "nbformat_minor": 2
}
